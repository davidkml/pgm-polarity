{
 "cells": [
  {
   "cell_type": "markdown",
   "metadata": {},
   "source": [
    "# KNN Notebook\n",
    "\n",
    "This notebook runs KNN and gets pretty high accuracy values..."
   ]
  },
  {
   "cell_type": "markdown",
   "metadata": {},
   "source": [
    "### Setup"
   ]
  },
  {
   "cell_type": "code",
   "execution_count": 1,
   "metadata": {},
   "outputs": [],
   "source": [
    "import csv\n",
    "import heapq\n",
    "import numpy as np\n",
    "import random\n",
    "from sklearn.model_selection import train_test_split\n",
    "from sklearn.neighbors import KNeighborsClassifier\n",
    "from sklearn import metrics\n",
    "\n",
    "%load_ext autoreload\n",
    "%autoreload 2"
   ]
  },
  {
   "cell_type": "markdown",
   "metadata": {},
   "source": [
    "### Parse node labels"
   ]
  },
  {
   "cell_type": "code",
   "execution_count": 2,
   "metadata": {},
   "outputs": [],
   "source": [
    "node_label = {}\n",
    "#read node labels\n",
    "with open('data/icwsm_polarization/all.nodes') as csv_file:\n",
    "    csv_reader = csv.reader(csv_file, delimiter='\\t')\n",
    "    for row in csv_reader:\n",
    "        # 1 for left, 0 for right\n",
    "        if row[1] == 'left':\n",
    "            node_label[row[0]] = 1\n",
    "        elif row[1] == 'right':\n",
    "            node_label[row[0]] = 0"
   ]
  },
  {
   "cell_type": "markdown",
   "metadata": {},
   "source": [
    "### Parse Most Frequent Hashtags"
   ]
  },
  {
   "cell_type": "code",
   "execution_count": 6,
   "metadata": {},
   "outputs": [],
   "source": [
    "word_freq = {}\n",
    "with open('data/icwsm_polarization/all.edgelist') as csv_file:\n",
    "        csv_reader = csv.reader(csv_file, delimiter='\\t')\n",
    "        line_count = 0\n",
    "        for row in csv_reader:\n",
    "            for token in row[5:]:\n",
    "                if token not in word_freq.keys():\n",
    "                    word_freq[token] = 1\n",
    "                else:\n",
    "                    word_freq[token] += 1\n",
    "            line_count += 1\n",
    "        \n",
    "        most_freq = heapq.nlargest(200, word_freq, key=word_freq.get)"
   ]
  },
  {
   "cell_type": "markdown",
   "metadata": {},
   "source": [
    "### Build bag of hashtags"
   ]
  },
  {
   "cell_type": "code",
   "execution_count": 8,
   "metadata": {},
   "outputs": [],
   "source": [
    "#build dictionary where every node has a list of (bag of hashtags, label) tuples\n",
    "node_tweets = {}\n",
    "\n",
    "#iterate over every row in all.edgelist\n",
    "with open('data/icwsm_polarization/all.edgelist') as csv_file:\n",
    "    csv_reader = csv.reader(csv_file, delimiter='\\t')\n",
    "    for row in csv_reader:\n",
    "        datapoint = []\n",
    "        #if retweet, take label from B node, else take label from A node\n",
    "        if row[2] == 'retweet':\n",
    "            #is a retweet -> Take label from B node\n",
    "            #check if B node in edge is in labels\n",
    "            if row[1] not in node_label.keys():\n",
    "                #node label is '-'\n",
    "                continue\n",
    "            #construct bag of hashtags\n",
    "            for token in most_freq:\n",
    "                if token in row[5:]:\n",
    "                    datapoint.append(1)\n",
    "                else:\n",
    "                    datapoint.append(0)\n",
    "            #add (data, label) tuple to node dictionary\n",
    "            if row[1] not in node_tweets.keys():\n",
    "                node_tweets[row[1]] = [(datapoint, node_label[row[1]])]\n",
    "            else:\n",
    "                node_tweets[row[1]].append((datapoint, node_label[row[1]]))\n",
    "        else:\n",
    "            #is a mention -> take label from A node\n",
    "            if row[0] not in node_label.keys():\n",
    "                #node label is '-'\n",
    "                continue\n",
    "            #construct bag of hashtags\n",
    "            for token in most_freq:\n",
    "                if token in row[5:]:\n",
    "                    datapoint.append(1)\n",
    "                else:\n",
    "                    datapoint.append(0)\n",
    "            #add (data, label) tuple to node dictionary\n",
    "            if row[0] not in node_tweets.keys():\n",
    "                node_tweets[row[0]] = [(datapoint, node_label[row[0]])]\n",
    "            else:\n",
    "                node_tweets[row[0]].append((datapoint, node_label[row[0]]))"
   ]
  },
  {
   "cell_type": "markdown",
   "metadata": {},
   "source": [
    "### Split data into train and test based on indivial nodes"
   ]
  },
  {
   "cell_type": "code",
   "execution_count": 17,
   "metadata": {},
   "outputs": [],
   "source": [
    "keys = list(node_tweets.keys())\n",
    "random.shuffle(keys)\n",
    "test_size = 0.3\n",
    "n_train = int((1-test_size) * len(keys))\n",
    "train_keys = keys[:n_train]\n",
    "test_keys = keys[n_train:]\n",
    "\n",
    "X = []\n",
    "y = []\n",
    "'''    for tup in node_tweets[key]:\n",
    "        X.append(tup[0])\n",
    "        y.append(tup[1])\n",
    "'''\n",
    "for key in train_keys:\n",
    "    tup = node_tweets[key][0]\n",
    "    X.append(tup[0])\n",
    "    y.append(tup[1])\n",
    "X_train = np.asarray(X)\n",
    "y_train = np.asarray(y)\n",
    "\n",
    "X = []\n",
    "y = []\n",
    "for key in test_keys:\n",
    "    tup = node_tweets[key][0]\n",
    "    X.append(tup[0])\n",
    "    y.append(tup[1])\n",
    "X_test = np.asarray(X)\n",
    "y_test = np.asarray(y)"
   ]
  },
  {
   "cell_type": "markdown",
   "metadata": {},
   "source": [
    "### Create KNN Classifier and Run"
   ]
  },
  {
   "cell_type": "code",
   "execution_count": 18,
   "metadata": {},
   "outputs": [
    {
     "name": "stdout",
     "output_type": "stream",
     "text": [
      "Accuracy: 0.8308106987352271\n"
     ]
    }
   ],
   "source": [
    "#Create KNN Classifier\n",
    "knn = KNeighborsClassifier(n_neighbors=5)\n",
    "\n",
    "#Train the model using the training sets\n",
    "knn.fit(X_train, y_train)\n",
    "\n",
    "#Predict the response for test dataset\n",
    "y_pred = knn.predict(X_test)\n",
    "\n",
    "# Model Accuracy, how often is the classifier correct?\n",
    "print(\"Accuracy:\", metrics.accuracy_score(y_test, y_pred))"
   ]
  }
 ],
 "metadata": {
  "kernelspec": {
   "display_name": "Python 3",
   "language": "python",
   "name": "python3"
  },
  "language_info": {
   "codemirror_mode": {
    "name": "ipython",
    "version": 3
   },
   "file_extension": ".py",
   "mimetype": "text/x-python",
   "name": "python",
   "nbconvert_exporter": "python",
   "pygments_lexer": "ipython3",
   "version": "3.7.5"
  }
 },
 "nbformat": 4,
 "nbformat_minor": 2
}
