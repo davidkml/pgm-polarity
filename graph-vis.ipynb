{
 "cells": [
  {
   "cell_type": "code",
   "execution_count": 318,
   "metadata": {},
   "outputs": [],
   "source": [
    "import numpy as np\n",
    "import matplotlib.pyplot as plt\n",
    "\n",
    "import pickle\n",
    "import igraph"
   ]
  },
  {
   "cell_type": "code",
   "execution_count": 342,
   "metadata": {},
   "outputs": [],
   "source": [
    "m_graph = pickle.load(open('./data/icwsm_polarization/mention_igraph.pickle', \"rb\"))\n",
    "r_graph = pickle.load(open('./data/icwsm_polarization/retweet_igraph.pickle', \"rb\"))"
   ]
  },
  {
   "cell_type": "code",
   "execution_count": 343,
   "metadata": {},
   "outputs": [],
   "source": [
    "all_graph = pickle.load(open('./data/icwsm_polarization/all_igraph.pickle', \"rb\"))"
   ]
  },
  {
   "cell_type": "code",
   "execution_count": 344,
   "metadata": {},
   "outputs": [
    {
     "data": {
      "text/plain": [
       "['tags', 'type', 'urls', 'time']"
      ]
     },
     "execution_count": 344,
     "metadata": {},
     "output_type": "execute_result"
    }
   ],
   "source": [
    "r_graph.edge_attributes()"
   ]
  },
  {
   "cell_type": "code",
   "execution_count": 345,
   "metadata": {},
   "outputs": [
    {
     "data": {
      "text/plain": [
       "[(12464, 7349),\n",
       " (6820, 12569),\n",
       " (4336, 15967),\n",
       " (16397, 5927),\n",
       " (8829, 13851),\n",
       " (17673, 5153),\n",
       " (5467, 3944),\n",
       " (9864, 2813),\n",
       " (15781, 5425),\n",
       " (1195, 6940)]"
      ]
     },
     "execution_count": 345,
     "metadata": {},
     "output_type": "execute_result"
    }
   ],
   "source": [
    "r_graph.get_edgelist()[0:10]"
   ]
  },
  {
   "cell_type": "code",
   "execution_count": 346,
   "metadata": {},
   "outputs": [
    {
     "data": {
      "text/plain": [
       "[['#tcot', '#tlot'],\n",
       " ['#p2', '#progca', '#casen'],\n",
       " ['#dems', '#ocra', '#p2', '#s'],\n",
       " ['#tcot'],\n",
       " ['#teaparty', '#tcot', '#alaska', '#ak'],\n",
       " ['#desen', '#tcot', '#teaparty'],\n",
       " ['#cuba', '#obama', '#eeuu'],\n",
       " ['#ocra', '#tcot'],\n",
       " ['#dems'],\n",
       " ['#tcot', '#teaparty', '#sgp']]"
      ]
     },
     "execution_count": 346,
     "metadata": {},
     "output_type": "execute_result"
    }
   ],
   "source": [
    "r_graph.es[\"tags\"][0:10]"
   ]
  },
  {
   "cell_type": "code",
   "execution_count": 347,
   "metadata": {},
   "outputs": [],
   "source": [
    "def reverse_igraph_edges(graph):\n",
    "    edge_attributes = graph.edge_attributes()\n",
    "    attributes_dict = {attr:r_graph.es[attr] for attr in edge_attributes}\n",
    "    \n",
    "    reversed_edges = [tuple(reversed(edge)) for edge  in graph.get_edgelist()]\n",
    "    \n",
    "    graph.es.delete()\n",
    "    \n",
    "    graph.add_edges(reversed_edges)\n",
    "    \n",
    "    for attr in edge_attributes:\n",
    "        r_graph.es[attr] = edge_attributes_dict[attr]\n"
   ]
  },
  {
   "cell_type": "code",
   "execution_count": 348,
   "metadata": {},
   "outputs": [],
   "source": [
    "reverse_igraph_edges(r_graph)"
   ]
  },
  {
   "cell_type": "code",
   "execution_count": 349,
   "metadata": {},
   "outputs": [
    {
     "data": {
      "text/plain": [
       "[(7349, 12464),\n",
       " (12569, 6820),\n",
       " (15967, 4336),\n",
       " (5927, 16397),\n",
       " (13851, 8829),\n",
       " (5153, 17673),\n",
       " (3944, 5467),\n",
       " (2813, 9864),\n",
       " (5425, 15781),\n",
       " (6940, 1195)]"
      ]
     },
     "execution_count": 349,
     "metadata": {},
     "output_type": "execute_result"
    }
   ],
   "source": [
    "r_graph.get_edgelist()[0:10]"
   ]
  },
  {
   "cell_type": "code",
   "execution_count": 326,
   "metadata": {},
   "outputs": [
    {
     "data": {
      "text/plain": [
       "[['#tcot', '#tlot'],\n",
       " ['#p2', '#progca', '#casen'],\n",
       " ['#dems', '#ocra', '#p2', '#s'],\n",
       " ['#tcot'],\n",
       " ['#teaparty', '#tcot', '#alaska', '#ak'],\n",
       " ['#desen', '#tcot', '#teaparty'],\n",
       " ['#cuba', '#obama', '#eeuu'],\n",
       " ['#ocra', '#tcot'],\n",
       " ['#dems'],\n",
       " ['#tcot', '#teaparty', '#sgp']]"
      ]
     },
     "execution_count": 326,
     "metadata": {},
     "output_type": "execute_result"
    }
   ],
   "source": [
    "r_graph.es[\"tags\"][0:10]"
   ]
  },
  {
   "cell_type": "code",
   "execution_count": 3,
   "metadata": {},
   "outputs": [],
   "source": [
    "m_layout = m_graph.layout(\"large\")"
   ]
  },
  {
   "cell_type": "code",
   "execution_count": 4,
   "metadata": {},
   "outputs": [],
   "source": [
    "r_layout=r_graph.layout(\"large\")"
   ]
  },
  {
   "cell_type": "code",
   "execution_count": 5,
   "metadata": {},
   "outputs": [],
   "source": [
    "m_graph.vs[\"size\"]=4\n",
    "m_graph.es[\"arrow_size\"]=0.3\n",
    "m_graph.es[\"width\"]=0.5\n",
    "m_graph.es[\"color\"]=\"#b3b3b3\"\n",
    "color_dict = {\"left\": \"#0015bc\", \"right\": \"#e91d0e\", \"-\": \"grey\"}\n",
    "m_graph.vs[\"color\"] = [color_dict[cluster] for cluster in m_graph.vs[\"cluster\"]]\n",
    "m_out = igraph.plot(m_graph, layout=m_layout)\n",
    "\n",
    "m_out.save(\"mention_network.png\")"
   ]
  },
  {
   "cell_type": "code",
   "execution_count": 76,
   "metadata": {},
   "outputs": [],
   "source": [
    "r_graph.vs[\"size\"]=4\n",
    "r_graph.es[\"arrow_size\"]=0.3\n",
    "r_graph.es[\"width\"]=0.5\n",
    "r_graph.es[\"color\"]=\"#b3b3b3\"\n",
    "color_dict = {\"left\": \"#0015bc\", \"right\": \"#e91d0e\", \"-\": \"grey\"}\n",
    "r_graph.vs[\"color\"] = [color_dict[cluster] for cluster in r_graph.vs[\"cluster\"]]\n",
    "r_out = igraph.plot(r_graph, layout=r_layout)\n",
    "\n",
    "r_out.save(\"retweet_network.png\")"
   ]
  },
  {
   "cell_type": "code",
   "execution_count": 327,
   "metadata": {},
   "outputs": [],
   "source": [
    "def plot_edge_distribution(ax, graph, mode, g_type):\n",
    "    if (mode==\"out\" or mode==\"in\"):\n",
    "        x = list(range(0, graph.maxdegree(mode=mode) + 1))\n",
    "        y =[graph.degree(mode=mode).count(i) for i in x]\n",
    "\n",
    "        ax.loglog(x, y, \"k.\")\n",
    "        ax.set_xlabel(\"number of {}\".format(g_type))\n",
    "        ax.set_ylabel(\"number of users\")"
   ]
  },
  {
   "cell_type": "code",
   "execution_count": 328,
   "metadata": {},
   "outputs": [],
   "source": [
    "width = 12\n",
    "height = width / 1.618"
   ]
  },
  {
   "cell_type": "code",
   "execution_count": 329,
   "metadata": {
    "scrolled": false
   },
   "outputs": [
    {
     "data": {
      "image/png": "[encoded data removed]",
      "text/plain": [
       "<Figure size 864x533.993 with 4 Axes>"
      ]
     },
     "metadata": {
      "needs_background": "light"
     },
     "output_type": "display_data"
    }
   ],
   "source": [
    "fig, ax = plt.subplots(2,2, figsize=(width, height))\n",
    "fig.tight_layout(pad=2.5)\n",
    "plot_edge_distribution(ax[0, 0], r_graph, \"out\", \"retweets received\")\n",
    "plot_edge_distribution(ax[1, 0], r_graph, \"in\", \"retweets given\")\n",
    "plot_edge_distribution(ax[0, 1], m_graph, \"out\", \"mentions received\")\n",
    "plot_edge_distribution(ax[1, 1], m_graph, \"in\", \"mentions given\")\n",
    "fig.savefig(\"edge_distributions.png\", quality=95)"
   ]
  },
  {
   "cell_type": "code",
   "execution_count": null,
   "metadata": {},
   "outputs": [],
   "source": [
    "# Build vocabulary vector\n",
    "# go through all of the edges in the edgelist. If a certain tag is used, then increment the entry in the tag.\n",
    "# will need a dictionary that maps hashtags to indices in the vocabulary vector\n",
    "# then going through the entire edgelist again, will need to look at the source (this is the actor)\n",
    "# and will need to look at the tags associated with that tweet\n",
    "# then going through each tag, find its appropriate index in the vector, and increment it for that actor\n"
   ]
  },
  {
   "cell_type": "code",
   "execution_count": 357,
   "metadata": {},
   "outputs": [],
   "source": [
    "def get_tag_vocab(graph):\n",
    "    tag2index = {}\n",
    "    index = 0\n",
    "    for taglist in graph.es[\"tags\"]:\n",
    "        for tag in taglist:\n",
    "            if tag not in tag2index:\n",
    "                tag2index[tag] = index\n",
    "                index = index + 1\n",
    "\n",
    "    return tag2index\n"
   ]
  },
  {
   "cell_type": "code",
   "execution_count": 408,
   "metadata": {},
   "outputs": [],
   "source": [
    "vocab = get_tag_vocab(all_graph)"
   ]
  },
  {
   "cell_type": "code",
   "execution_count": 413,
   "metadata": {},
   "outputs": [],
   "source": [
    "def get_bag_of_tags(graph, vocab):\n",
    "    n_nodes = len(graph.vs)\n",
    "    n_vocab = len(vocab)\n",
    "    bag_of_tags = np.zeros((n_nodes, n_vocab))\n",
    "\n",
    "    for i in range(len(graph.get_edgelist())):\n",
    "        node_index = graph.es[i].source\n",
    "        for tag in graph.es[i]['tags']:\n",
    "            tag_index = vocab[tag]\n",
    "            bag_of_tags[node_index][tag_index] += 1\n",
    "            \n",
    "    return bag_of_tags"
   ]
  },
  {
   "cell_type": "code",
   "execution_count": 414,
   "metadata": {},
   "outputs": [
    {
     "data": {
      "text/plain": [
       "array([[0., 0., 0., ..., 0., 0., 0.],\n",
       "       [2., 0., 0., ..., 0., 0., 0.],\n",
       "       [0., 0., 0., ..., 0., 0., 0.],\n",
       "       ...,\n",
       "       [8., 0., 0., ..., 0., 0., 0.],\n",
       "       [1., 0., 0., ..., 0., 0., 0.],\n",
       "       [0., 0., 0., ..., 0., 0., 0.]])"
      ]
     },
     "execution_count": 414,
     "metadata": {},
     "output_type": "execute_result"
    }
   ],
   "source": [
    "get_bag_of_tags(all_graph, vocab)"
   ]
  },
  {
   "cell_type": "code",
   "execution_count": null,
   "metadata": {},
   "outputs": [],
   "source": []
  }
 ],
 "metadata": {
  "kernelspec": {
   "display_name": "Python 3",
   "language": "python",
   "name": "python3"
  },
  "language_info": {
   "codemirror_mode": {
    "name": "ipython",
    "version": 3
   },
   "file_extension": ".py",
   "mimetype": "text/x-python",
   "name": "python",
   "nbconvert_exporter": "python",
   "pygments_lexer": "ipython3",
   "version": "3.7.1"
  }
 },
 "nbformat": 4,
 "nbformat_minor": 2
}
