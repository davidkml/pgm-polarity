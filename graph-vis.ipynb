{
 "cells": [
  {
   "cell_type": "code",
   "execution_count": 77,
   "metadata": {},
   "outputs": [],
   "source": [
    "import pickle\n",
    "import igraph"
   ]
  },
  {
   "cell_type": "code",
   "execution_count": 112,
   "metadata": {},
   "outputs": [],
   "source": [
    "m_graph = pickle.load(open('./data/icwsm_polarization/mention_igraph.pickle', \"rb\"))\n",
    "r_graph = pickle.load(open('./data/icwsm_polarization/retweet_igraph.pickle', \"rb\"))"
   ]
  },
  {
   "cell_type": "code",
   "execution_count": 81,
   "metadata": {},
   "outputs": [
    {
     "data": {
      "text/plain": [
       "['tags', 'type', 'urls', 'time']"
      ]
     },
     "execution_count": 81,
     "metadata": {},
     "output_type": "execute_result"
    }
   ],
   "source": [
    "r_graph.edge_attributes()"
   ]
  },
  {
   "cell_type": "code",
   "execution_count": 83,
   "metadata": {},
   "outputs": [
    {
     "data": {
      "text/plain": [
       "[(12464, 7349),\n",
       " (6820, 12569),\n",
       " (4336, 15967),\n",
       " (16397, 5927),\n",
       " (8829, 13851),\n",
       " (17673, 5153),\n",
       " (5467, 3944),\n",
       " (9864, 2813),\n",
       " (15781, 5425),\n",
       " (1195, 6940)]"
      ]
     },
     "execution_count": 83,
     "metadata": {},
     "output_type": "execute_result"
    }
   ],
   "source": [
    "r_graph.get_edgelist()[0:10]"
   ]
  },
  {
   "cell_type": "code",
   "execution_count": 86,
   "metadata": {},
   "outputs": [
    {
     "data": {
      "text/plain": [
       "[['#tcot', '#tlot'],\n",
       " ['#p2', '#progca', '#casen'],\n",
       " ['#dems', '#ocra', '#p2', '#s'],\n",
       " ['#tcot'],\n",
       " ['#teaparty', '#tcot', '#alaska', '#ak'],\n",
       " ['#desen', '#tcot', '#teaparty'],\n",
       " ['#cuba', '#obama', '#eeuu'],\n",
       " ['#ocra', '#tcot'],\n",
       " ['#dems'],\n",
       " ['#tcot', '#teaparty', '#sgp']]"
      ]
     },
     "execution_count": 86,
     "metadata": {},
     "output_type": "execute_result"
    }
   ],
   "source": [
    "r_graph.es[\"tags\"][0:10]"
   ]
  },
  {
   "cell_type": "code",
   "execution_count": 103,
   "metadata": {},
   "outputs": [],
   "source": [
    "def reverse_igraph_edges(graph):\n",
    "    edge_attributes = graph.edge_attributes()\n",
    "    attributes_dict = {attr:r_graph.es[attr] for attr in edge_attributes}\n",
    "    \n",
    "    reversed_edges = [tuple(reversed(edge)) for edge  in graph.get_edgelist()]\n",
    "    \n",
    "    graph.es.delete()\n",
    "    \n",
    "    graph.add_edges(reversed_edges)\n",
    "    \n",
    "    for attr in edge_attributes:\n",
    "        r_graph.es[attr] = edge_attributes_dict[attr]\n"
   ]
  },
  {
   "cell_type": "code",
   "execution_count": 106,
   "metadata": {},
   "outputs": [],
   "source": [
    "reverse_igraph_edges(r_graph)"
   ]
  },
  {
   "cell_type": "code",
   "execution_count": 91,
   "metadata": {},
   "outputs": [
    {
     "data": {
      "text/plain": [
       "[(7349, 12464),\n",
       " (12569, 6820),\n",
       " (15967, 4336),\n",
       " (5927, 16397),\n",
       " (13851, 8829),\n",
       " (5153, 17673),\n",
       " (3944, 5467),\n",
       " (2813, 9864),\n",
       " (5425, 15781),\n",
       " (6940, 1195)]"
      ]
     },
     "execution_count": 91,
     "metadata": {},
     "output_type": "execute_result"
    }
   ],
   "source": [
    "r_graph.get_edgelist()[0:10]"
   ]
  },
  {
   "cell_type": "code",
   "execution_count": 92,
   "metadata": {},
   "outputs": [
    {
     "data": {
      "text/plain": [
       "[['#tcot', '#tlot'],\n",
       " ['#p2', '#progca', '#casen'],\n",
       " ['#dems', '#ocra', '#p2', '#s'],\n",
       " ['#tcot'],\n",
       " ['#teaparty', '#tcot', '#alaska', '#ak'],\n",
       " ['#desen', '#tcot', '#teaparty'],\n",
       " ['#cuba', '#obama', '#eeuu'],\n",
       " ['#ocra', '#tcot'],\n",
       " ['#dems'],\n",
       " ['#tcot', '#teaparty', '#sgp']]"
      ]
     },
     "execution_count": 92,
     "metadata": {},
     "output_type": "execute_result"
    }
   ],
   "source": [
    "r_graph.es[\"tags\"][0:10]"
   ]
  },
  {
   "cell_type": "code",
   "execution_count": 3,
   "metadata": {},
   "outputs": [],
   "source": [
    "m_layout = m_graph.layout(\"large\")"
   ]
  },
  {
   "cell_type": "code",
   "execution_count": 4,
   "metadata": {},
   "outputs": [],
   "source": [
    "r_layout=r_graph.layout(\"large\")"
   ]
  },
  {
   "cell_type": "code",
   "execution_count": 5,
   "metadata": {},
   "outputs": [],
   "source": [
    "m_graph.vs[\"size\"]=4\n",
    "m_graph.es[\"arrow_size\"]=0.3\n",
    "m_graph.es[\"width\"]=0.5\n",
    "m_graph.es[\"color\"]=\"#b3b3b3\"\n",
    "color_dict = {\"left\": \"#0015bc\", \"right\": \"#e91d0e\", \"-\": \"grey\"}\n",
    "m_graph.vs[\"color\"] = [color_dict[cluster] for cluster in m_graph.vs[\"cluster\"]]\n",
    "m_out = igraph.plot(m_graph, layout=m_layout)\n",
    "\n",
    "m_out.save(\"mention_network.png\")"
   ]
  },
  {
   "cell_type": "code",
   "execution_count": 76,
   "metadata": {},
   "outputs": [],
   "source": [
    "r_graph.vs[\"size\"]=4\n",
    "r_graph.es[\"arrow_size\"]=0.3\n",
    "r_graph.es[\"width\"]=0.5\n",
    "r_graph.es[\"color\"]=\"#b3b3b3\"\n",
    "color_dict = {\"left\": \"#0015bc\", \"right\": \"#e91d0e\", \"-\": \"grey\"}\n",
    "r_graph.vs[\"color\"] = [color_dict[cluster] for cluster in r_graph.vs[\"cluster\"]]\n",
    "r_out = igraph.plot(r_graph, layout=r_layout)\n",
    "\n",
    "r_out.save(\"retweet_network.png\")"
   ]
  },
  {
   "cell_type": "code",
   "execution_count": null,
   "metadata": {},
   "outputs": [],
   "source": []
  },
  {
   "cell_type": "code",
   "execution_count": null,
   "metadata": {},
   "outputs": [],
   "source": []
  }
 ],
 "metadata": {
  "kernelspec": {
   "display_name": "Python 3",
   "language": "python",
   "name": "python3"
  },
  "language_info": {
   "codemirror_mode": {
    "name": "ipython",
    "version": 3
   },
   "file_extension": ".py",
   "mimetype": "text/x-python",
   "name": "python",
   "nbconvert_exporter": "python",
   "pygments_lexer": "ipython3",
   "version": "3.7.1"
  }
 },
 "nbformat": 4,
 "nbformat_minor": 2
}
