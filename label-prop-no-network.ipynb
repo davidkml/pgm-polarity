{
 "cells": [
  {
   "cell_type": "markdown",
   "metadata": {},
   "source": [
    "# Label Propagation (No Network) Notebook\n",
    "\n",
    "This notebook runs Label Propagation assuming no existing network"
   ]
  },
  {
   "cell_type": "markdown",
   "metadata": {},
   "source": [
    "### Setup"
   ]
  },
  {
   "cell_type": "code",
   "execution_count": 1,
   "metadata": {},
   "outputs": [],
   "source": [
    "import csv\n",
    "import heapq\n",
    "import numpy as np\n",
    "import random\n",
    "from sklearn.model_selection import train_test_split\n",
    "from sklearn.neighbors import KNeighborsClassifier\n",
    "from sklearn import metrics\n",
    "from sklearn.semi_supervised import LabelPropagation\n",
    "\n",
    "%load_ext autoreload\n",
    "%autoreload 2"
   ]
  },
  {
   "cell_type": "markdown",
   "metadata": {},
   "source": [
    "### Parse node labels"
   ]
  },
  {
   "cell_type": "code",
   "execution_count": 9,
   "metadata": {},
   "outputs": [],
   "source": [
    "node_label = {}\n",
    "#read node labels\n",
    "with open('data/icwsm_polarization/all.nodes') as csv_file:\n",
    "    csv_reader = csv.reader(csv_file, delimiter='\\t')\n",
    "    for row in csv_reader:\n",
    "        # 1 for left, 2 for right\n",
    "        if row[1] == 'left':\n",
    "            node_label[row[0]] = 1\n",
    "        elif row[1] == 'right':\n",
    "            node_label[row[0]] = 2"
   ]
  },
  {
   "cell_type": "markdown",
   "metadata": {},
   "source": [
    "### Parse Most Frequent Hashtags"
   ]
  },
  {
   "cell_type": "code",
   "execution_count": 10,
   "metadata": {},
   "outputs": [],
   "source": [
    "word_freq = {}\n",
    "with open('data/icwsm_polarization/all.edgelist') as csv_file:\n",
    "        csv_reader = csv.reader(csv_file, delimiter='\\t')\n",
    "        line_count = 0\n",
    "        for row in csv_reader:\n",
    "            for token in row[5:]:\n",
    "                if token not in word_freq.keys():\n",
    "                    word_freq[token] = 1\n",
    "                else:\n",
    "                    word_freq[token] += 1\n",
    "            line_count += 1\n",
    "        \n",
    "        most_freq = heapq.nlargest(200, word_freq, key=word_freq.get)"
   ]
  },
  {
   "cell_type": "markdown",
   "metadata": {},
   "source": [
    "### Build bag of hashtags"
   ]
  },
  {
   "cell_type": "code",
   "execution_count": 11,
   "metadata": {},
   "outputs": [],
   "source": [
    "#build dictionary where every node has a list of hashtag counts\n",
    "node_tweets = {}\n",
    "\n",
    "#iterate over every row in all.edgelist\n",
    "with open('data/icwsm_polarization/all.edgelist') as csv_file:\n",
    "    csv_reader = csv.reader(csv_file, delimiter='\\t')\n",
    "    for row in csv_reader:\n",
    "        #if retweet, take label from B node, else take label from A node\n",
    "        if row[2] == 'retweet':\n",
    "            #is a retweet -> Take label from B node\n",
    "            #check if B node in edge is in labels\n",
    "            if row[1] not in node_label.keys():\n",
    "                #node label is '-'\n",
    "                continue\n",
    "            if row[1] not in node_tweets.keys():\n",
    "                node_tweets[row[1]] = np.zeros(200)\n",
    "            #construct bag of hashtags (one for each node)\n",
    "            for i, token in enumerate(most_freq):\n",
    "                if token in row[5:]:\n",
    "                    node_tweets[row[1]][i] += 1\n",
    "\n",
    "        else:\n",
    "            #is a mention -> take label from A node\n",
    "            if row[0] not in node_label.keys():\n",
    "                #node label is '-'\n",
    "                continue\n",
    "            if row[0] not in node_tweets.keys():\n",
    "                node_tweets[row[0]] = np.zeros(200)\n",
    "            #construct bag of hashtags\n",
    "            for i, token in enumerate(most_freq):\n",
    "                if token in row[5:]:\n",
    "                    node_tweets[row[0]][i] += 1"
   ]
  },
  {
   "cell_type": "markdown",
   "metadata": {},
   "source": [
    "### Split data into train and test based on indivial nodes"
   ]
  },
  {
   "cell_type": "code",
   "execution_count": 12,
   "metadata": {},
   "outputs": [],
   "source": [
    "keys = list(node_tweets.keys())\n",
    "random.shuffle(keys)\n",
    "test_size = 0.3\n",
    "n_train = int((1-test_size) * len(keys))\n",
    "train_keys = keys[:n_train]\n",
    "test_keys = keys[n_train:]\n",
    "\n",
    "X = []\n",
    "y = []\n",
    "for key in train_keys:\n",
    "    tup = node_tweets[key]\n",
    "    X.append(tup)\n",
    "    y.append(node_label[key])\n",
    "X_train = np.asarray(X)\n",
    "y_train = np.asarray(y)\n",
    "\n",
    "X = []\n",
    "y = []\n",
    "for key in test_keys:\n",
    "    tup = node_tweets[key]\n",
    "    X.append(tup)\n",
    "    y.append(node_label[key])\n",
    "X_test = np.asarray(X)\n",
    "y_test = np.asarray(y)"
   ]
  },
  {
   "cell_type": "markdown",
   "metadata": {},
   "source": [
    "### Set random labels as unknown"
   ]
  },
  {
   "cell_type": "code",
   "execution_count": 13,
   "metadata": {},
   "outputs": [],
   "source": [
    "p = 0.3 #proportion of labels that are set as unobserved\n",
    "rng = np.random.RandomState(42)\n",
    "unlabel_points = rng.rand(len(y_train)) < p\n",
    "labels = np.copy(y_train)\n",
    "labels[unlabel_points] = -1"
   ]
  },
  {
   "cell_type": "code",
   "execution_count": 14,
   "metadata": {},
   "outputs": [
    {
     "name": "stdout",
     "output_type": "stream",
     "text": [
      "[ 1  1  2  1 -1 -1 -1  2  1  1 -1  2  1 -1 -1 -1  2  1  1 -1]\n"
     ]
    }
   ],
   "source": [
    "print(labels[:20])"
   ]
  },
  {
   "cell_type": "markdown",
   "metadata": {},
   "source": [
    "### Create Prop Model and Test"
   ]
  },
  {
   "cell_type": "code",
   "execution_count": 16,
   "metadata": {},
   "outputs": [
    {
     "name": "stderr",
     "output_type": "stream",
     "text": [
      "c:\\users\\joe\\docume~1\\ucla\\datast~1\\project\\pgm-po~1\\env~1\\lib\\site-packages\\sklearn\\semi_supervised\\_label_propagation.py:277: RuntimeWarning: invalid value encountered in true_divide\n",
      "  self.label_distributions_ /= normalizer\n",
      "c:\\users\\joe\\docume~1\\ucla\\datast~1\\project\\pgm-po~1\\env~1\\lib\\site-packages\\sklearn\\semi_supervised\\_label_propagation.py:288: ConvergenceWarning: max_iter=2000 was reached without convergence.\n",
      "  category=ConvergenceWarning\n"
     ]
    },
    {
     "data": {
      "text/plain": [
       "LabelPropagation(gamma=20, kernel='rbf', max_iter=2000, n_jobs=None,\n",
       "                 n_neighbors=7, tol=0.001)"
      ]
     },
     "execution_count": 16,
     "metadata": {},
     "output_type": "execute_result"
    }
   ],
   "source": [
    "#Create Prop Model\n",
    "label_prop_model = LabelPropagation(max_iter=2000)\n",
    "\n",
    "#Fit model to train data\n",
    "label_prop_model.fit(X_train, labels)"
   ]
  },
  {
   "cell_type": "code",
   "execution_count": 17,
   "metadata": {},
   "outputs": [
    {
     "name": "stdout",
     "output_type": "stream",
     "text": [
      "Accuracy: 0.6162139747045408\n"
     ]
    }
   ],
   "source": [
    "acc = label_prop_model.score(X_test, y_test)\n",
    "print(f'Accuracy: {acc}')"
   ]
  }
 ],
 "metadata": {
  "kernelspec": {
   "display_name": "Python 3",
   "language": "python",
   "name": "python3"
  },
  "language_info": {
   "codemirror_mode": {
    "name": "ipython",
    "version": 3
   },
   "file_extension": ".py",
   "mimetype": "text/x-python",
   "name": "python",
   "nbconvert_exporter": "python",
   "pygments_lexer": "ipython3",
   "version": "3.7.1"
  }
 },
 "nbformat": 4,
 "nbformat_minor": 2
}
