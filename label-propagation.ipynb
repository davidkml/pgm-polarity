{
 "cells": [
  {
   "cell_type": "code",
   "execution_count": 1,
   "metadata": {},
   "outputs": [],
   "source": [
    "import numpy as np\n",
    "import pandas as pd\n",
    "import math\n",
    "\n",
    "from sklearn.metrics import accuracy_score\n",
    "\n",
    "import igraph\n",
    "import pickle\n",
    "\n",
    "from abc import abstractmethod\n",
    "import torch"
   ]
  },
  {
   "cell_type": "code",
   "execution_count": 2,
   "metadata": {},
   "outputs": [],
   "source": [
    "# Source: https://github.com/thibaudmartinez/label-propagation/blob/master/notebook.ipynb\n",
    "\n",
    "class BaseLabelPropagation:\n",
    "    \"\"\"Base class for label propagation models.\n",
    "\n",
    "    Parameters\n",
    "    ----------\n",
    "    adj_matrix: torch.FloatTensor\n",
    "        Adjacency matrix of the graph.\n",
    "    \"\"\"\n",
    "    def __init__(self, adj_matrix):\n",
    "        self.norm_adj_matrix = self._normalize(adj_matrix)\n",
    "        self.n_nodes = adj_matrix.size(0)\n",
    "        self.one_hot_labels = None \n",
    "        self.n_classes = None\n",
    "        self.labeled_mask = None\n",
    "        self.predictions = None\n",
    "\n",
    "    @staticmethod\n",
    "    @abstractmethod\n",
    "    def _normalize(adj_matrix):\n",
    "        raise NotImplementedError(\"_normalize must be implemented\")\n",
    "\n",
    "    @abstractmethod\n",
    "    def _propagate(self):\n",
    "        raise NotImplementedError(\"_propagate must be implemented\")\n",
    "\n",
    "    def _one_hot_encode(self, labels):\n",
    "        # Get the number of classes\n",
    "        classes = torch.unique(labels)\n",
    "        classes = classes[classes != -1]\n",
    "        self.n_classes = classes.size(0)\n",
    "\n",
    "        # One-hot encode labeled data instances and zero rows corresponding to unlabeled instances\n",
    "        unlabeled_mask = (labels == -1)\n",
    "        labels = labels.clone()  # defensive copying\n",
    "        labels[unlabeled_mask] = 0\n",
    "        self.one_hot_labels = torch.zeros((self.n_nodes, self.n_classes), dtype=torch.float)\n",
    "        self.one_hot_labels = self.one_hot_labels.scatter(1, labels.unsqueeze(1), 1)\n",
    "        self.one_hot_labels[unlabeled_mask, 0] = 0\n",
    "\n",
    "        self.labeled_mask = ~unlabeled_mask\n",
    "\n",
    "    def fit(self, labels, max_iter, tol):\n",
    "        \"\"\"Fits a semi-supervised learning label propagation model.\n",
    "\n",
    "        labels: torch.LongTensor\n",
    "            Tensor of size n_nodes indicating the class number of each node.\n",
    "            Unlabeled nodes are denoted with -1.\n",
    "        max_iter: int\n",
    "            Maximum number of iterations allowed.\n",
    "        tol: float\n",
    "            Convergence tolerance: threshold to consider the system at steady state.\n",
    "        \"\"\"\n",
    "        self._one_hot_encode(labels)\n",
    "\n",
    "        self.predictions = self.one_hot_labels.clone()\n",
    "        prev_predictions = torch.zeros((self.n_nodes, self.n_classes), dtype=torch.float)\n",
    "\n",
    "        for i in range(max_iter):\n",
    "            # Stop iterations if the system is considered at a steady state\n",
    "            variation = torch.abs(self.predictions - prev_predictions).sum().item()\n",
    "\n",
    "            if variation < tol:\n",
    "                print(f\"The method stopped after {i} iterations, variation={variation:.4f}.\")\n",
    "                break\n",
    "\n",
    "            prev_predictions = self.predictions\n",
    "            self._propagate()\n",
    "\n",
    "    def predict(self):\n",
    "        return self.predictions\n",
    "\n",
    "    def predict_classes(self):\n",
    "        return self.predictions.max(dim=1).indices"
   ]
  },
  {
   "cell_type": "code",
   "execution_count": 3,
   "metadata": {},
   "outputs": [],
   "source": [
    "class LabelPropagation(BaseLabelPropagation):\n",
    "    def __init__(self, adj_matrix):\n",
    "        super().__init__(adj_matrix)\n",
    "\n",
    "    @staticmethod\n",
    "    def _normalize(adj_matrix):\n",
    "        \"\"\"Computes D^-1 * W\"\"\"\n",
    "        degs = adj_matrix.sum(dim=1)\n",
    "        degs[degs == 0] = 1  # avoid division by 0 error\n",
    "        return adj_matrix / degs[:, None]\n",
    "\n",
    "    def _propagate(self):\n",
    "        self.predictions = torch.matmul(self.norm_adj_matrix, self.predictions)\n",
    "\n",
    "        # Put back already known labels\n",
    "        self.predictions[self.labeled_mask] = self.one_hot_labels[self.labeled_mask]\n",
    "\n",
    "    def fit(self, labels, max_iter=1000, tol=1e-3):\n",
    "        super().fit(labels, max_iter, tol)\n"
   ]
  },
  {
   "cell_type": "code",
   "execution_count": 4,
   "metadata": {},
   "outputs": [],
   "source": [
    "class LabelSpreading(BaseLabelPropagation):\n",
    "    def __init__(self, adj_matrix):\n",
    "        super().__init__(adj_matrix)\n",
    "        self.alpha = None\n",
    "\n",
    "    @staticmethod\n",
    "    def _normalize(adj_matrix):\n",
    "        \"\"\"Computes D^-1/2 * W * D^-1/2\"\"\"\n",
    "        degs = adj_matrix.sum(dim=1)\n",
    "        norm = torch.pow(degs, -0.5)\n",
    "        norm[torch.isinf(norm)] = 1\n",
    "        return adj_matrix * norm[:, None] * norm[None, :]\n",
    "\n",
    "    def _propagate(self):\n",
    "        self.predictions = (\n",
    "            self.alpha * torch.matmul(self.norm_adj_matrix, self.predictions)\n",
    "            + (1 - self.alpha) * self.one_hot_labels\n",
    "        )\n",
    "\n",
    "    def fit(self, labels, max_iter=1000, tol=1e-3, alpha=0.5):\n",
    "        \"\"\"\n",
    "        Parameters\n",
    "        ----------\n",
    "        alpha: float\n",
    "            Clamping factor.\n",
    "        \"\"\"\n",
    "        self.alpha = alpha\n",
    "        super().fit(labels, max_iter, tol)\n"
   ]
  },
  {
   "cell_type": "markdown",
   "metadata": {},
   "source": [
    "## Load and pre-process data"
   ]
  },
  {
   "cell_type": "code",
   "execution_count": 5,
   "metadata": {},
   "outputs": [],
   "source": [
    "all_graph = pickle.load(open('./data/icwsm_polarization/all_igraph.pickle', \"rb\"))"
   ]
  },
  {
   "cell_type": "code",
   "execution_count": 6,
   "metadata": {},
   "outputs": [],
   "source": [
    "# Preprocess graph by flipping edge if retweet. For each edge, if it is a retweet edge, flip the edge and insert it into a different graph. Along with all of the attributes.\n",
    "# maintain the order.\n",
    "\n",
    "def process_edges(graph):\n",
    "    edge_attributes = graph.edge_attributes()\n",
    "    attributes_dict = {attr:graph.es[attr] for attr in edge_attributes}\n",
    "    \n",
    "    processed_edges = []\n",
    "    edgelist = graph.get_edgelist()\n",
    "    for i in range(len(edgelist)):\n",
    "        if (graph.es[i]['type'] == 'retweet'):\n",
    "            processed_edges.append(tuple(reversed(edgelist[i])))\n",
    "        else:\n",
    "            processed_edges.append(edgelist[i])\n",
    "    \n",
    "    graph.es.delete()\n",
    "    graph.add_edges(processed_edges)\n",
    "    \n",
    "    for attr in edge_attributes:\n",
    "        graph.es[attr] = attributes_dict[attr]\n"
   ]
  },
  {
   "cell_type": "code",
   "execution_count": 7,
   "metadata": {},
   "outputs": [
    {
     "data": {
      "text/plain": [
       "[(4522, 617),\n",
       " (13126, 12049),\n",
       " (11956, 13524),\n",
       " (12875, 3983),\n",
       " (10701, 13172),\n",
       " (11427, 18252),\n",
       " (16129, 20215),\n",
       " (17900, 22096),\n",
       " (12673, 12428),\n",
       " (10815, 19042)]"
      ]
     },
     "execution_count": 7,
     "metadata": {},
     "output_type": "execute_result"
    }
   ],
   "source": [
    "all_graph.get_edgelist()[0:10]"
   ]
  },
  {
   "cell_type": "code",
   "execution_count": 8,
   "metadata": {},
   "outputs": [
    {
     "data": {
      "text/plain": [
       "77920"
      ]
     },
     "execution_count": 8,
     "metadata": {},
     "output_type": "execute_result"
    }
   ],
   "source": [
    "len(all_graph.get_edgelist())"
   ]
  },
  {
   "cell_type": "code",
   "execution_count": 9,
   "metadata": {},
   "outputs": [],
   "source": [
    "process_edges(all_graph)"
   ]
  },
  {
   "cell_type": "code",
   "execution_count": 10,
   "metadata": {},
   "outputs": [
    {
     "data": {
      "text/plain": [
       "[(617, 4522),\n",
       " (12049, 13126),\n",
       " (13524, 11956),\n",
       " (3983, 12875),\n",
       " (10701, 13172),\n",
       " (18252, 11427),\n",
       " (20215, 16129),\n",
       " (17900, 22096),\n",
       " (12673, 12428),\n",
       " (19042, 10815)]"
      ]
     },
     "execution_count": 10,
     "metadata": {},
     "output_type": "execute_result"
    }
   ],
   "source": [
    "all_graph.get_edgelist()[0:10]"
   ]
  },
  {
   "cell_type": "code",
   "execution_count": 11,
   "metadata": {},
   "outputs": [
    {
     "data": {
      "text/plain": [
       "77920"
      ]
     },
     "execution_count": 11,
     "metadata": {},
     "output_type": "execute_result"
    }
   ],
   "source": [
    "len(all_graph.get_edgelist()) ## will be same as previous"
   ]
  },
  {
   "cell_type": "markdown",
   "metadata": {},
   "source": [
    "## Generate data to give model"
   ]
  },
  {
   "cell_type": "code",
   "execution_count": 12,
   "metadata": {},
   "outputs": [],
   "source": [
    "# uncomment to recompute adjacency matrix and save\n",
    "\n",
    "# adj_matrix = np.array(all_graph.get_adjacency().data)\n",
    "# np.savez_compressed(\"objects/adj_matrix.npz\", adj_matrix)"
   ]
  },
  {
   "cell_type": "code",
   "execution_count": 13,
   "metadata": {},
   "outputs": [],
   "source": [
    "# load adjacency matrix\n",
    "adj_matrix = np.load(\"objects/adj_matrix.npz\")['arr_0']"
   ]
  },
  {
   "cell_type": "code",
   "execution_count": 14,
   "metadata": {},
   "outputs": [
    {
     "data": {
      "text/plain": [
       "(22405, 22405)"
      ]
     },
     "execution_count": 14,
     "metadata": {},
     "output_type": "execute_result"
    }
   ],
   "source": [
    "np.shape(adj_matrix)"
   ]
  },
  {
   "cell_type": "code",
   "execution_count": 15,
   "metadata": {},
   "outputs": [
    {
     "data": {
      "text/plain": [
       "True"
      ]
     },
     "execution_count": 15,
     "metadata": {},
     "output_type": "execute_result"
    }
   ],
   "source": [
    "# Adjacency matrix is directed\n",
    "adj_matrix[617][4522] != adj_matrix[4522][617]"
   ]
  },
  {
   "cell_type": "code",
   "execution_count": 16,
   "metadata": {},
   "outputs": [],
   "source": [
    "def get_labels_subsample(graph, sample_type, proportion=0.1):\n",
    "    n = len(graph.vs)\n",
    "    labels = np.full(n, -1, dtype=int)\n",
    "    \n",
    "    n_sample = math.ceil(proportion*n)\n",
    "\n",
    "    if sample_type=='random':\n",
    "        indices = np.random.randint(0, n, size=n_sample)\n",
    "    elif sample_type == 'centrality':\n",
    "        indices = np.argsort(graph.pagerank())[-n_sample:]\n",
    "        \n",
    "    for i in indices:\n",
    "        if graph.vs[i]['cluster'] == 'left':\n",
    "            labels[i] = 1\n",
    "        elif graph.vs[i]['cluster'] == 'right':\n",
    "            labels[i] = 0\n",
    "        ## if cluster is '-', leave it unlabeled (i.e. -1)\n",
    "        \n",
    "    return labels, indices"
   ]
  },
  {
   "cell_type": "code",
   "execution_count": 274,
   "metadata": {},
   "outputs": [],
   "source": [
    "# obtain observed labels by centrality and random selection\n",
    "rlabels, r_idxs = get_labels_subsample(all_graph, 'random',0.9)"
   ]
  },
  {
   "cell_type": "code",
   "execution_count": 275,
   "metadata": {},
   "outputs": [],
   "source": [
    "clabels, c_idxs = get_labels_subsample(all_graph, 'centrality',0.9)"
   ]
  },
  {
   "cell_type": "code",
   "execution_count": 276,
   "metadata": {},
   "outputs": [
    {
     "data": {
      "text/plain": [
       "1"
      ]
     },
     "execution_count": 276,
     "metadata": {},
     "output_type": "execute_result"
    }
   ],
   "source": [
    "clabels[c_idxs[0]]"
   ]
  },
  {
   "cell_type": "code",
   "execution_count": 277,
   "metadata": {},
   "outputs": [
    {
     "data": {
      "text/plain": [
       "'left'"
      ]
     },
     "execution_count": 277,
     "metadata": {},
     "output_type": "execute_result"
    }
   ],
   "source": [
    "all_graph.vs[c_idxs[0]]['cluster'] # corresponds correctly to revealed labels"
   ]
  },
  {
   "cell_type": "markdown",
   "metadata": {},
   "source": [
    "## Learning"
   ]
  },
  {
   "cell_type": "code",
   "execution_count": 278,
   "metadata": {},
   "outputs": [],
   "source": [
    "# Create input tensors\n",
    "adj_matrix_t = torch.FloatTensor(adj_matrix)\n",
    "\n",
    "clabels_t = torch.LongTensor(clabels)\n",
    "rlabels_t = torch.LongTensor(rlabels)\n"
   ]
  },
  {
   "cell_type": "code",
   "execution_count": 279,
   "metadata": {},
   "outputs": [
    {
     "name": "stdout",
     "output_type": "stream",
     "text": [
      "The method stopped after 18 iterations, variation=0.0006.\n"
     ]
    }
   ],
   "source": [
    "# For labels selected based on centrality:\n",
    "\n",
    "# Learn with Label Propagation\n",
    "label_propagation_central = LabelPropagation(adj_matrix_t)\n",
    "label_propagation_central.fit(clabels_t)\n",
    "label_propagation_output_labels_central = label_propagation_central.predict_classes()\n",
    "\n",
    "# # Learn with Label Spreading\n",
    "# label_spreading_central = LabelSpreading(adj_matrix_t)\n",
    "# label_spreading_central.fit(clabels_t, alpha=0.8)\n",
    "# label_spreading_output_labels_central = label_spreading_central.predict_classes()"
   ]
  },
  {
   "cell_type": "code",
   "execution_count": 280,
   "metadata": {},
   "outputs": [
    {
     "name": "stdout",
     "output_type": "stream",
     "text": [
      "The method stopped after 31 iterations, variation=0.0009.\n"
     ]
    }
   ],
   "source": [
    "# For labels selected randomly:\n",
    "\n",
    "# Learn with Label Propagation\n",
    "label_propagation_random = LabelPropagation(adj_matrix_t)\n",
    "label_propagation_random.fit(rlabels_t)\n",
    "label_propagation_output_labels_random = label_propagation_random.predict_classes()\n",
    "\n",
    "# # Learn with Label Spreading\n",
    "# label_spreading_random = LabelSpreading(adj_matrix_t)\n",
    "# label_spreading_random.fit(rlabels_t, alpha=0.8)\n",
    "# label_spreading_output_labels_random = label_spreading_random.predict_classes()"
   ]
  },
  {
   "cell_type": "code",
   "execution_count": 281,
   "metadata": {},
   "outputs": [],
   "source": [
    "# Predicted labels\n",
    "# label_spreading_output_labels_central.numpy()"
   ]
  },
  {
   "cell_type": "code",
   "execution_count": 282,
   "metadata": {},
   "outputs": [],
   "source": [
    "# label_spreading_output_labels_random.numpy()"
   ]
  },
  {
   "cell_type": "markdown",
   "metadata": {},
   "source": [
    "## Evaluation"
   ]
  },
  {
   "cell_type": "code",
   "execution_count": 283,
   "metadata": {},
   "outputs": [],
   "source": [
    "# if true label for a node is '-', remove it  \n",
    "\n",
    "true_labels = pd.DataFrame(data=all_graph.vs[\"cluster\"], columns=[\"label\"])\n",
    "true_labels.head()\n",
    "\n",
    "cleaned_true_labels = true_labels.loc[true_labels[\"label\"] != '-']\n",
    "\n",
    "# remove clamped observations\n",
    "cleaned_true_labels_test_c = cleaned_true_labels[~cleaned_true_labels.index.isin(c_idxs)]\n",
    "y_c_test = cleaned_true_labels_test_c.label.map({\"left\": 1, \"right\": 0})\n",
    "\n",
    "cleaned_true_labels_test_r = cleaned_true_labels[~cleaned_true_labels.index.isin(r_idxs)]\n",
    "y_r_test = cleaned_true_labels_test_r.label.map({\"left\": 1, \"right\": 0})"
   ]
  },
  {
   "cell_type": "markdown",
   "metadata": {},
   "source": [
    "### Using label spreading"
   ]
  },
  {
   "cell_type": "code",
   "execution_count": 284,
   "metadata": {},
   "outputs": [],
   "source": [
    "# central_spreading_df = pd.DataFrame(data=label_spreading_output_labels_central.numpy(), columns=[\"label\"])\n",
    "# cleaned_central_spreading_df = central_spreading_df.loc[label[\"label\"] != '-']\n",
    "# cleaned_central_spreading_df.head()"
   ]
  },
  {
   "cell_type": "code",
   "execution_count": 285,
   "metadata": {},
   "outputs": [],
   "source": [
    "# random_spreading_df = pd.DataFrame(data=label_spreading_output_labels_random.numpy(), columns=[\"label\"])\n",
    "# cleaned_random_spreading_df = random_spreading_df.loc[label[\"label\"] != '-']\n",
    "# cleaned_random_spreading_df.head()"
   ]
  },
  {
   "cell_type": "code",
   "execution_count": 286,
   "metadata": {},
   "outputs": [],
   "source": [
    "# accuracy_score(y, cleaned_central_spreading_df.label)"
   ]
  },
  {
   "cell_type": "code",
   "execution_count": 287,
   "metadata": {},
   "outputs": [],
   "source": [
    "# accuracy_score(y, cleaned_random_spreading_df.label)"
   ]
  },
  {
   "cell_type": "markdown",
   "metadata": {},
   "source": [
    "### Using label propagation"
   ]
  },
  {
   "cell_type": "code",
   "execution_count": 288,
   "metadata": {},
   "outputs": [
    {
     "data": {
      "text/html": [
       "<div>\n",
       "<style scoped>\n",
       "    .dataframe tbody tr th:only-of-type {\n",
       "        vertical-align: middle;\n",
       "    }\n",
       "\n",
       "    .dataframe tbody tr th {\n",
       "        vertical-align: top;\n",
       "    }\n",
       "\n",
       "    .dataframe thead th {\n",
       "        text-align: right;\n",
       "    }\n",
       "</style>\n",
       "<table border=\"1\" class=\"dataframe\">\n",
       "  <thead>\n",
       "    <tr style=\"text-align: right;\">\n",
       "      <th></th>\n",
       "      <th>label</th>\n",
       "    </tr>\n",
       "  </thead>\n",
       "  <tbody>\n",
       "    <tr>\n",
       "      <th>0</th>\n",
       "      <td>0</td>\n",
       "    </tr>\n",
       "    <tr>\n",
       "      <th>9690</th>\n",
       "      <td>1</td>\n",
       "    </tr>\n",
       "    <tr>\n",
       "      <th>9694</th>\n",
       "      <td>1</td>\n",
       "    </tr>\n",
       "    <tr>\n",
       "      <th>9695</th>\n",
       "      <td>0</td>\n",
       "    </tr>\n",
       "    <tr>\n",
       "      <th>9698</th>\n",
       "      <td>0</td>\n",
       "    </tr>\n",
       "  </tbody>\n",
       "</table>\n",
       "</div>"
      ],
      "text/plain": [
       "      label\n",
       "0         0\n",
       "9690      1\n",
       "9694      1\n",
       "9695      0\n",
       "9698      0"
      ]
     },
     "execution_count": 288,
     "metadata": {},
     "output_type": "execute_result"
    }
   ],
   "source": [
    "central_propagation_df = pd.DataFrame(data=label_propagation_output_labels_central.numpy(), columns=[\"label\"])\n",
    "cleaned_central_propagation_df = central_propagation_df.loc[true_labels[\"label\"] != '-']\n",
    "cleaned_central_propagation_df_test = cleaned_central_propagation_df[~cleaned_central_propagation_df.index.isin(c_idxs)]\n",
    "\n",
    "\n",
    "cleaned_central_propagation_df_test.head()"
   ]
  },
  {
   "cell_type": "code",
   "execution_count": 289,
   "metadata": {
    "scrolled": true
   },
   "outputs": [
    {
     "data": {
      "text/html": [
       "<div>\n",
       "<style scoped>\n",
       "    .dataframe tbody tr th:only-of-type {\n",
       "        vertical-align: middle;\n",
       "    }\n",
       "\n",
       "    .dataframe tbody tr th {\n",
       "        vertical-align: top;\n",
       "    }\n",
       "\n",
       "    .dataframe thead th {\n",
       "        text-align: right;\n",
       "    }\n",
       "</style>\n",
       "<table border=\"1\" class=\"dataframe\">\n",
       "  <thead>\n",
       "    <tr style=\"text-align: right;\">\n",
       "      <th></th>\n",
       "      <th>label</th>\n",
       "    </tr>\n",
       "  </thead>\n",
       "  <tbody>\n",
       "    <tr>\n",
       "      <th>0</th>\n",
       "      <td>0</td>\n",
       "    </tr>\n",
       "    <tr>\n",
       "      <th>10</th>\n",
       "      <td>1</td>\n",
       "    </tr>\n",
       "    <tr>\n",
       "      <th>13</th>\n",
       "      <td>1</td>\n",
       "    </tr>\n",
       "    <tr>\n",
       "      <th>18</th>\n",
       "      <td>1</td>\n",
       "    </tr>\n",
       "    <tr>\n",
       "      <th>26</th>\n",
       "      <td>1</td>\n",
       "    </tr>\n",
       "  </tbody>\n",
       "</table>\n",
       "</div>"
      ],
      "text/plain": [
       "    label\n",
       "0       0\n",
       "10      1\n",
       "13      1\n",
       "18      1\n",
       "26      1"
      ]
     },
     "execution_count": 289,
     "metadata": {},
     "output_type": "execute_result"
    }
   ],
   "source": [
    "# remove '-' labels\n",
    "random_propagation_df = pd.DataFrame(data=label_propagation_output_labels_random.numpy(), columns=[\"label\"])\n",
    "cleaned_random_propagation_df = random_propagation_df.loc[true_labels[\"label\"] != '-']\n",
    "# removee clamped labels\n",
    "cleaned_random_propagation_df_test = cleaned_random_propagation_df[~cleaned_random_propagation_df.index.isin(r_idxs)]\n",
    "\n",
    "\n",
    "cleaned_random_propagation_df_test.head()"
   ]
  },
  {
   "cell_type": "code",
   "execution_count": 290,
   "metadata": {},
   "outputs": [
    {
     "data": {
      "text/plain": [
       "0.9956966110812264"
      ]
     },
     "execution_count": 290,
     "metadata": {},
     "output_type": "execute_result"
    }
   ],
   "source": [
    "accuracy_score(y_c_test, cleaned_central_propagation_df_test.label)"
   ]
  },
  {
   "cell_type": "code",
   "execution_count": 291,
   "metadata": {},
   "outputs": [
    {
     "data": {
      "text/plain": [
       "0.8720202423758157"
      ]
     },
     "execution_count": 291,
     "metadata": {},
     "output_type": "execute_result"
    }
   ],
   "source": [
    "accuracy_score(y_r_test, cleaned_random_propagation_df_test.label)"
   ]
  },
  {
   "cell_type": "code",
   "execution_count": null,
   "metadata": {},
   "outputs": [],
   "source": []
  }
 ],
 "metadata": {
  "kernelspec": {
   "display_name": "Python 3",
   "language": "python",
   "name": "python3"
  },
  "language_info": {
   "codemirror_mode": {
    "name": "ipython",
    "version": 3
   },
   "file_extension": ".py",
   "mimetype": "text/x-python",
   "name": "python",
   "nbconvert_exporter": "python",
   "pygments_lexer": "ipython3",
   "version": "3.7.1"
  }
 },
 "nbformat": 4,
 "nbformat_minor": 2
}
