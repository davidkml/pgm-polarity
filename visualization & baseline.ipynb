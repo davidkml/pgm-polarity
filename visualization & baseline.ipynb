{
 "cells": [
  {
   "cell_type": "code",
   "execution_count": 35,
   "metadata": {},
   "outputs": [],
   "source": [
    "import numpy as np\n",
    "import pandas as pd\n",
    "import matplotlib.pyplot as plt\n",
    "\n",
    "from sklearn.preprocessing import StandardScaler\n",
    "from sklearn.decomposition import PCA\n",
    "from sklearn.cluster import KMeans\n",
    "\n",
    "import pickle\n",
    "import igraph"
   ]
  },
  {
   "cell_type": "code",
   "execution_count": 2,
   "metadata": {},
   "outputs": [],
   "source": [
    "m_graph = pickle.load(open('./data/icwsm_polarization/mention_igraph.pickle', \"rb\"))\n",
    "r_graph = pickle.load(open('./data/icwsm_polarization/retweet_igraph.pickle', \"rb\"))"
   ]
  },
  {
   "cell_type": "code",
   "execution_count": 3,
   "metadata": {},
   "outputs": [],
   "source": [
    "all_graph = pickle.load(open('./data/icwsm_polarization/all_igraph.pickle', \"rb\"))"
   ]
  },
  {
   "cell_type": "code",
   "execution_count": 4,
   "metadata": {},
   "outputs": [
    {
     "data": {
      "text/plain": [
       "['tags', 'type', 'urls', 'time']"
      ]
     },
     "execution_count": 4,
     "metadata": {},
     "output_type": "execute_result"
    }
   ],
   "source": [
    "r_graph.edge_attributes()"
   ]
  },
  {
   "cell_type": "code",
   "execution_count": 5,
   "metadata": {},
   "outputs": [
    {
     "data": {
      "text/plain": [
       "[(12464, 7349),\n",
       " (6820, 12569),\n",
       " (4336, 15967),\n",
       " (16397, 5927),\n",
       " (8829, 13851),\n",
       " (17673, 5153),\n",
       " (5467, 3944),\n",
       " (9864, 2813),\n",
       " (15781, 5425),\n",
       " (1195, 6940)]"
      ]
     },
     "execution_count": 5,
     "metadata": {},
     "output_type": "execute_result"
    }
   ],
   "source": [
    "r_graph.get_edgelist()[0:10]"
   ]
  },
  {
   "cell_type": "code",
   "execution_count": 6,
   "metadata": {},
   "outputs": [
    {
     "data": {
      "text/plain": [
       "[['#tcot', '#tlot'],\n",
       " ['#p2', '#progca', '#casen'],\n",
       " ['#dems', '#ocra', '#p2', '#s'],\n",
       " ['#tcot'],\n",
       " ['#teaparty', '#tcot', '#alaska', '#ak'],\n",
       " ['#desen', '#tcot', '#teaparty'],\n",
       " ['#cuba', '#obama', '#eeuu'],\n",
       " ['#ocra', '#tcot'],\n",
       " ['#dems'],\n",
       " ['#tcot', '#teaparty', '#sgp']]"
      ]
     },
     "execution_count": 6,
     "metadata": {},
     "output_type": "execute_result"
    }
   ],
   "source": [
    "r_graph.es[\"tags\"][0:10]"
   ]
  },
  {
   "cell_type": "code",
   "execution_count": 7,
   "metadata": {},
   "outputs": [],
   "source": [
    "def reverse_igraph_edges(graph):\n",
    "    edge_attributes = graph.edge_attributes()\n",
    "    attributes_dict = {attr:r_graph.es[attr] for attr in edge_attributes}\n",
    "    \n",
    "    reversed_edges = [tuple(reversed(edge)) for edge  in graph.get_edgelist()]\n",
    "    \n",
    "    graph.es.delete()\n",
    "    \n",
    "    graph.add_edges(reversed_edges)\n",
    "    \n",
    "    for attr in edge_attributes:\n",
    "        r_graph.es[attr] = attributes_dict[attr]\n"
   ]
  },
  {
   "cell_type": "code",
   "execution_count": 8,
   "metadata": {},
   "outputs": [],
   "source": [
    "reverse_igraph_edges(r_graph)"
   ]
  },
  {
   "cell_type": "code",
   "execution_count": 9,
   "metadata": {},
   "outputs": [
    {
     "data": {
      "text/plain": [
       "[(7349, 12464),\n",
       " (12569, 6820),\n",
       " (15967, 4336),\n",
       " (5927, 16397),\n",
       " (13851, 8829),\n",
       " (5153, 17673),\n",
       " (3944, 5467),\n",
       " (2813, 9864),\n",
       " (5425, 15781),\n",
       " (6940, 1195)]"
      ]
     },
     "execution_count": 9,
     "metadata": {},
     "output_type": "execute_result"
    }
   ],
   "source": [
    "r_graph.get_edgelist()[0:10]"
   ]
  },
  {
   "cell_type": "code",
   "execution_count": 10,
   "metadata": {},
   "outputs": [
    {
     "data": {
      "text/plain": [
       "[['#tcot', '#tlot'],\n",
       " ['#p2', '#progca', '#casen'],\n",
       " ['#dems', '#ocra', '#p2', '#s'],\n",
       " ['#tcot'],\n",
       " ['#teaparty', '#tcot', '#alaska', '#ak'],\n",
       " ['#desen', '#tcot', '#teaparty'],\n",
       " ['#cuba', '#obama', '#eeuu'],\n",
       " ['#ocra', '#tcot'],\n",
       " ['#dems'],\n",
       " ['#tcot', '#teaparty', '#sgp']]"
      ]
     },
     "execution_count": 10,
     "metadata": {},
     "output_type": "execute_result"
    }
   ],
   "source": [
    "r_graph.es[\"tags\"][0:10]"
   ]
  },
  {
   "cell_type": "code",
   "execution_count": 11,
   "metadata": {},
   "outputs": [],
   "source": [
    "m_layout = m_graph.layout(\"large\")"
   ]
  },
  {
   "cell_type": "code",
   "execution_count": null,
   "metadata": {},
   "outputs": [],
   "source": [
    "r_layout=r_graph.layout(\"large\")"
   ]
  },
  {
   "cell_type": "code",
   "execution_count": 5,
   "metadata": {},
   "outputs": [],
   "source": [
    "m_graph.vs[\"size\"]=4\n",
    "m_graph.es[\"arrow_size\"]=0.3\n",
    "m_graph.es[\"width\"]=0.5\n",
    "m_graph.es[\"color\"]=\"#b3b3b3\"\n",
    "color_dict = {\"left\": \"#0015bc\", \"right\": \"#e91d0e\", \"-\": \"grey\"}\n",
    "m_graph.vs[\"color\"] = [color_dict[cluster] for cluster in m_graph.vs[\"cluster\"]]\n",
    "m_out = igraph.plot(m_graph, layout=m_layout)\n",
    "\n",
    "m_out.save(\"mention_network.png\")"
   ]
  },
  {
   "cell_type": "code",
   "execution_count": 76,
   "metadata": {},
   "outputs": [],
   "source": [
    "r_graph.vs[\"size\"]=4\n",
    "r_graph.es[\"arrow_size\"]=0.3\n",
    "r_graph.es[\"width\"]=0.5\n",
    "r_graph.es[\"color\"]=\"#b3b3b3\"\n",
    "color_dict = {\"left\": \"#0015bc\", \"right\": \"#e91d0e\", \"-\": \"grey\"}\n",
    "r_graph.vs[\"color\"] = [color_dict[cluster] for cluster in r_graph.vs[\"cluster\"]]\n",
    "r_out = igraph.plot(r_graph, layout=r_layout)\n",
    "\n",
    "r_out.save(\"retweet_network.png\")"
   ]
  },
  {
   "cell_type": "code",
   "execution_count": 12,
   "metadata": {},
   "outputs": [],
   "source": [
    "def plot_edge_distribution(ax, graph, mode, g_type):\n",
    "    if (mode==\"out\" or mode==\"in\"):\n",
    "        x = list(range(0, graph.maxdegree(mode=mode) + 1))\n",
    "        y =[graph.degree(mode=mode).count(i) for i in x]\n",
    "\n",
    "        ax.loglog(x, y, \"k.\")\n",
    "        ax.set_xlabel(\"number of {}\".format(g_type))\n",
    "        ax.set_ylabel(\"number of users\")"
   ]
  },
  {
   "cell_type": "code",
   "execution_count": 13,
   "metadata": {},
   "outputs": [],
   "source": [
    "width = 12\n",
    "height = width / 1.618"
   ]
  },
  {
   "cell_type": "code",
   "execution_count": 14,
   "metadata": {
    "scrolled": false
   },
   "outputs": [
    {
     "data": {
      "image/png": "[encoded data removed]",
      "text/plain": [
       "<Figure size 864x533.993 with 4 Axes>"
      ]
     },
     "metadata": {
      "needs_background": "light"
     },
     "output_type": "display_data"
    }
   ],
   "source": [
    "fig, ax = plt.subplots(2,2, figsize=(width, height))\n",
    "fig.tight_layout(pad=2.5)\n",
    "plot_edge_distribution(ax[0, 0], r_graph, \"out\", \"retweets received\")\n",
    "plot_edge_distribution(ax[1, 0], r_graph, \"in\", \"retweets given\")\n",
    "plot_edge_distribution(ax[0, 1], m_graph, \"out\", \"mentions received\")\n",
    "plot_edge_distribution(ax[1, 1], m_graph, \"in\", \"mentions given\")\n",
    "fig.savefig(\"edge_distributions.png\", quality=95)"
   ]
  },
  {
   "cell_type": "code",
   "execution_count": 15,
   "metadata": {},
   "outputs": [],
   "source": [
    "# Build vocabulary vector\n",
    "# go through all of the edges in the edgelist. If a certain tag is used, then increment the entry in the tag.\n",
    "# will need a dictionary that maps hashtags to indices in the vocabulary vector\n",
    "# then going through the entire edgelist again, will need to look at the source (this is the actor)\n",
    "# and will need to look at the tags associated with that tweet\n",
    "# then going through each tag, find its appropriate index in the vector, and increment it for that actor\n"
   ]
  },
  {
   "cell_type": "code",
   "execution_count": 16,
   "metadata": {},
   "outputs": [],
   "source": [
    "def get_tag_vocab(graph):\n",
    "    tag2index = {}\n",
    "    index = 0\n",
    "    for taglist in graph.es[\"tags\"]:\n",
    "        for tag in taglist:\n",
    "            if tag not in tag2index:\n",
    "                tag2index[tag] = index\n",
    "                index = index + 1\n",
    "\n",
    "    return tag2index\n"
   ]
  },
  {
   "cell_type": "code",
   "execution_count": 17,
   "metadata": {},
   "outputs": [],
   "source": [
    "vocab = get_tag_vocab(all_graph)"
   ]
  },
  {
   "cell_type": "code",
   "execution_count": 18,
   "metadata": {},
   "outputs": [],
   "source": [
    "def get_bag_of_tags(graph, vocab):\n",
    "    n_nodes = len(graph.vs)\n",
    "    n_vocab = len(vocab)\n",
    "    bag_of_tags = np.zeros((n_nodes, n_vocab))\n",
    "\n",
    "    for i in range(len(graph.get_edgelist())):\n",
    "        node_index = graph.es[i].source\n",
    "        for tag in graph.es[i]['tags']:\n",
    "            tag_index = vocab[tag]\n",
    "            bag_of_tags[node_index][tag_index] += 1\n",
    "            \n",
    "    return bag_of_tags"
   ]
  },
  {
   "cell_type": "code",
   "execution_count": 19,
   "metadata": {},
   "outputs": [],
   "source": [
    "bag_of_tags = get_bag_of_tags(all_graph, vocab)"
   ]
  },
  {
   "cell_type": "code",
   "execution_count": 20,
   "metadata": {},
   "outputs": [],
   "source": [
    "# put into a pandas and perform PCA\n",
    "tags_df = pd.DataFrame(data=bag_of_tags, columns=vocab.keys())"
   ]
  },
  {
   "cell_type": "code",
   "execution_count": 21,
   "metadata": {},
   "outputs": [
    {
     "data": {
      "text/html": [
       "<div>\n",
       "<style scoped>\n",
       "    .dataframe tbody tr th:only-of-type {\n",
       "        vertical-align: middle;\n",
       "    }\n",
       "\n",
       "    .dataframe tbody tr th {\n",
       "        vertical-align: top;\n",
       "    }\n",
       "\n",
       "    .dataframe thead th {\n",
       "        text-align: right;\n",
       "    }\n",
       "</style>\n",
       "<table border=\"1\" class=\"dataframe\">\n",
       "  <thead>\n",
       "    <tr style=\"text-align: right;\">\n",
       "      <th></th>\n",
       "      <th>#tcot</th>\n",
       "      <th>#memories4nov</th>\n",
       "      <th>#ocra</th>\n",
       "      <th>#dadt</th>\n",
       "      <th>#alaska</th>\n",
       "      <th>#ak</th>\n",
       "      <th>#aksen</th>\n",
       "      <th>#teaparty</th>\n",
       "      <th>#gop</th>\n",
       "      <th>#justsayin</th>\n",
       "      <th>...</th>\n",
       "      <th>#ronjohnson</th>\n",
       "      <th>#fearmongers</th>\n",
       "      <th>#opp</th>\n",
       "      <th>#joemilelr</th>\n",
       "      <th>#socialnetwork</th>\n",
       "      <th>#wilmd</th>\n",
       "      <th>#winwin7</th>\n",
       "      <th>#maloney</th>\n",
       "      <th>#hold</th>\n",
       "      <th>#camdengop</th>\n",
       "    </tr>\n",
       "  </thead>\n",
       "  <tbody>\n",
       "    <tr>\n",
       "      <th>0</th>\n",
       "      <td>0.0</td>\n",
       "      <td>0.0</td>\n",
       "      <td>0.0</td>\n",
       "      <td>0.0</td>\n",
       "      <td>0.0</td>\n",
       "      <td>0.0</td>\n",
       "      <td>0.0</td>\n",
       "      <td>0.0</td>\n",
       "      <td>0.0</td>\n",
       "      <td>0.0</td>\n",
       "      <td>...</td>\n",
       "      <td>0.0</td>\n",
       "      <td>0.0</td>\n",
       "      <td>0.0</td>\n",
       "      <td>0.0</td>\n",
       "      <td>0.0</td>\n",
       "      <td>0.0</td>\n",
       "      <td>0.0</td>\n",
       "      <td>0.0</td>\n",
       "      <td>0.0</td>\n",
       "      <td>0.0</td>\n",
       "    </tr>\n",
       "    <tr>\n",
       "      <th>1</th>\n",
       "      <td>2.0</td>\n",
       "      <td>0.0</td>\n",
       "      <td>0.0</td>\n",
       "      <td>0.0</td>\n",
       "      <td>0.0</td>\n",
       "      <td>0.0</td>\n",
       "      <td>0.0</td>\n",
       "      <td>1.0</td>\n",
       "      <td>1.0</td>\n",
       "      <td>0.0</td>\n",
       "      <td>...</td>\n",
       "      <td>0.0</td>\n",
       "      <td>0.0</td>\n",
       "      <td>0.0</td>\n",
       "      <td>0.0</td>\n",
       "      <td>0.0</td>\n",
       "      <td>0.0</td>\n",
       "      <td>0.0</td>\n",
       "      <td>0.0</td>\n",
       "      <td>0.0</td>\n",
       "      <td>0.0</td>\n",
       "    </tr>\n",
       "    <tr>\n",
       "      <th>2</th>\n",
       "      <td>0.0</td>\n",
       "      <td>0.0</td>\n",
       "      <td>0.0</td>\n",
       "      <td>0.0</td>\n",
       "      <td>0.0</td>\n",
       "      <td>0.0</td>\n",
       "      <td>0.0</td>\n",
       "      <td>0.0</td>\n",
       "      <td>0.0</td>\n",
       "      <td>0.0</td>\n",
       "      <td>...</td>\n",
       "      <td>0.0</td>\n",
       "      <td>0.0</td>\n",
       "      <td>0.0</td>\n",
       "      <td>0.0</td>\n",
       "      <td>0.0</td>\n",
       "      <td>0.0</td>\n",
       "      <td>0.0</td>\n",
       "      <td>0.0</td>\n",
       "      <td>0.0</td>\n",
       "      <td>0.0</td>\n",
       "    </tr>\n",
       "    <tr>\n",
       "      <th>3</th>\n",
       "      <td>0.0</td>\n",
       "      <td>0.0</td>\n",
       "      <td>0.0</td>\n",
       "      <td>0.0</td>\n",
       "      <td>0.0</td>\n",
       "      <td>0.0</td>\n",
       "      <td>0.0</td>\n",
       "      <td>0.0</td>\n",
       "      <td>0.0</td>\n",
       "      <td>0.0</td>\n",
       "      <td>...</td>\n",
       "      <td>0.0</td>\n",
       "      <td>0.0</td>\n",
       "      <td>0.0</td>\n",
       "      <td>0.0</td>\n",
       "      <td>0.0</td>\n",
       "      <td>0.0</td>\n",
       "      <td>0.0</td>\n",
       "      <td>0.0</td>\n",
       "      <td>0.0</td>\n",
       "      <td>0.0</td>\n",
       "    </tr>\n",
       "    <tr>\n",
       "      <th>4</th>\n",
       "      <td>0.0</td>\n",
       "      <td>0.0</td>\n",
       "      <td>0.0</td>\n",
       "      <td>0.0</td>\n",
       "      <td>0.0</td>\n",
       "      <td>0.0</td>\n",
       "      <td>0.0</td>\n",
       "      <td>0.0</td>\n",
       "      <td>0.0</td>\n",
       "      <td>0.0</td>\n",
       "      <td>...</td>\n",
       "      <td>0.0</td>\n",
       "      <td>0.0</td>\n",
       "      <td>0.0</td>\n",
       "      <td>0.0</td>\n",
       "      <td>0.0</td>\n",
       "      <td>0.0</td>\n",
       "      <td>0.0</td>\n",
       "      <td>0.0</td>\n",
       "      <td>0.0</td>\n",
       "      <td>0.0</td>\n",
       "    </tr>\n",
       "  </tbody>\n",
       "</table>\n",
       "<p>5 rows × 8137 columns</p>\n",
       "</div>"
      ],
      "text/plain": [
       "   #tcot  #memories4nov  #ocra  #dadt  #alaska  #ak  #aksen  #teaparty  #gop  \\\n",
       "0    0.0            0.0    0.0    0.0      0.0  0.0     0.0        0.0   0.0   \n",
       "1    2.0            0.0    0.0    0.0      0.0  0.0     0.0        1.0   1.0   \n",
       "2    0.0            0.0    0.0    0.0      0.0  0.0     0.0        0.0   0.0   \n",
       "3    0.0            0.0    0.0    0.0      0.0  0.0     0.0        0.0   0.0   \n",
       "4    0.0            0.0    0.0    0.0      0.0  0.0     0.0        0.0   0.0   \n",
       "\n",
       "   #justsayin  ...  #ronjohnson  #fearmongers  #opp  #joemilelr  \\\n",
       "0         0.0  ...          0.0           0.0   0.0         0.0   \n",
       "1         0.0  ...          0.0           0.0   0.0         0.0   \n",
       "2         0.0  ...          0.0           0.0   0.0         0.0   \n",
       "3         0.0  ...          0.0           0.0   0.0         0.0   \n",
       "4         0.0  ...          0.0           0.0   0.0         0.0   \n",
       "\n",
       "   #socialnetwork  #wilmd  #winwin7  #maloney  #hold  #camdengop  \n",
       "0             0.0     0.0       0.0       0.0    0.0         0.0  \n",
       "1             0.0     0.0       0.0       0.0    0.0         0.0  \n",
       "2             0.0     0.0       0.0       0.0    0.0         0.0  \n",
       "3             0.0     0.0       0.0       0.0    0.0         0.0  \n",
       "4             0.0     0.0       0.0       0.0    0.0         0.0  \n",
       "\n",
       "[5 rows x 8137 columns]"
      ]
     },
     "execution_count": 21,
     "metadata": {},
     "output_type": "execute_result"
    }
   ],
   "source": [
    "tags_df.head()"
   ]
  },
  {
   "cell_type": "code",
   "execution_count": 22,
   "metadata": {},
   "outputs": [],
   "source": [
    "norm_tags = pd.DataFrame(data=StandardScaler().fit_transform(tags_df), columns=vocab.keys())"
   ]
  },
  {
   "cell_type": "code",
   "execution_count": 23,
   "metadata": {},
   "outputs": [
    {
     "data": {
      "text/html": [
       "<div>\n",
       "<style scoped>\n",
       "    .dataframe tbody tr th:only-of-type {\n",
       "        vertical-align: middle;\n",
       "    }\n",
       "\n",
       "    .dataframe tbody tr th {\n",
       "        vertical-align: top;\n",
       "    }\n",
       "\n",
       "    .dataframe thead th {\n",
       "        text-align: right;\n",
       "    }\n",
       "</style>\n",
       "<table border=\"1\" class=\"dataframe\">\n",
       "  <thead>\n",
       "    <tr style=\"text-align: right;\">\n",
       "      <th></th>\n",
       "      <th>#tcot</th>\n",
       "      <th>#memories4nov</th>\n",
       "      <th>#ocra</th>\n",
       "      <th>#dadt</th>\n",
       "      <th>#alaska</th>\n",
       "      <th>#ak</th>\n",
       "      <th>#aksen</th>\n",
       "      <th>#teaparty</th>\n",
       "      <th>#gop</th>\n",
       "      <th>#justsayin</th>\n",
       "      <th>...</th>\n",
       "      <th>#ronjohnson</th>\n",
       "      <th>#fearmongers</th>\n",
       "      <th>#opp</th>\n",
       "      <th>#joemilelr</th>\n",
       "      <th>#socialnetwork</th>\n",
       "      <th>#wilmd</th>\n",
       "      <th>#winwin7</th>\n",
       "      <th>#maloney</th>\n",
       "      <th>#hold</th>\n",
       "      <th>#camdengop</th>\n",
       "    </tr>\n",
       "  </thead>\n",
       "  <tbody>\n",
       "    <tr>\n",
       "      <th>0</th>\n",
       "      <td>-0.121762</td>\n",
       "      <td>-0.008279</td>\n",
       "      <td>-0.038114</td>\n",
       "      <td>-0.027791</td>\n",
       "      <td>-0.013573</td>\n",
       "      <td>-0.013942</td>\n",
       "      <td>-0.045922</td>\n",
       "      <td>-0.103284</td>\n",
       "      <td>-0.064314</td>\n",
       "      <td>-0.03639</td>\n",
       "      <td>...</td>\n",
       "      <td>-0.006681</td>\n",
       "      <td>-0.006681</td>\n",
       "      <td>-0.006681</td>\n",
       "      <td>-0.006681</td>\n",
       "      <td>-0.006681</td>\n",
       "      <td>-0.006681</td>\n",
       "      <td>-0.006681</td>\n",
       "      <td>-0.006681</td>\n",
       "      <td>-0.006681</td>\n",
       "      <td>-0.006681</td>\n",
       "    </tr>\n",
       "    <tr>\n",
       "      <th>1</th>\n",
       "      <td>0.023577</td>\n",
       "      <td>-0.008279</td>\n",
       "      <td>-0.038114</td>\n",
       "      <td>-0.027791</td>\n",
       "      <td>-0.013573</td>\n",
       "      <td>-0.013942</td>\n",
       "      <td>-0.045922</td>\n",
       "      <td>0.083125</td>\n",
       "      <td>0.140629</td>\n",
       "      <td>-0.03639</td>\n",
       "      <td>...</td>\n",
       "      <td>-0.006681</td>\n",
       "      <td>-0.006681</td>\n",
       "      <td>-0.006681</td>\n",
       "      <td>-0.006681</td>\n",
       "      <td>-0.006681</td>\n",
       "      <td>-0.006681</td>\n",
       "      <td>-0.006681</td>\n",
       "      <td>-0.006681</td>\n",
       "      <td>-0.006681</td>\n",
       "      <td>-0.006681</td>\n",
       "    </tr>\n",
       "    <tr>\n",
       "      <th>2</th>\n",
       "      <td>-0.121762</td>\n",
       "      <td>-0.008279</td>\n",
       "      <td>-0.038114</td>\n",
       "      <td>-0.027791</td>\n",
       "      <td>-0.013573</td>\n",
       "      <td>-0.013942</td>\n",
       "      <td>-0.045922</td>\n",
       "      <td>-0.103284</td>\n",
       "      <td>-0.064314</td>\n",
       "      <td>-0.03639</td>\n",
       "      <td>...</td>\n",
       "      <td>-0.006681</td>\n",
       "      <td>-0.006681</td>\n",
       "      <td>-0.006681</td>\n",
       "      <td>-0.006681</td>\n",
       "      <td>-0.006681</td>\n",
       "      <td>-0.006681</td>\n",
       "      <td>-0.006681</td>\n",
       "      <td>-0.006681</td>\n",
       "      <td>-0.006681</td>\n",
       "      <td>-0.006681</td>\n",
       "    </tr>\n",
       "    <tr>\n",
       "      <th>3</th>\n",
       "      <td>-0.121762</td>\n",
       "      <td>-0.008279</td>\n",
       "      <td>-0.038114</td>\n",
       "      <td>-0.027791</td>\n",
       "      <td>-0.013573</td>\n",
       "      <td>-0.013942</td>\n",
       "      <td>-0.045922</td>\n",
       "      <td>-0.103284</td>\n",
       "      <td>-0.064314</td>\n",
       "      <td>-0.03639</td>\n",
       "      <td>...</td>\n",
       "      <td>-0.006681</td>\n",
       "      <td>-0.006681</td>\n",
       "      <td>-0.006681</td>\n",
       "      <td>-0.006681</td>\n",
       "      <td>-0.006681</td>\n",
       "      <td>-0.006681</td>\n",
       "      <td>-0.006681</td>\n",
       "      <td>-0.006681</td>\n",
       "      <td>-0.006681</td>\n",
       "      <td>-0.006681</td>\n",
       "    </tr>\n",
       "    <tr>\n",
       "      <th>4</th>\n",
       "      <td>-0.121762</td>\n",
       "      <td>-0.008279</td>\n",
       "      <td>-0.038114</td>\n",
       "      <td>-0.027791</td>\n",
       "      <td>-0.013573</td>\n",
       "      <td>-0.013942</td>\n",
       "      <td>-0.045922</td>\n",
       "      <td>-0.103284</td>\n",
       "      <td>-0.064314</td>\n",
       "      <td>-0.03639</td>\n",
       "      <td>...</td>\n",
       "      <td>-0.006681</td>\n",
       "      <td>-0.006681</td>\n",
       "      <td>-0.006681</td>\n",
       "      <td>-0.006681</td>\n",
       "      <td>-0.006681</td>\n",
       "      <td>-0.006681</td>\n",
       "      <td>-0.006681</td>\n",
       "      <td>-0.006681</td>\n",
       "      <td>-0.006681</td>\n",
       "      <td>-0.006681</td>\n",
       "    </tr>\n",
       "  </tbody>\n",
       "</table>\n",
       "<p>5 rows × 8137 columns</p>\n",
       "</div>"
      ],
      "text/plain": [
       "      #tcot  #memories4nov     #ocra     #dadt   #alaska       #ak    #aksen  \\\n",
       "0 -0.121762      -0.008279 -0.038114 -0.027791 -0.013573 -0.013942 -0.045922   \n",
       "1  0.023577      -0.008279 -0.038114 -0.027791 -0.013573 -0.013942 -0.045922   \n",
       "2 -0.121762      -0.008279 -0.038114 -0.027791 -0.013573 -0.013942 -0.045922   \n",
       "3 -0.121762      -0.008279 -0.038114 -0.027791 -0.013573 -0.013942 -0.045922   \n",
       "4 -0.121762      -0.008279 -0.038114 -0.027791 -0.013573 -0.013942 -0.045922   \n",
       "\n",
       "   #teaparty      #gop  #justsayin  ...  #ronjohnson  #fearmongers      #opp  \\\n",
       "0  -0.103284 -0.064314    -0.03639  ...    -0.006681     -0.006681 -0.006681   \n",
       "1   0.083125  0.140629    -0.03639  ...    -0.006681     -0.006681 -0.006681   \n",
       "2  -0.103284 -0.064314    -0.03639  ...    -0.006681     -0.006681 -0.006681   \n",
       "3  -0.103284 -0.064314    -0.03639  ...    -0.006681     -0.006681 -0.006681   \n",
       "4  -0.103284 -0.064314    -0.03639  ...    -0.006681     -0.006681 -0.006681   \n",
       "\n",
       "   #joemilelr  #socialnetwork    #wilmd  #winwin7  #maloney     #hold  \\\n",
       "0   -0.006681       -0.006681 -0.006681 -0.006681 -0.006681 -0.006681   \n",
       "1   -0.006681       -0.006681 -0.006681 -0.006681 -0.006681 -0.006681   \n",
       "2   -0.006681       -0.006681 -0.006681 -0.006681 -0.006681 -0.006681   \n",
       "3   -0.006681       -0.006681 -0.006681 -0.006681 -0.006681 -0.006681   \n",
       "4   -0.006681       -0.006681 -0.006681 -0.006681 -0.006681 -0.006681   \n",
       "\n",
       "   #camdengop  \n",
       "0   -0.006681  \n",
       "1   -0.006681  \n",
       "2   -0.006681  \n",
       "3   -0.006681  \n",
       "4   -0.006681  \n",
       "\n",
       "[5 rows x 8137 columns]"
      ]
     },
     "execution_count": 23,
     "metadata": {},
     "output_type": "execute_result"
    }
   ],
   "source": [
    "norm_tags.head()"
   ]
  },
  {
   "cell_type": "code",
   "execution_count": 24,
   "metadata": {},
   "outputs": [],
   "source": [
    "# Perform PCA\n",
    "pca = PCA(n_components=2)\n",
    "principal_tags = pd.DataFrame(data=pca.fit_transform(norm_tags), columns=[\"PC1\", \"PC2\"])"
   ]
  },
  {
   "cell_type": "code",
   "execution_count": 25,
   "metadata": {},
   "outputs": [
    {
     "data": {
      "text/html": [
       "<div>\n",
       "<style scoped>\n",
       "    .dataframe tbody tr th:only-of-type {\n",
       "        vertical-align: middle;\n",
       "    }\n",
       "\n",
       "    .dataframe tbody tr th {\n",
       "        vertical-align: top;\n",
       "    }\n",
       "\n",
       "    .dataframe thead th {\n",
       "        text-align: right;\n",
       "    }\n",
       "</style>\n",
       "<table border=\"1\" class=\"dataframe\">\n",
       "  <thead>\n",
       "    <tr style=\"text-align: right;\">\n",
       "      <th></th>\n",
       "      <th>PC1</th>\n",
       "      <th>PC2</th>\n",
       "    </tr>\n",
       "  </thead>\n",
       "  <tbody>\n",
       "    <tr>\n",
       "      <th>0</th>\n",
       "      <td>-0.155326</td>\n",
       "      <td>-0.170665</td>\n",
       "    </tr>\n",
       "    <tr>\n",
       "      <th>1</th>\n",
       "      <td>-0.106963</td>\n",
       "      <td>-0.055930</td>\n",
       "    </tr>\n",
       "    <tr>\n",
       "      <th>2</th>\n",
       "      <td>-0.102732</td>\n",
       "      <td>-0.140135</td>\n",
       "    </tr>\n",
       "    <tr>\n",
       "      <th>3</th>\n",
       "      <td>-0.155326</td>\n",
       "      <td>-0.170665</td>\n",
       "    </tr>\n",
       "    <tr>\n",
       "      <th>4</th>\n",
       "      <td>-0.146373</td>\n",
       "      <td>-0.156208</td>\n",
       "    </tr>\n",
       "  </tbody>\n",
       "</table>\n",
       "</div>"
      ],
      "text/plain": [
       "        PC1       PC2\n",
       "0 -0.155326 -0.170665\n",
       "1 -0.106963 -0.055930\n",
       "2 -0.102732 -0.140135\n",
       "3 -0.155326 -0.170665\n",
       "4 -0.146373 -0.156208"
      ]
     },
     "execution_count": 25,
     "metadata": {},
     "output_type": "execute_result"
    }
   ],
   "source": [
    "principal_tags.head()"
   ]
  },
  {
   "cell_type": "code",
   "execution_count": 26,
   "metadata": {},
   "outputs": [
    {
     "data": {
      "text/html": [
       "<div>\n",
       "<style scoped>\n",
       "    .dataframe tbody tr th:only-of-type {\n",
       "        vertical-align: middle;\n",
       "    }\n",
       "\n",
       "    .dataframe tbody tr th {\n",
       "        vertical-align: top;\n",
       "    }\n",
       "\n",
       "    .dataframe thead th {\n",
       "        text-align: right;\n",
       "    }\n",
       "</style>\n",
       "<table border=\"1\" class=\"dataframe\">\n",
       "  <thead>\n",
       "    <tr style=\"text-align: right;\">\n",
       "      <th></th>\n",
       "      <th>label</th>\n",
       "    </tr>\n",
       "  </thead>\n",
       "  <tbody>\n",
       "    <tr>\n",
       "      <th>0</th>\n",
       "      <td>right</td>\n",
       "    </tr>\n",
       "    <tr>\n",
       "      <th>1</th>\n",
       "      <td>right</td>\n",
       "    </tr>\n",
       "    <tr>\n",
       "      <th>2</th>\n",
       "      <td>left</td>\n",
       "    </tr>\n",
       "    <tr>\n",
       "      <th>3</th>\n",
       "      <td>left</td>\n",
       "    </tr>\n",
       "    <tr>\n",
       "      <th>4</th>\n",
       "      <td>-</td>\n",
       "    </tr>\n",
       "  </tbody>\n",
       "</table>\n",
       "</div>"
      ],
      "text/plain": [
       "   label\n",
       "0  right\n",
       "1  right\n",
       "2   left\n",
       "3   left\n",
       "4      -"
      ]
     },
     "execution_count": 26,
     "metadata": {},
     "output_type": "execute_result"
    }
   ],
   "source": [
    "# Create full dataframe\n",
    "label = pd.DataFrame(data=all_graph.vs[\"cluster\"], columns=[\"label\"])\n",
    "label.head()"
   ]
  },
  {
   "cell_type": "code",
   "execution_count": 27,
   "metadata": {},
   "outputs": [
    {
     "data": {
      "text/html": [
       "<div>\n",
       "<style scoped>\n",
       "    .dataframe tbody tr th:only-of-type {\n",
       "        vertical-align: middle;\n",
       "    }\n",
       "\n",
       "    .dataframe tbody tr th {\n",
       "        vertical-align: top;\n",
       "    }\n",
       "\n",
       "    .dataframe thead th {\n",
       "        text-align: right;\n",
       "    }\n",
       "</style>\n",
       "<table border=\"1\" class=\"dataframe\">\n",
       "  <thead>\n",
       "    <tr style=\"text-align: right;\">\n",
       "      <th></th>\n",
       "      <th>PC1</th>\n",
       "      <th>PC2</th>\n",
       "      <th>label</th>\n",
       "    </tr>\n",
       "  </thead>\n",
       "  <tbody>\n",
       "    <tr>\n",
       "      <th>0</th>\n",
       "      <td>-0.155326</td>\n",
       "      <td>-0.170665</td>\n",
       "      <td>right</td>\n",
       "    </tr>\n",
       "    <tr>\n",
       "      <th>1</th>\n",
       "      <td>-0.106963</td>\n",
       "      <td>-0.055930</td>\n",
       "      <td>right</td>\n",
       "    </tr>\n",
       "    <tr>\n",
       "      <th>2</th>\n",
       "      <td>-0.102732</td>\n",
       "      <td>-0.140135</td>\n",
       "      <td>left</td>\n",
       "    </tr>\n",
       "    <tr>\n",
       "      <th>3</th>\n",
       "      <td>-0.155326</td>\n",
       "      <td>-0.170665</td>\n",
       "      <td>left</td>\n",
       "    </tr>\n",
       "    <tr>\n",
       "      <th>4</th>\n",
       "      <td>-0.146373</td>\n",
       "      <td>-0.156208</td>\n",
       "      <td>-</td>\n",
       "    </tr>\n",
       "  </tbody>\n",
       "</table>\n",
       "</div>"
      ],
      "text/plain": [
       "        PC1       PC2  label\n",
       "0 -0.155326 -0.170665  right\n",
       "1 -0.106963 -0.055930  right\n",
       "2 -0.102732 -0.140135   left\n",
       "3 -0.155326 -0.170665   left\n",
       "4 -0.146373 -0.156208      -"
      ]
     },
     "execution_count": 27,
     "metadata": {},
     "output_type": "execute_result"
    }
   ],
   "source": [
    "principal_tags_full = pd.concat([principal_tags, label], axis=1)\n",
    "principal_tags_full.head()"
   ]
  },
  {
   "cell_type": "code",
   "execution_count": 33,
   "metadata": {},
   "outputs": [
    {
     "data": {
      "image/png": "[encoded data removed]",
      "text/plain": [
       "<Figure size 576x432 with 1 Axes>"
      ]
     },
     "metadata": {
      "needs_background": "light"
     },
     "output_type": "display_data"
    }
   ],
   "source": [
    "# plot with given labels\n",
    "fig = plt.figure(figsize=(8,6))\n",
    "ax = fig.gca()\n",
    "ax.set_xlabel('PC1')\n",
    "ax.set_ylabel('PC2')\n",
    "l = principal_tags_full[\"label\"]\n",
    "label_list = l.unique()\n",
    "color_dict = {\"left\": \"#0015bc\", \"right\": \"#e91d0e\", \"-\": \"grey\"}\n",
    "for target in label_list:\n",
    "    target_indices = (l == target)\n",
    "    ax.scatter(principal_tags_full.loc[target_indices, 'PC1']\n",
    "              , principal_tags_full.loc[target_indices, 'PC2']\n",
    "              , alpha=0.6, c=color_dict[target])\n",
    "    ax.legend(label_list, loc='best')\n",
    "    ax.set_xlim(-1,20)\n",
    "    ax.set_ylim(-1,30)\n",
    "    \n",
    "fig.savefig(\"tags_pca.png\", quality=95)"
   ]
  },
  {
   "cell_type": "code",
   "execution_count": 36,
   "metadata": {},
   "outputs": [],
   "source": [
    "# k-means\n",
    "kmeans = KMeans(n_clusters=2, init='k-means++', n_init=5).fit(norm_tags)\n"
   ]
  },
  {
   "cell_type": "code",
   "execution_count": 38,
   "metadata": {},
   "outputs": [],
   "source": [
    "clusters = pd.DataFrame(data=kmeans.labels_, columns=[\"label\"])"
   ]
  },
  {
   "cell_type": "code",
   "execution_count": 45,
   "metadata": {},
   "outputs": [
    {
     "data": {
      "text/plain": [
       "0        0\n",
       "1        0\n",
       "2        0\n",
       "3        0\n",
       "4        0\n",
       "5        0\n",
       "6        0\n",
       "7        0\n",
       "8        0\n",
       "9        0\n",
       "10       0\n",
       "11       0\n",
       "12       0\n",
       "13       0\n",
       "14       0\n",
       "15       0\n",
       "16       0\n",
       "17       0\n",
       "18       0\n",
       "19       0\n",
       "20       0\n",
       "21       0\n",
       "22       0\n",
       "23       0\n",
       "24       0\n",
       "25       0\n",
       "26       0\n",
       "27       0\n",
       "28       0\n",
       "29       0\n",
       "        ..\n",
       "22375    0\n",
       "22376    0\n",
       "22377    0\n",
       "22378    0\n",
       "22379    0\n",
       "22380    0\n",
       "22381    0\n",
       "22382    0\n",
       "22383    0\n",
       "22384    0\n",
       "22385    0\n",
       "22386    0\n",
       "22387    0\n",
       "22388    0\n",
       "22389    0\n",
       "22390    0\n",
       "22391    0\n",
       "22392    0\n",
       "22393    0\n",
       "22394    0\n",
       "22395    0\n",
       "22396    0\n",
       "22397    0\n",
       "22398    0\n",
       "22399    0\n",
       "22400    0\n",
       "22401    0\n",
       "22402    0\n",
       "22403    0\n",
       "22404    0\n",
       "Name: label, Length: 22405, dtype: int32"
      ]
     },
     "execution_count": 45,
     "metadata": {},
     "output_type": "execute_result"
    }
   ],
   "source": [
    "clusters[\"label\"]"
   ]
  },
  {
   "cell_type": "code",
   "execution_count": 53,
   "metadata": {},
   "outputs": [
    {
     "data": {
      "text/plain": [
       "array([0, 1])"
      ]
     },
     "execution_count": 53,
     "metadata": {},
     "output_type": "execute_result"
    }
   ],
   "source": [
    "clusters[\"label\"].unique()"
   ]
  },
  {
   "cell_type": "code",
   "execution_count": null,
   "metadata": {},
   "outputs": [],
   "source": []
  },
  {
   "cell_type": "code",
   "execution_count": null,
   "metadata": {},
   "outputs": [],
   "source": []
  }
 ],
 "metadata": {
  "kernelspec": {
   "display_name": "Python 3",
   "language": "python",
   "name": "python3"
  },
  "language_info": {
   "codemirror_mode": {
    "name": "ipython",
    "version": 3
   },
   "file_extension": ".py",
   "mimetype": "text/x-python",
   "name": "python",
   "nbconvert_exporter": "python",
   "pygments_lexer": "ipython3",
   "version": "3.7.1"
  }
 },
 "nbformat": 4,
 "nbformat_minor": 2
}
