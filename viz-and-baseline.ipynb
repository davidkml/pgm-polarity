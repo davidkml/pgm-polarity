{
 "cells": [
  {
   "cell_type": "code",
   "execution_count": 177,
   "metadata": {},
   "outputs": [],
   "source": [
    "import numpy as np\n",
    "import pandas as pd\n",
    "import matplotlib.pyplot as plt\n",
    "\n",
    "from sklearn.preprocessing import StandardScaler\n",
    "from sklearn.decomposition import PCA\n",
    "from sklearn.cluster import KMeans\n",
    "from sklearn import svm\n",
    "from sklearn.model_selection import train_test_split, GridSearchCV\n",
    "from sklearn.linear_model import LogisticRegression\n",
    "from sklearn.neighbors import KNeighborsClassifier\n",
    "from sklearn.metrics import accuracy_score\n",
    "\n",
    "import seaborn as sns\n",
    "\n",
    "import pickle\n",
    "import igraph"
   ]
  },
  {
   "cell_type": "code",
   "execution_count": 178,
   "metadata": {},
   "outputs": [],
   "source": [
    "m_graph = pickle.load(open('./data/icwsm_polarization/mention_igraph.pickle', \"rb\"))\n",
    "r_graph = pickle.load(open('./data/icwsm_polarization/retweet_igraph.pickle', \"rb\"))"
   ]
  },
  {
   "cell_type": "code",
   "execution_count": 179,
   "metadata": {},
   "outputs": [],
   "source": [
    "all_graph = pickle.load(open('./data/icwsm_polarization/all_igraph.pickle', \"rb\"))"
   ]
  },
  {
   "cell_type": "code",
   "execution_count": 180,
   "metadata": {},
   "outputs": [
    {
     "data": {
      "text/html": [
       "<div>\n",
       "<style scoped>\n",
       "    .dataframe tbody tr th:only-of-type {\n",
       "        vertical-align: middle;\n",
       "    }\n",
       "\n",
       "    .dataframe tbody tr th {\n",
       "        vertical-align: top;\n",
       "    }\n",
       "\n",
       "    .dataframe thead th {\n",
       "        text-align: right;\n",
       "    }\n",
       "</style>\n",
       "<table border=\"1\" class=\"dataframe\">\n",
       "  <thead>\n",
       "    <tr style=\"text-align: right;\">\n",
       "      <th></th>\n",
       "      <th>type</th>\n",
       "    </tr>\n",
       "  </thead>\n",
       "  <tbody>\n",
       "    <tr>\n",
       "      <th>0</th>\n",
       "      <td>retweet</td>\n",
       "    </tr>\n",
       "    <tr>\n",
       "      <th>1</th>\n",
       "      <td>retweet</td>\n",
       "    </tr>\n",
       "    <tr>\n",
       "      <th>2</th>\n",
       "      <td>retweet</td>\n",
       "    </tr>\n",
       "    <tr>\n",
       "      <th>3</th>\n",
       "      <td>retweet</td>\n",
       "    </tr>\n",
       "    <tr>\n",
       "      <th>4</th>\n",
       "      <td>reply</td>\n",
       "    </tr>\n",
       "  </tbody>\n",
       "</table>\n",
       "</div>"
      ],
      "text/plain": [
       "      type\n",
       "0  retweet\n",
       "1  retweet\n",
       "2  retweet\n",
       "3  retweet\n",
       "4    reply"
      ]
     },
     "execution_count": 180,
     "metadata": {},
     "output_type": "execute_result"
    }
   ],
   "source": [
    "# get edge types\n",
    "all_graph_etypes = pd.read_csv('./data/icwsm_polarization/all.edgelist', sep='\\t', usecols=[2], names=[\"type\"])\n",
    "all_graph_etypes.head()"
   ]
  },
  {
   "cell_type": "code",
   "execution_count": 181,
   "metadata": {},
   "outputs": [
    {
     "data": {
      "text/plain": [
       "'retweet'"
      ]
     },
     "execution_count": 181,
     "metadata": {},
     "output_type": "execute_result"
    }
   ],
   "source": [
    "all_graph_etypes.loc[3].type"
   ]
  },
  {
   "cell_type": "code",
   "execution_count": 182,
   "metadata": {},
   "outputs": [
    {
     "data": {
      "text/plain": [
       "['tags', 'type', 'urls', 'time']"
      ]
     },
     "execution_count": 182,
     "metadata": {},
     "output_type": "execute_result"
    }
   ],
   "source": [
    "r_graph.edge_attributes()"
   ]
  },
  {
   "cell_type": "code",
   "execution_count": 183,
   "metadata": {},
   "outputs": [
    {
     "data": {
      "text/plain": [
       "[(12464, 7349),\n",
       " (6820, 12569),\n",
       " (4336, 15967),\n",
       " (16397, 5927),\n",
       " (8829, 13851),\n",
       " (17673, 5153),\n",
       " (5467, 3944),\n",
       " (9864, 2813),\n",
       " (15781, 5425),\n",
       " (1195, 6940)]"
      ]
     },
     "execution_count": 183,
     "metadata": {},
     "output_type": "execute_result"
    }
   ],
   "source": [
    "r_graph.get_edgelist()[0:10]"
   ]
  },
  {
   "cell_type": "code",
   "execution_count": 184,
   "metadata": {},
   "outputs": [
    {
     "data": {
      "text/plain": [
       "[['#tcot', '#tlot'],\n",
       " ['#p2', '#progca', '#casen'],\n",
       " ['#dems', '#ocra', '#p2', '#s'],\n",
       " ['#tcot'],\n",
       " ['#teaparty', '#tcot', '#alaska', '#ak'],\n",
       " ['#desen', '#tcot', '#teaparty'],\n",
       " ['#cuba', '#obama', '#eeuu'],\n",
       " ['#ocra', '#tcot'],\n",
       " ['#dems'],\n",
       " ['#tcot', '#teaparty', '#sgp']]"
      ]
     },
     "execution_count": 184,
     "metadata": {},
     "output_type": "execute_result"
    }
   ],
   "source": [
    "r_graph.es[\"tags\"][0:10]"
   ]
  },
  {
   "cell_type": "code",
   "execution_count": 185,
   "metadata": {},
   "outputs": [],
   "source": [
    "def reverse_igraph_edges(graph):\n",
    "    edge_attributes = graph.edge_attributes()\n",
    "    attributes_dict = {attr:r_graph.es[attr] for attr in edge_attributes}\n",
    "    \n",
    "    reversed_edges = [tuple(reversed(edge)) for edge  in graph.get_edgelist()]\n",
    "    \n",
    "    graph.es.delete()\n",
    "    \n",
    "    graph.add_edges(reversed_edges)\n",
    "    \n",
    "    for attr in edge_attributes:\n",
    "        r_graph.es[attr] = attributes_dict[attr]\n"
   ]
  },
  {
   "cell_type": "code",
   "execution_count": 186,
   "metadata": {},
   "outputs": [],
   "source": [
    "reverse_igraph_edges(r_graph)"
   ]
  },
  {
   "cell_type": "code",
   "execution_count": 187,
   "metadata": {},
   "outputs": [
    {
     "data": {
      "text/plain": [
       "[(7349, 12464),\n",
       " (12569, 6820),\n",
       " (15967, 4336),\n",
       " (5927, 16397),\n",
       " (13851, 8829),\n",
       " (5153, 17673),\n",
       " (3944, 5467),\n",
       " (2813, 9864),\n",
       " (5425, 15781),\n",
       " (6940, 1195)]"
      ]
     },
     "execution_count": 187,
     "metadata": {},
     "output_type": "execute_result"
    }
   ],
   "source": [
    "r_graph.get_edgelist()[0:10]"
   ]
  },
  {
   "cell_type": "code",
   "execution_count": 188,
   "metadata": {},
   "outputs": [
    {
     "data": {
      "text/plain": [
       "[['#tcot', '#tlot'],\n",
       " ['#p2', '#progca', '#casen'],\n",
       " ['#dems', '#ocra', '#p2', '#s'],\n",
       " ['#tcot'],\n",
       " ['#teaparty', '#tcot', '#alaska', '#ak'],\n",
       " ['#desen', '#tcot', '#teaparty'],\n",
       " ['#cuba', '#obama', '#eeuu'],\n",
       " ['#ocra', '#tcot'],\n",
       " ['#dems'],\n",
       " ['#tcot', '#teaparty', '#sgp']]"
      ]
     },
     "execution_count": 188,
     "metadata": {},
     "output_type": "execute_result"
    }
   ],
   "source": [
    "r_graph.es[\"tags\"][0:10]"
   ]
  },
  {
   "cell_type": "code",
   "execution_count": 189,
   "metadata": {},
   "outputs": [],
   "source": [
    "# To re-compute the mention layout, uncomment below\n",
    "\n",
    "# m_layout = m_graph.layout(\"large\")\n",
    "# pickle.dump(m_layout, open(\"mention_layout.pickle\", \"wb\"))"
   ]
  },
  {
   "cell_type": "code",
   "execution_count": 190,
   "metadata": {},
   "outputs": [],
   "source": [
    "# Load previously saved layout\n",
    "m_layout = pickle.load(open(\"objects/mention_layout.pickle\", \"rb\"))"
   ]
  },
  {
   "cell_type": "code",
   "execution_count": 191,
   "metadata": {},
   "outputs": [],
   "source": [
    "# To re-compute the retweet layout, uncomment below\n",
    "\n",
    "# r_layout=r_graph.layout(\"large\")\n",
    "# pickle.dump(r_layout, open(\"retweet_layout.pickle\", \"wb\"))"
   ]
  },
  {
   "cell_type": "code",
   "execution_count": 192,
   "metadata": {},
   "outputs": [],
   "source": [
    "r_layout=pickle.load(open(\"objects/retweet_layout.pickle\", \"rb\"))"
   ]
  },
  {
   "cell_type": "code",
   "execution_count": 193,
   "metadata": {},
   "outputs": [],
   "source": [
    "m_graph.vs[\"size\"]=4\n",
    "m_graph.es[\"arrow_size\"]=0.3\n",
    "m_graph.es[\"width\"]=0.5\n",
    "m_graph.es[\"color\"]=\"#b3b3b3\"\n",
    "color_dict = {\"left\": \"#0015bc\", \"right\": \"#e91d0e\", \"-\": \"grey\"}\n",
    "m_graph.vs[\"color\"] = [color_dict[cluster] for cluster in m_graph.vs[\"cluster\"]]\n",
    "m_out = igraph.plot(m_graph, layout=m_layout)\n",
    "\n",
    "m_out.save(\"mention_network.png\")"
   ]
  },
  {
   "cell_type": "code",
   "execution_count": 194,
   "metadata": {},
   "outputs": [],
   "source": [
    "r_graph.vs[\"size\"]=4\n",
    "r_graph.es[\"arrow_size\"]=0.3\n",
    "r_graph.es[\"width\"]=0.5\n",
    "r_graph.es[\"color\"]=\"#b3b3b3\"\n",
    "color_dict = {\"left\": \"#0015bc\", \"right\": \"#e91d0e\", \"-\": \"grey\"}\n",
    "r_graph.vs[\"color\"] = [color_dict[cluster] for cluster in r_graph.vs[\"cluster\"]]\n",
    "r_out = igraph.plot(r_graph, layout=r_layout)\n",
    "\n",
    "r_out.save(\"retweet_network.png\")"
   ]
  },
  {
   "cell_type": "code",
   "execution_count": 195,
   "metadata": {},
   "outputs": [],
   "source": [
    "def plot_edge_distribution(ax, graph, mode, g_type):\n",
    "    if (mode==\"out\" or mode==\"in\"):\n",
    "        x = list(range(0, graph.maxdegree(mode=mode) + 1))\n",
    "        y =[graph.degree(mode=mode).count(i) for i in x]\n",
    "\n",
    "        ax.loglog(x, y, \"k.\")\n",
    "        ax.set_xlabel(\"number of {}\".format(g_type))\n",
    "        ax.set_ylabel(\"number of users\")"
   ]
  },
  {
   "cell_type": "code",
   "execution_count": 196,
   "metadata": {},
   "outputs": [],
   "source": [
    "width = 12\n",
    "height = width / 1.618"
   ]
  },
  {
   "cell_type": "code",
   "execution_count": 197,
   "metadata": {
    "scrolled": false
   },
   "outputs": [
    {
     "data": {
      "image/png": "[encoded data removed]",
      "text/plain": [
       "<Figure size 864x533.993 with 4 Axes>"
      ]
     },
     "metadata": {
      "needs_background": "light"
     },
     "output_type": "display_data"
    }
   ],
   "source": [
    "fig, ax = plt.subplots(2,2, figsize=(width, height))\n",
    "fig.tight_layout(pad=2.5)\n",
    "plot_edge_distribution(ax[0, 0], r_graph, \"out\", \"retweets received\")\n",
    "plot_edge_distribution(ax[1, 0], r_graph, \"in\", \"retweets given\")\n",
    "plot_edge_distribution(ax[0, 1], m_graph, \"out\", \"mentions received\")\n",
    "plot_edge_distribution(ax[1, 1], m_graph, \"in\", \"mentions given\")\n",
    "fig.savefig(\"edge_distributions.png\", quality=95)"
   ]
  },
  {
   "cell_type": "code",
   "execution_count": 198,
   "metadata": {},
   "outputs": [],
   "source": [
    "# Build vocabulary vector\n",
    "# go through all of the edges in the edgelist. If a certain tag is used, then increment the entry in the tag.\n",
    "# will need a dictionary that maps hashtags to indices in the vocabulary vector\n",
    "# then going through the entire edgelist again, will need to look at the source (this is the actor)\n",
    "# and will need to look at the tags associated with that tweet\n",
    "# then going through each tag, find its appropriate index in the vector, and increment it for that actor\n"
   ]
  },
  {
   "cell_type": "code",
   "execution_count": 199,
   "metadata": {},
   "outputs": [],
   "source": [
    "def get_tag_vocab(graph):\n",
    "    tag2index = {}\n",
    "    index = 0\n",
    "    for taglist in graph.es[\"tags\"]:\n",
    "        for tag in taglist:\n",
    "            if tag not in tag2index:\n",
    "                tag2index[tag] = index\n",
    "                index = index + 1\n",
    "\n",
    "    return tag2index\n"
   ]
  },
  {
   "cell_type": "code",
   "execution_count": 200,
   "metadata": {},
   "outputs": [],
   "source": [
    "vocab = get_tag_vocab(all_graph)"
   ]
  },
  {
   "cell_type": "code",
   "execution_count": 201,
   "metadata": {},
   "outputs": [],
   "source": [
    "def get_bag_of_tags(graph, etypes, vocab):\n",
    "    n_nodes = len(graph.vs)\n",
    "    n_vocab = len(vocab)\n",
    "    bag_of_tags = np.zeros((n_nodes, n_vocab))\n",
    "\n",
    "    for i in range(len(graph.get_edgelist())):\n",
    "        if (etypes.iloc[i].type == 'retweet'):\n",
    "            node_index = graph.es[i].target\n",
    "        else:\n",
    "            node_index = graph.es[i].source\n",
    "        for tag in graph.es[i]['tags']:\n",
    "            tag_index = vocab[tag]\n",
    "            bag_of_tags[node_index][tag_index] += 1\n",
    "            \n",
    "    return bag_of_tags"
   ]
  },
  {
   "cell_type": "code",
   "execution_count": 202,
   "metadata": {},
   "outputs": [],
   "source": [
    "bag_of_tags = get_bag_of_tags(all_graph, all_graph_etypes, vocab)"
   ]
  },
  {
   "cell_type": "code",
   "execution_count": 203,
   "metadata": {},
   "outputs": [],
   "source": [
    "# put into a pandas and perform PCA\n",
    "tags_df = pd.DataFrame(data=bag_of_tags, columns=vocab.keys())"
   ]
  },
  {
   "cell_type": "code",
   "execution_count": 204,
   "metadata": {},
   "outputs": [
    {
     "data": {
      "text/html": [
       "<div>\n",
       "<style scoped>\n",
       "    .dataframe tbody tr th:only-of-type {\n",
       "        vertical-align: middle;\n",
       "    }\n",
       "\n",
       "    .dataframe tbody tr th {\n",
       "        vertical-align: top;\n",
       "    }\n",
       "\n",
       "    .dataframe thead th {\n",
       "        text-align: right;\n",
       "    }\n",
       "</style>\n",
       "<table border=\"1\" class=\"dataframe\">\n",
       "  <thead>\n",
       "    <tr style=\"text-align: right;\">\n",
       "      <th></th>\n",
       "      <th>#tcot</th>\n",
       "      <th>#memories4nov</th>\n",
       "      <th>#ocra</th>\n",
       "      <th>#dadt</th>\n",
       "      <th>#alaska</th>\n",
       "      <th>#ak</th>\n",
       "      <th>#aksen</th>\n",
       "      <th>#teaparty</th>\n",
       "      <th>#gop</th>\n",
       "      <th>#justsayin</th>\n",
       "      <th>...</th>\n",
       "      <th>#ronjohnson</th>\n",
       "      <th>#fearmongers</th>\n",
       "      <th>#opp</th>\n",
       "      <th>#joemilelr</th>\n",
       "      <th>#socialnetwork</th>\n",
       "      <th>#wilmd</th>\n",
       "      <th>#winwin7</th>\n",
       "      <th>#maloney</th>\n",
       "      <th>#hold</th>\n",
       "      <th>#camdengop</th>\n",
       "    </tr>\n",
       "  </thead>\n",
       "  <tbody>\n",
       "    <tr>\n",
       "      <th>0</th>\n",
       "      <td>1.0</td>\n",
       "      <td>0.0</td>\n",
       "      <td>0.0</td>\n",
       "      <td>0.0</td>\n",
       "      <td>0.0</td>\n",
       "      <td>0.0</td>\n",
       "      <td>0.0</td>\n",
       "      <td>0.0</td>\n",
       "      <td>0.0</td>\n",
       "      <td>0.0</td>\n",
       "      <td>...</td>\n",
       "      <td>0.0</td>\n",
       "      <td>0.0</td>\n",
       "      <td>0.0</td>\n",
       "      <td>0.0</td>\n",
       "      <td>0.0</td>\n",
       "      <td>0.0</td>\n",
       "      <td>0.0</td>\n",
       "      <td>0.0</td>\n",
       "      <td>0.0</td>\n",
       "      <td>0.0</td>\n",
       "    </tr>\n",
       "    <tr>\n",
       "      <th>1</th>\n",
       "      <td>1.0</td>\n",
       "      <td>0.0</td>\n",
       "      <td>0.0</td>\n",
       "      <td>0.0</td>\n",
       "      <td>0.0</td>\n",
       "      <td>0.0</td>\n",
       "      <td>0.0</td>\n",
       "      <td>0.0</td>\n",
       "      <td>0.0</td>\n",
       "      <td>0.0</td>\n",
       "      <td>...</td>\n",
       "      <td>0.0</td>\n",
       "      <td>0.0</td>\n",
       "      <td>0.0</td>\n",
       "      <td>0.0</td>\n",
       "      <td>0.0</td>\n",
       "      <td>0.0</td>\n",
       "      <td>0.0</td>\n",
       "      <td>0.0</td>\n",
       "      <td>0.0</td>\n",
       "      <td>0.0</td>\n",
       "    </tr>\n",
       "    <tr>\n",
       "      <th>2</th>\n",
       "      <td>0.0</td>\n",
       "      <td>0.0</td>\n",
       "      <td>0.0</td>\n",
       "      <td>0.0</td>\n",
       "      <td>0.0</td>\n",
       "      <td>0.0</td>\n",
       "      <td>0.0</td>\n",
       "      <td>2.0</td>\n",
       "      <td>1.0</td>\n",
       "      <td>0.0</td>\n",
       "      <td>...</td>\n",
       "      <td>0.0</td>\n",
       "      <td>0.0</td>\n",
       "      <td>0.0</td>\n",
       "      <td>0.0</td>\n",
       "      <td>0.0</td>\n",
       "      <td>0.0</td>\n",
       "      <td>0.0</td>\n",
       "      <td>0.0</td>\n",
       "      <td>0.0</td>\n",
       "      <td>0.0</td>\n",
       "    </tr>\n",
       "    <tr>\n",
       "      <th>3</th>\n",
       "      <td>0.0</td>\n",
       "      <td>0.0</td>\n",
       "      <td>0.0</td>\n",
       "      <td>0.0</td>\n",
       "      <td>0.0</td>\n",
       "      <td>0.0</td>\n",
       "      <td>0.0</td>\n",
       "      <td>0.0</td>\n",
       "      <td>0.0</td>\n",
       "      <td>0.0</td>\n",
       "      <td>...</td>\n",
       "      <td>0.0</td>\n",
       "      <td>0.0</td>\n",
       "      <td>0.0</td>\n",
       "      <td>0.0</td>\n",
       "      <td>0.0</td>\n",
       "      <td>0.0</td>\n",
       "      <td>0.0</td>\n",
       "      <td>0.0</td>\n",
       "      <td>0.0</td>\n",
       "      <td>0.0</td>\n",
       "    </tr>\n",
       "    <tr>\n",
       "      <th>4</th>\n",
       "      <td>0.0</td>\n",
       "      <td>0.0</td>\n",
       "      <td>0.0</td>\n",
       "      <td>0.0</td>\n",
       "      <td>0.0</td>\n",
       "      <td>0.0</td>\n",
       "      <td>0.0</td>\n",
       "      <td>0.0</td>\n",
       "      <td>0.0</td>\n",
       "      <td>0.0</td>\n",
       "      <td>...</td>\n",
       "      <td>0.0</td>\n",
       "      <td>0.0</td>\n",
       "      <td>0.0</td>\n",
       "      <td>0.0</td>\n",
       "      <td>0.0</td>\n",
       "      <td>0.0</td>\n",
       "      <td>0.0</td>\n",
       "      <td>0.0</td>\n",
       "      <td>0.0</td>\n",
       "      <td>0.0</td>\n",
       "    </tr>\n",
       "  </tbody>\n",
       "</table>\n",
       "<p>5 rows × 8137 columns</p>\n",
       "</div>"
      ],
      "text/plain": [
       "   #tcot  #memories4nov  #ocra  #dadt  #alaska  #ak  #aksen  #teaparty  #gop  \\\n",
       "0    1.0            0.0    0.0    0.0      0.0  0.0     0.0        0.0   0.0   \n",
       "1    1.0            0.0    0.0    0.0      0.0  0.0     0.0        0.0   0.0   \n",
       "2    0.0            0.0    0.0    0.0      0.0  0.0     0.0        2.0   1.0   \n",
       "3    0.0            0.0    0.0    0.0      0.0  0.0     0.0        0.0   0.0   \n",
       "4    0.0            0.0    0.0    0.0      0.0  0.0     0.0        0.0   0.0   \n",
       "\n",
       "   #justsayin  ...  #ronjohnson  #fearmongers  #opp  #joemilelr  \\\n",
       "0         0.0  ...          0.0           0.0   0.0         0.0   \n",
       "1         0.0  ...          0.0           0.0   0.0         0.0   \n",
       "2         0.0  ...          0.0           0.0   0.0         0.0   \n",
       "3         0.0  ...          0.0           0.0   0.0         0.0   \n",
       "4         0.0  ...          0.0           0.0   0.0         0.0   \n",
       "\n",
       "   #socialnetwork  #wilmd  #winwin7  #maloney  #hold  #camdengop  \n",
       "0             0.0     0.0       0.0       0.0    0.0         0.0  \n",
       "1             0.0     0.0       0.0       0.0    0.0         0.0  \n",
       "2             0.0     0.0       0.0       0.0    0.0         0.0  \n",
       "3             0.0     0.0       0.0       0.0    0.0         0.0  \n",
       "4             0.0     0.0       0.0       0.0    0.0         0.0  \n",
       "\n",
       "[5 rows x 8137 columns]"
      ]
     },
     "execution_count": 204,
     "metadata": {},
     "output_type": "execute_result"
    }
   ],
   "source": [
    "tags_df.head()"
   ]
  },
  {
   "cell_type": "code",
   "execution_count": 205,
   "metadata": {},
   "outputs": [],
   "source": [
    "def get_n_most_frequent_tags(df, n):\n",
    "    tags_count = df.sum(axis=0)\n",
    "    return tags_count.nlargest(n)"
   ]
  },
  {
   "cell_type": "code",
   "execution_count": 206,
   "metadata": {},
   "outputs": [],
   "source": [
    "def get_df_n_most_frequent(df, n):\n",
    "    tags_ntop = get_n_most_frequent_tags(df, n)\n",
    "    return df.loc[:, tags_ntop.index]"
   ]
  },
  {
   "cell_type": "code",
   "execution_count": 207,
   "metadata": {},
   "outputs": [
    {
     "data": {
      "text/plain": [
       "#tcot        37541.0\n",
       "#p2          23233.0\n",
       "#teaparty    12414.0\n",
       "#gop          7031.0\n",
       "#tlot         5959.0\n",
       "#sgp          5889.0\n",
       "#ocra         4432.0\n",
       "#dadt         4206.0\n",
       "#desen        3046.0\n",
       "#obama        2888.0\n",
       "dtype: float64"
      ]
     },
     "execution_count": 207,
     "metadata": {},
     "output_type": "execute_result"
    }
   ],
   "source": [
    "# demonstrate getting most frequent tags\n",
    "get_n_most_frequent_tags(tags_df, 10)"
   ]
  },
  {
   "cell_type": "code",
   "execution_count": 208,
   "metadata": {},
   "outputs": [
    {
     "data": {
      "text/html": [
       "<div>\n",
       "<style scoped>\n",
       "    .dataframe tbody tr th:only-of-type {\n",
       "        vertical-align: middle;\n",
       "    }\n",
       "\n",
       "    .dataframe tbody tr th {\n",
       "        vertical-align: top;\n",
       "    }\n",
       "\n",
       "    .dataframe thead th {\n",
       "        text-align: right;\n",
       "    }\n",
       "</style>\n",
       "<table border=\"1\" class=\"dataframe\">\n",
       "  <thead>\n",
       "    <tr style=\"text-align: right;\">\n",
       "      <th></th>\n",
       "      <th>#tcot</th>\n",
       "      <th>#p2</th>\n",
       "      <th>#teaparty</th>\n",
       "      <th>#gop</th>\n",
       "      <th>#tlot</th>\n",
       "      <th>#sgp</th>\n",
       "      <th>#ocra</th>\n",
       "      <th>#dadt</th>\n",
       "      <th>#desen</th>\n",
       "      <th>#obama</th>\n",
       "      <th>#twisters</th>\n",
       "      <th>#hhrs</th>\n",
       "      <th>#nvsen</th>\n",
       "      <th>#whyimvotingdemocrat</th>\n",
       "      <th>#dems</th>\n",
       "      <th>#p21</th>\n",
       "      <th>#onenation</th>\n",
       "      <th>#hcr</th>\n",
       "      <th>#votedem</th>\n",
       "      <th>#topprog</th>\n",
       "    </tr>\n",
       "  </thead>\n",
       "  <tbody>\n",
       "    <tr>\n",
       "      <th>0</th>\n",
       "      <td>1.0</td>\n",
       "      <td>0.0</td>\n",
       "      <td>0.0</td>\n",
       "      <td>0.0</td>\n",
       "      <td>0.0</td>\n",
       "      <td>0.0</td>\n",
       "      <td>0.0</td>\n",
       "      <td>0.0</td>\n",
       "      <td>0.0</td>\n",
       "      <td>0.0</td>\n",
       "      <td>0.0</td>\n",
       "      <td>0.0</td>\n",
       "      <td>0.0</td>\n",
       "      <td>0.0</td>\n",
       "      <td>0.0</td>\n",
       "      <td>0.0</td>\n",
       "      <td>0.0</td>\n",
       "      <td>0.0</td>\n",
       "      <td>0.0</td>\n",
       "      <td>0.0</td>\n",
       "    </tr>\n",
       "    <tr>\n",
       "      <th>1</th>\n",
       "      <td>1.0</td>\n",
       "      <td>0.0</td>\n",
       "      <td>0.0</td>\n",
       "      <td>0.0</td>\n",
       "      <td>0.0</td>\n",
       "      <td>0.0</td>\n",
       "      <td>0.0</td>\n",
       "      <td>0.0</td>\n",
       "      <td>0.0</td>\n",
       "      <td>0.0</td>\n",
       "      <td>0.0</td>\n",
       "      <td>0.0</td>\n",
       "      <td>0.0</td>\n",
       "      <td>0.0</td>\n",
       "      <td>0.0</td>\n",
       "      <td>0.0</td>\n",
       "      <td>0.0</td>\n",
       "      <td>0.0</td>\n",
       "      <td>0.0</td>\n",
       "      <td>0.0</td>\n",
       "    </tr>\n",
       "    <tr>\n",
       "      <th>2</th>\n",
       "      <td>0.0</td>\n",
       "      <td>2.0</td>\n",
       "      <td>2.0</td>\n",
       "      <td>1.0</td>\n",
       "      <td>0.0</td>\n",
       "      <td>0.0</td>\n",
       "      <td>0.0</td>\n",
       "      <td>0.0</td>\n",
       "      <td>0.0</td>\n",
       "      <td>0.0</td>\n",
       "      <td>0.0</td>\n",
       "      <td>0.0</td>\n",
       "      <td>0.0</td>\n",
       "      <td>0.0</td>\n",
       "      <td>1.0</td>\n",
       "      <td>0.0</td>\n",
       "      <td>0.0</td>\n",
       "      <td>0.0</td>\n",
       "      <td>0.0</td>\n",
       "      <td>0.0</td>\n",
       "    </tr>\n",
       "    <tr>\n",
       "      <th>3</th>\n",
       "      <td>0.0</td>\n",
       "      <td>1.0</td>\n",
       "      <td>0.0</td>\n",
       "      <td>0.0</td>\n",
       "      <td>0.0</td>\n",
       "      <td>0.0</td>\n",
       "      <td>0.0</td>\n",
       "      <td>0.0</td>\n",
       "      <td>0.0</td>\n",
       "      <td>0.0</td>\n",
       "      <td>0.0</td>\n",
       "      <td>0.0</td>\n",
       "      <td>0.0</td>\n",
       "      <td>0.0</td>\n",
       "      <td>0.0</td>\n",
       "      <td>0.0</td>\n",
       "      <td>0.0</td>\n",
       "      <td>0.0</td>\n",
       "      <td>0.0</td>\n",
       "      <td>0.0</td>\n",
       "    </tr>\n",
       "    <tr>\n",
       "      <th>4</th>\n",
       "      <td>0.0</td>\n",
       "      <td>1.0</td>\n",
       "      <td>0.0</td>\n",
       "      <td>0.0</td>\n",
       "      <td>0.0</td>\n",
       "      <td>0.0</td>\n",
       "      <td>0.0</td>\n",
       "      <td>0.0</td>\n",
       "      <td>0.0</td>\n",
       "      <td>0.0</td>\n",
       "      <td>0.0</td>\n",
       "      <td>0.0</td>\n",
       "      <td>0.0</td>\n",
       "      <td>0.0</td>\n",
       "      <td>0.0</td>\n",
       "      <td>0.0</td>\n",
       "      <td>0.0</td>\n",
       "      <td>0.0</td>\n",
       "      <td>0.0</td>\n",
       "      <td>0.0</td>\n",
       "    </tr>\n",
       "  </tbody>\n",
       "</table>\n",
       "</div>"
      ],
      "text/plain": [
       "   #tcot  #p2  #teaparty  #gop  #tlot  #sgp  #ocra  #dadt  #desen  #obama  \\\n",
       "0    1.0  0.0        0.0   0.0    0.0   0.0    0.0    0.0     0.0     0.0   \n",
       "1    1.0  0.0        0.0   0.0    0.0   0.0    0.0    0.0     0.0     0.0   \n",
       "2    0.0  2.0        2.0   1.0    0.0   0.0    0.0    0.0     0.0     0.0   \n",
       "3    0.0  1.0        0.0   0.0    0.0   0.0    0.0    0.0     0.0     0.0   \n",
       "4    0.0  1.0        0.0   0.0    0.0   0.0    0.0    0.0     0.0     0.0   \n",
       "\n",
       "   #twisters  #hhrs  #nvsen  #whyimvotingdemocrat  #dems  #p21  #onenation  \\\n",
       "0        0.0    0.0     0.0                   0.0    0.0   0.0         0.0   \n",
       "1        0.0    0.0     0.0                   0.0    0.0   0.0         0.0   \n",
       "2        0.0    0.0     0.0                   0.0    1.0   0.0         0.0   \n",
       "3        0.0    0.0     0.0                   0.0    0.0   0.0         0.0   \n",
       "4        0.0    0.0     0.0                   0.0    0.0   0.0         0.0   \n",
       "\n",
       "   #hcr  #votedem  #topprog  \n",
       "0   0.0       0.0       0.0  \n",
       "1   0.0       0.0       0.0  \n",
       "2   0.0       0.0       0.0  \n",
       "3   0.0       0.0       0.0  \n",
       "4   0.0       0.0       0.0  "
      ]
     },
     "execution_count": 208,
     "metadata": {},
     "output_type": "execute_result"
    }
   ],
   "source": [
    "tags_df_topN = get_df_n_most_frequent(tags_df, 20)\n",
    "tags_df_topN.head()"
   ]
  },
  {
   "cell_type": "code",
   "execution_count": 209,
   "metadata": {},
   "outputs": [
    {
     "data": {
      "image/png": "[encoded data removed]",
      "text/plain": [
       "<Figure size 864x576 with 2 Axes>"
      ]
     },
     "metadata": {
      "needs_background": "light"
     },
     "output_type": "display_data"
    }
   ],
   "source": [
    "# generate heatmap\n",
    "sns.heatmap(tags_df_topN.head(50), annot=False, cmap=\"BuGn\", square=True, yticklabels=False, xticklabels=False)\n",
    "fig = plt.gcf()\n",
    "figsize=fig.get_size_inches()\n",
    "fig.set_size_inches(figsize * 2)\n",
    "\n",
    "plt.ylabel(\"user\")\n",
    "plt.xlabel(\"tag count\")\n",
    "fig.savefig(\"heatmap.png\", quality=95)"
   ]
  },
  {
   "cell_type": "code",
   "execution_count": 210,
   "metadata": {},
   "outputs": [],
   "source": [
    "norm_tags = pd.DataFrame(data=StandardScaler().fit_transform(tags_df), columns=vocab.keys())"
   ]
  },
  {
   "cell_type": "code",
   "execution_count": 211,
   "metadata": {},
   "outputs": [
    {
     "data": {
      "text/html": [
       "<div>\n",
       "<style scoped>\n",
       "    .dataframe tbody tr th:only-of-type {\n",
       "        vertical-align: middle;\n",
       "    }\n",
       "\n",
       "    .dataframe tbody tr th {\n",
       "        vertical-align: top;\n",
       "    }\n",
       "\n",
       "    .dataframe thead th {\n",
       "        text-align: right;\n",
       "    }\n",
       "</style>\n",
       "<table border=\"1\" class=\"dataframe\">\n",
       "  <thead>\n",
       "    <tr style=\"text-align: right;\">\n",
       "      <th></th>\n",
       "      <th>#tcot</th>\n",
       "      <th>#memories4nov</th>\n",
       "      <th>#ocra</th>\n",
       "      <th>#dadt</th>\n",
       "      <th>#alaska</th>\n",
       "      <th>#ak</th>\n",
       "      <th>#aksen</th>\n",
       "      <th>#teaparty</th>\n",
       "      <th>#gop</th>\n",
       "      <th>#justsayin</th>\n",
       "      <th>...</th>\n",
       "      <th>#ronjohnson</th>\n",
       "      <th>#fearmongers</th>\n",
       "      <th>#opp</th>\n",
       "      <th>#joemilelr</th>\n",
       "      <th>#socialnetwork</th>\n",
       "      <th>#wilmd</th>\n",
       "      <th>#winwin7</th>\n",
       "      <th>#maloney</th>\n",
       "      <th>#hold</th>\n",
       "      <th>#camdengop</th>\n",
       "    </tr>\n",
       "  </thead>\n",
       "  <tbody>\n",
       "    <tr>\n",
       "      <th>0</th>\n",
       "      <td>-0.100115</td>\n",
       "      <td>-0.024906</td>\n",
       "      <td>-0.171627</td>\n",
       "      <td>-0.172866</td>\n",
       "      <td>-0.051653</td>\n",
       "      <td>-0.047334</td>\n",
       "      <td>-0.083141</td>\n",
       "      <td>-0.226314</td>\n",
       "      <td>-0.235812</td>\n",
       "      <td>-0.04127</td>\n",
       "      <td>...</td>\n",
       "      <td>-0.006681</td>\n",
       "      <td>-0.006681</td>\n",
       "      <td>-0.006681</td>\n",
       "      <td>-0.006681</td>\n",
       "      <td>-0.006681</td>\n",
       "      <td>-0.006681</td>\n",
       "      <td>-0.006681</td>\n",
       "      <td>-0.006681</td>\n",
       "      <td>-0.006681</td>\n",
       "      <td>-0.006681</td>\n",
       "    </tr>\n",
       "    <tr>\n",
       "      <th>1</th>\n",
       "      <td>-0.100115</td>\n",
       "      <td>-0.024906</td>\n",
       "      <td>-0.171627</td>\n",
       "      <td>-0.172866</td>\n",
       "      <td>-0.051653</td>\n",
       "      <td>-0.047334</td>\n",
       "      <td>-0.083141</td>\n",
       "      <td>-0.226314</td>\n",
       "      <td>-0.235812</td>\n",
       "      <td>-0.04127</td>\n",
       "      <td>...</td>\n",
       "      <td>-0.006681</td>\n",
       "      <td>-0.006681</td>\n",
       "      <td>-0.006681</td>\n",
       "      <td>-0.006681</td>\n",
       "      <td>-0.006681</td>\n",
       "      <td>-0.006681</td>\n",
       "      <td>-0.006681</td>\n",
       "      <td>-0.006681</td>\n",
       "      <td>-0.006681</td>\n",
       "      <td>-0.006681</td>\n",
       "    </tr>\n",
       "    <tr>\n",
       "      <th>2</th>\n",
       "      <td>-0.248309</td>\n",
       "      <td>-0.024906</td>\n",
       "      <td>-0.171627</td>\n",
       "      <td>-0.172866</td>\n",
       "      <td>-0.051653</td>\n",
       "      <td>-0.047334</td>\n",
       "      <td>-0.083141</td>\n",
       "      <td>0.590597</td>\n",
       "      <td>0.515628</td>\n",
       "      <td>-0.04127</td>\n",
       "      <td>...</td>\n",
       "      <td>-0.006681</td>\n",
       "      <td>-0.006681</td>\n",
       "      <td>-0.006681</td>\n",
       "      <td>-0.006681</td>\n",
       "      <td>-0.006681</td>\n",
       "      <td>-0.006681</td>\n",
       "      <td>-0.006681</td>\n",
       "      <td>-0.006681</td>\n",
       "      <td>-0.006681</td>\n",
       "      <td>-0.006681</td>\n",
       "    </tr>\n",
       "    <tr>\n",
       "      <th>3</th>\n",
       "      <td>-0.248309</td>\n",
       "      <td>-0.024906</td>\n",
       "      <td>-0.171627</td>\n",
       "      <td>-0.172866</td>\n",
       "      <td>-0.051653</td>\n",
       "      <td>-0.047334</td>\n",
       "      <td>-0.083141</td>\n",
       "      <td>-0.226314</td>\n",
       "      <td>-0.235812</td>\n",
       "      <td>-0.04127</td>\n",
       "      <td>...</td>\n",
       "      <td>-0.006681</td>\n",
       "      <td>-0.006681</td>\n",
       "      <td>-0.006681</td>\n",
       "      <td>-0.006681</td>\n",
       "      <td>-0.006681</td>\n",
       "      <td>-0.006681</td>\n",
       "      <td>-0.006681</td>\n",
       "      <td>-0.006681</td>\n",
       "      <td>-0.006681</td>\n",
       "      <td>-0.006681</td>\n",
       "    </tr>\n",
       "    <tr>\n",
       "      <th>4</th>\n",
       "      <td>-0.248309</td>\n",
       "      <td>-0.024906</td>\n",
       "      <td>-0.171627</td>\n",
       "      <td>-0.172866</td>\n",
       "      <td>-0.051653</td>\n",
       "      <td>-0.047334</td>\n",
       "      <td>-0.083141</td>\n",
       "      <td>-0.226314</td>\n",
       "      <td>-0.235812</td>\n",
       "      <td>-0.04127</td>\n",
       "      <td>...</td>\n",
       "      <td>-0.006681</td>\n",
       "      <td>-0.006681</td>\n",
       "      <td>-0.006681</td>\n",
       "      <td>-0.006681</td>\n",
       "      <td>-0.006681</td>\n",
       "      <td>-0.006681</td>\n",
       "      <td>-0.006681</td>\n",
       "      <td>-0.006681</td>\n",
       "      <td>-0.006681</td>\n",
       "      <td>-0.006681</td>\n",
       "    </tr>\n",
       "  </tbody>\n",
       "</table>\n",
       "<p>5 rows × 8137 columns</p>\n",
       "</div>"
      ],
      "text/plain": [
       "      #tcot  #memories4nov     #ocra     #dadt   #alaska       #ak    #aksen  \\\n",
       "0 -0.100115      -0.024906 -0.171627 -0.172866 -0.051653 -0.047334 -0.083141   \n",
       "1 -0.100115      -0.024906 -0.171627 -0.172866 -0.051653 -0.047334 -0.083141   \n",
       "2 -0.248309      -0.024906 -0.171627 -0.172866 -0.051653 -0.047334 -0.083141   \n",
       "3 -0.248309      -0.024906 -0.171627 -0.172866 -0.051653 -0.047334 -0.083141   \n",
       "4 -0.248309      -0.024906 -0.171627 -0.172866 -0.051653 -0.047334 -0.083141   \n",
       "\n",
       "   #teaparty      #gop  #justsayin  ...  #ronjohnson  #fearmongers      #opp  \\\n",
       "0  -0.226314 -0.235812    -0.04127  ...    -0.006681     -0.006681 -0.006681   \n",
       "1  -0.226314 -0.235812    -0.04127  ...    -0.006681     -0.006681 -0.006681   \n",
       "2   0.590597  0.515628    -0.04127  ...    -0.006681     -0.006681 -0.006681   \n",
       "3  -0.226314 -0.235812    -0.04127  ...    -0.006681     -0.006681 -0.006681   \n",
       "4  -0.226314 -0.235812    -0.04127  ...    -0.006681     -0.006681 -0.006681   \n",
       "\n",
       "   #joemilelr  #socialnetwork    #wilmd  #winwin7  #maloney     #hold  \\\n",
       "0   -0.006681       -0.006681 -0.006681 -0.006681 -0.006681 -0.006681   \n",
       "1   -0.006681       -0.006681 -0.006681 -0.006681 -0.006681 -0.006681   \n",
       "2   -0.006681       -0.006681 -0.006681 -0.006681 -0.006681 -0.006681   \n",
       "3   -0.006681       -0.006681 -0.006681 -0.006681 -0.006681 -0.006681   \n",
       "4   -0.006681       -0.006681 -0.006681 -0.006681 -0.006681 -0.006681   \n",
       "\n",
       "   #camdengop  \n",
       "0   -0.006681  \n",
       "1   -0.006681  \n",
       "2   -0.006681  \n",
       "3   -0.006681  \n",
       "4   -0.006681  \n",
       "\n",
       "[5 rows x 8137 columns]"
      ]
     },
     "execution_count": 211,
     "metadata": {},
     "output_type": "execute_result"
    }
   ],
   "source": [
    "norm_tags.head()"
   ]
  },
  {
   "cell_type": "code",
   "execution_count": 212,
   "metadata": {},
   "outputs": [],
   "source": [
    "n_components = 200\n",
    "pca_fname = \"objects/pca{}.pickle\".format(n_components)\n",
    "pca_df_fname = \"objects/pca{}_df.pickle\".format(n_components)"
   ]
  },
  {
   "cell_type": "code",
   "execution_count": 213,
   "metadata": {},
   "outputs": [],
   "source": [
    "# To recompute principle components, uncomment below\n",
    "\n",
    "# Perform PCA\n",
    "n_components = 200\n",
    "columns = [\"PC{}\".format(n+1) for n in range(n_components)]\n",
    "pca = PCA(n_components=n_components)\n",
    "principal_tags = pd.DataFrame(data=pca.fit_transform(norm_tags), columns=columns)\n",
    "\n",
    "pickle.dump(pca, open(pca_fname, \"wb\"))\n",
    "pickle.dump(principal_tags, open(pca_df_fname, \"wb\"))"
   ]
  },
  {
   "cell_type": "code",
   "execution_count": 214,
   "metadata": {},
   "outputs": [],
   "source": [
    "# pca = pickle.load(open(pca_fname, \"rb\"))\n",
    "# principal_tags = pickle.load(open(pca_df_fname, \"rb\"))"
   ]
  },
  {
   "cell_type": "code",
   "execution_count": 215,
   "metadata": {},
   "outputs": [
    {
     "data": {
      "text/html": [
       "<div>\n",
       "<style scoped>\n",
       "    .dataframe tbody tr th:only-of-type {\n",
       "        vertical-align: middle;\n",
       "    }\n",
       "\n",
       "    .dataframe tbody tr th {\n",
       "        vertical-align: top;\n",
       "    }\n",
       "\n",
       "    .dataframe thead th {\n",
       "        text-align: right;\n",
       "    }\n",
       "</style>\n",
       "<table border=\"1\" class=\"dataframe\">\n",
       "  <thead>\n",
       "    <tr style=\"text-align: right;\">\n",
       "      <th></th>\n",
       "      <th>PC1</th>\n",
       "      <th>PC2</th>\n",
       "      <th>PC3</th>\n",
       "      <th>PC4</th>\n",
       "      <th>PC5</th>\n",
       "      <th>PC6</th>\n",
       "      <th>PC7</th>\n",
       "      <th>PC8</th>\n",
       "      <th>PC9</th>\n",
       "      <th>PC10</th>\n",
       "      <th>...</th>\n",
       "      <th>PC191</th>\n",
       "      <th>PC192</th>\n",
       "      <th>PC193</th>\n",
       "      <th>PC194</th>\n",
       "      <th>PC195</th>\n",
       "      <th>PC196</th>\n",
       "      <th>PC197</th>\n",
       "      <th>PC198</th>\n",
       "      <th>PC199</th>\n",
       "      <th>PC200</th>\n",
       "    </tr>\n",
       "  </thead>\n",
       "  <tbody>\n",
       "    <tr>\n",
       "      <th>0</th>\n",
       "      <td>-0.465371</td>\n",
       "      <td>-0.382947</td>\n",
       "      <td>0.209452</td>\n",
       "      <td>0.073909</td>\n",
       "      <td>0.028996</td>\n",
       "      <td>0.219951</td>\n",
       "      <td>-0.107183</td>\n",
       "      <td>-0.281599</td>\n",
       "      <td>-0.064524</td>\n",
       "      <td>-0.060732</td>\n",
       "      <td>...</td>\n",
       "      <td>0.265136</td>\n",
       "      <td>-0.286939</td>\n",
       "      <td>-0.156270</td>\n",
       "      <td>-0.131345</td>\n",
       "      <td>0.000871</td>\n",
       "      <td>-0.186414</td>\n",
       "      <td>0.043277</td>\n",
       "      <td>-0.099317</td>\n",
       "      <td>0.013464</td>\n",
       "      <td>0.101851</td>\n",
       "    </tr>\n",
       "    <tr>\n",
       "      <th>1</th>\n",
       "      <td>-0.388386</td>\n",
       "      <td>-0.055488</td>\n",
       "      <td>0.578863</td>\n",
       "      <td>0.148213</td>\n",
       "      <td>-0.023785</td>\n",
       "      <td>-0.003477</td>\n",
       "      <td>-0.128918</td>\n",
       "      <td>-0.207565</td>\n",
       "      <td>0.049059</td>\n",
       "      <td>-0.044912</td>\n",
       "      <td>...</td>\n",
       "      <td>-0.174222</td>\n",
       "      <td>0.168098</td>\n",
       "      <td>-0.138700</td>\n",
       "      <td>-0.196874</td>\n",
       "      <td>0.259532</td>\n",
       "      <td>0.091947</td>\n",
       "      <td>0.134497</td>\n",
       "      <td>0.042720</td>\n",
       "      <td>0.032934</td>\n",
       "      <td>0.063023</td>\n",
       "    </tr>\n",
       "    <tr>\n",
       "      <th>2</th>\n",
       "      <td>1.481683</td>\n",
       "      <td>-0.502096</td>\n",
       "      <td>0.089339</td>\n",
       "      <td>-0.643962</td>\n",
       "      <td>0.807387</td>\n",
       "      <td>0.170281</td>\n",
       "      <td>-0.059189</td>\n",
       "      <td>0.460610</td>\n",
       "      <td>0.051117</td>\n",
       "      <td>0.154552</td>\n",
       "      <td>...</td>\n",
       "      <td>0.243822</td>\n",
       "      <td>-0.310301</td>\n",
       "      <td>0.482263</td>\n",
       "      <td>-0.540394</td>\n",
       "      <td>-0.002968</td>\n",
       "      <td>0.312855</td>\n",
       "      <td>0.534740</td>\n",
       "      <td>1.419843</td>\n",
       "      <td>0.812233</td>\n",
       "      <td>-0.465908</td>\n",
       "    </tr>\n",
       "    <tr>\n",
       "      <th>3</th>\n",
       "      <td>-0.143586</td>\n",
       "      <td>-0.059782</td>\n",
       "      <td>0.112301</td>\n",
       "      <td>0.256252</td>\n",
       "      <td>0.527842</td>\n",
       "      <td>0.698953</td>\n",
       "      <td>-0.060166</td>\n",
       "      <td>0.363188</td>\n",
       "      <td>0.120604</td>\n",
       "      <td>0.092018</td>\n",
       "      <td>...</td>\n",
       "      <td>4.230203</td>\n",
       "      <td>1.315227</td>\n",
       "      <td>-1.126361</td>\n",
       "      <td>-2.665502</td>\n",
       "      <td>3.152952</td>\n",
       "      <td>0.675273</td>\n",
       "      <td>0.500347</td>\n",
       "      <td>-5.158850</td>\n",
       "      <td>-9.341757</td>\n",
       "      <td>2.289862</td>\n",
       "    </tr>\n",
       "    <tr>\n",
       "      <th>4</th>\n",
       "      <td>-0.519748</td>\n",
       "      <td>-0.516068</td>\n",
       "      <td>0.574703</td>\n",
       "      <td>0.370373</td>\n",
       "      <td>0.337382</td>\n",
       "      <td>0.293613</td>\n",
       "      <td>-0.045630</td>\n",
       "      <td>-0.087605</td>\n",
       "      <td>-0.001131</td>\n",
       "      <td>-0.053268</td>\n",
       "      <td>...</td>\n",
       "      <td>-0.157877</td>\n",
       "      <td>-0.145851</td>\n",
       "      <td>0.283028</td>\n",
       "      <td>0.003144</td>\n",
       "      <td>0.025340</td>\n",
       "      <td>0.067076</td>\n",
       "      <td>-0.118921</td>\n",
       "      <td>-0.000347</td>\n",
       "      <td>0.075854</td>\n",
       "      <td>-0.069618</td>\n",
       "    </tr>\n",
       "  </tbody>\n",
       "</table>\n",
       "<p>5 rows × 200 columns</p>\n",
       "</div>"
      ],
      "text/plain": [
       "        PC1       PC2       PC3       PC4       PC5       PC6       PC7  \\\n",
       "0 -0.465371 -0.382947  0.209452  0.073909  0.028996  0.219951 -0.107183   \n",
       "1 -0.388386 -0.055488  0.578863  0.148213 -0.023785 -0.003477 -0.128918   \n",
       "2  1.481683 -0.502096  0.089339 -0.643962  0.807387  0.170281 -0.059189   \n",
       "3 -0.143586 -0.059782  0.112301  0.256252  0.527842  0.698953 -0.060166   \n",
       "4 -0.519748 -0.516068  0.574703  0.370373  0.337382  0.293613 -0.045630   \n",
       "\n",
       "        PC8       PC9      PC10  ...     PC191     PC192     PC193     PC194  \\\n",
       "0 -0.281599 -0.064524 -0.060732  ...  0.265136 -0.286939 -0.156270 -0.131345   \n",
       "1 -0.207565  0.049059 -0.044912  ... -0.174222  0.168098 -0.138700 -0.196874   \n",
       "2  0.460610  0.051117  0.154552  ...  0.243822 -0.310301  0.482263 -0.540394   \n",
       "3  0.363188  0.120604  0.092018  ...  4.230203  1.315227 -1.126361 -2.665502   \n",
       "4 -0.087605 -0.001131 -0.053268  ... -0.157877 -0.145851  0.283028  0.003144   \n",
       "\n",
       "      PC195     PC196     PC197     PC198     PC199     PC200  \n",
       "0  0.000871 -0.186414  0.043277 -0.099317  0.013464  0.101851  \n",
       "1  0.259532  0.091947  0.134497  0.042720  0.032934  0.063023  \n",
       "2 -0.002968  0.312855  0.534740  1.419843  0.812233 -0.465908  \n",
       "3  3.152952  0.675273  0.500347 -5.158850 -9.341757  2.289862  \n",
       "4  0.025340  0.067076 -0.118921 -0.000347  0.075854 -0.069618  \n",
       "\n",
       "[5 rows x 200 columns]"
      ]
     },
     "execution_count": 215,
     "metadata": {},
     "output_type": "execute_result"
    }
   ],
   "source": [
    "principal_tags.head()"
   ]
  },
  {
   "cell_type": "code",
   "execution_count": 216,
   "metadata": {},
   "outputs": [
    {
     "name": "stdout",
     "output_type": "stream",
     "text": [
      "variance explained by first 200 principal components: 0.27638664946318686\n"
     ]
    }
   ],
   "source": [
    "print(\"variance explained by first {} principal components: {}\".format(n_components, pca.explained_variance_ratio_.cumsum()[-1]))"
   ]
  },
  {
   "cell_type": "code",
   "execution_count": 217,
   "metadata": {},
   "outputs": [
    {
     "data": {
      "text/html": [
       "<div>\n",
       "<style scoped>\n",
       "    .dataframe tbody tr th:only-of-type {\n",
       "        vertical-align: middle;\n",
       "    }\n",
       "\n",
       "    .dataframe tbody tr th {\n",
       "        vertical-align: top;\n",
       "    }\n",
       "\n",
       "    .dataframe thead th {\n",
       "        text-align: right;\n",
       "    }\n",
       "</style>\n",
       "<table border=\"1\" class=\"dataframe\">\n",
       "  <thead>\n",
       "    <tr style=\"text-align: right;\">\n",
       "      <th></th>\n",
       "      <th>label</th>\n",
       "    </tr>\n",
       "  </thead>\n",
       "  <tbody>\n",
       "    <tr>\n",
       "      <th>0</th>\n",
       "      <td>right</td>\n",
       "    </tr>\n",
       "    <tr>\n",
       "      <th>1</th>\n",
       "      <td>right</td>\n",
       "    </tr>\n",
       "    <tr>\n",
       "      <th>2</th>\n",
       "      <td>left</td>\n",
       "    </tr>\n",
       "    <tr>\n",
       "      <th>3</th>\n",
       "      <td>left</td>\n",
       "    </tr>\n",
       "    <tr>\n",
       "      <th>4</th>\n",
       "      <td>-</td>\n",
       "    </tr>\n",
       "  </tbody>\n",
       "</table>\n",
       "</div>"
      ],
      "text/plain": [
       "   label\n",
       "0  right\n",
       "1  right\n",
       "2   left\n",
       "3   left\n",
       "4      -"
      ]
     },
     "execution_count": 217,
     "metadata": {},
     "output_type": "execute_result"
    }
   ],
   "source": [
    "# Create full dataframe\n",
    "label = pd.DataFrame(data=all_graph.vs[\"cluster\"], columns=[\"label\"])\n",
    "label.head()"
   ]
  },
  {
   "cell_type": "code",
   "execution_count": 218,
   "metadata": {},
   "outputs": [
    {
     "data": {
      "text/html": [
       "<div>\n",
       "<style scoped>\n",
       "    .dataframe tbody tr th:only-of-type {\n",
       "        vertical-align: middle;\n",
       "    }\n",
       "\n",
       "    .dataframe tbody tr th {\n",
       "        vertical-align: top;\n",
       "    }\n",
       "\n",
       "    .dataframe thead th {\n",
       "        text-align: right;\n",
       "    }\n",
       "</style>\n",
       "<table border=\"1\" class=\"dataframe\">\n",
       "  <thead>\n",
       "    <tr style=\"text-align: right;\">\n",
       "      <th></th>\n",
       "      <th>PC1</th>\n",
       "      <th>PC2</th>\n",
       "      <th>PC3</th>\n",
       "      <th>PC4</th>\n",
       "      <th>PC5</th>\n",
       "      <th>PC6</th>\n",
       "      <th>PC7</th>\n",
       "      <th>PC8</th>\n",
       "      <th>PC9</th>\n",
       "      <th>PC10</th>\n",
       "      <th>...</th>\n",
       "      <th>PC192</th>\n",
       "      <th>PC193</th>\n",
       "      <th>PC194</th>\n",
       "      <th>PC195</th>\n",
       "      <th>PC196</th>\n",
       "      <th>PC197</th>\n",
       "      <th>PC198</th>\n",
       "      <th>PC199</th>\n",
       "      <th>PC200</th>\n",
       "      <th>label</th>\n",
       "    </tr>\n",
       "  </thead>\n",
       "  <tbody>\n",
       "    <tr>\n",
       "      <th>0</th>\n",
       "      <td>-0.465371</td>\n",
       "      <td>-0.382947</td>\n",
       "      <td>0.209452</td>\n",
       "      <td>0.073909</td>\n",
       "      <td>0.028996</td>\n",
       "      <td>0.219951</td>\n",
       "      <td>-0.107183</td>\n",
       "      <td>-0.281599</td>\n",
       "      <td>-0.064524</td>\n",
       "      <td>-0.060732</td>\n",
       "      <td>...</td>\n",
       "      <td>-0.286939</td>\n",
       "      <td>-0.156270</td>\n",
       "      <td>-0.131345</td>\n",
       "      <td>0.000871</td>\n",
       "      <td>-0.186414</td>\n",
       "      <td>0.043277</td>\n",
       "      <td>-0.099317</td>\n",
       "      <td>0.013464</td>\n",
       "      <td>0.101851</td>\n",
       "      <td>right</td>\n",
       "    </tr>\n",
       "    <tr>\n",
       "      <th>1</th>\n",
       "      <td>-0.388386</td>\n",
       "      <td>-0.055488</td>\n",
       "      <td>0.578863</td>\n",
       "      <td>0.148213</td>\n",
       "      <td>-0.023785</td>\n",
       "      <td>-0.003477</td>\n",
       "      <td>-0.128918</td>\n",
       "      <td>-0.207565</td>\n",
       "      <td>0.049059</td>\n",
       "      <td>-0.044912</td>\n",
       "      <td>...</td>\n",
       "      <td>0.168098</td>\n",
       "      <td>-0.138700</td>\n",
       "      <td>-0.196874</td>\n",
       "      <td>0.259532</td>\n",
       "      <td>0.091947</td>\n",
       "      <td>0.134497</td>\n",
       "      <td>0.042720</td>\n",
       "      <td>0.032934</td>\n",
       "      <td>0.063023</td>\n",
       "      <td>right</td>\n",
       "    </tr>\n",
       "    <tr>\n",
       "      <th>2</th>\n",
       "      <td>1.481683</td>\n",
       "      <td>-0.502096</td>\n",
       "      <td>0.089339</td>\n",
       "      <td>-0.643962</td>\n",
       "      <td>0.807387</td>\n",
       "      <td>0.170281</td>\n",
       "      <td>-0.059189</td>\n",
       "      <td>0.460610</td>\n",
       "      <td>0.051117</td>\n",
       "      <td>0.154552</td>\n",
       "      <td>...</td>\n",
       "      <td>-0.310301</td>\n",
       "      <td>0.482263</td>\n",
       "      <td>-0.540394</td>\n",
       "      <td>-0.002968</td>\n",
       "      <td>0.312855</td>\n",
       "      <td>0.534740</td>\n",
       "      <td>1.419843</td>\n",
       "      <td>0.812233</td>\n",
       "      <td>-0.465908</td>\n",
       "      <td>left</td>\n",
       "    </tr>\n",
       "    <tr>\n",
       "      <th>3</th>\n",
       "      <td>-0.143586</td>\n",
       "      <td>-0.059782</td>\n",
       "      <td>0.112301</td>\n",
       "      <td>0.256252</td>\n",
       "      <td>0.527842</td>\n",
       "      <td>0.698953</td>\n",
       "      <td>-0.060166</td>\n",
       "      <td>0.363188</td>\n",
       "      <td>0.120604</td>\n",
       "      <td>0.092018</td>\n",
       "      <td>...</td>\n",
       "      <td>1.315227</td>\n",
       "      <td>-1.126361</td>\n",
       "      <td>-2.665502</td>\n",
       "      <td>3.152952</td>\n",
       "      <td>0.675273</td>\n",
       "      <td>0.500347</td>\n",
       "      <td>-5.158850</td>\n",
       "      <td>-9.341757</td>\n",
       "      <td>2.289862</td>\n",
       "      <td>left</td>\n",
       "    </tr>\n",
       "    <tr>\n",
       "      <th>4</th>\n",
       "      <td>-0.519748</td>\n",
       "      <td>-0.516068</td>\n",
       "      <td>0.574703</td>\n",
       "      <td>0.370373</td>\n",
       "      <td>0.337382</td>\n",
       "      <td>0.293613</td>\n",
       "      <td>-0.045630</td>\n",
       "      <td>-0.087605</td>\n",
       "      <td>-0.001131</td>\n",
       "      <td>-0.053268</td>\n",
       "      <td>...</td>\n",
       "      <td>-0.145851</td>\n",
       "      <td>0.283028</td>\n",
       "      <td>0.003144</td>\n",
       "      <td>0.025340</td>\n",
       "      <td>0.067076</td>\n",
       "      <td>-0.118921</td>\n",
       "      <td>-0.000347</td>\n",
       "      <td>0.075854</td>\n",
       "      <td>-0.069618</td>\n",
       "      <td>-</td>\n",
       "    </tr>\n",
       "  </tbody>\n",
       "</table>\n",
       "<p>5 rows × 201 columns</p>\n",
       "</div>"
      ],
      "text/plain": [
       "        PC1       PC2       PC3       PC4       PC5       PC6       PC7  \\\n",
       "0 -0.465371 -0.382947  0.209452  0.073909  0.028996  0.219951 -0.107183   \n",
       "1 -0.388386 -0.055488  0.578863  0.148213 -0.023785 -0.003477 -0.128918   \n",
       "2  1.481683 -0.502096  0.089339 -0.643962  0.807387  0.170281 -0.059189   \n",
       "3 -0.143586 -0.059782  0.112301  0.256252  0.527842  0.698953 -0.060166   \n",
       "4 -0.519748 -0.516068  0.574703  0.370373  0.337382  0.293613 -0.045630   \n",
       "\n",
       "        PC8       PC9      PC10  ...     PC192     PC193     PC194     PC195  \\\n",
       "0 -0.281599 -0.064524 -0.060732  ... -0.286939 -0.156270 -0.131345  0.000871   \n",
       "1 -0.207565  0.049059 -0.044912  ...  0.168098 -0.138700 -0.196874  0.259532   \n",
       "2  0.460610  0.051117  0.154552  ... -0.310301  0.482263 -0.540394 -0.002968   \n",
       "3  0.363188  0.120604  0.092018  ...  1.315227 -1.126361 -2.665502  3.152952   \n",
       "4 -0.087605 -0.001131 -0.053268  ... -0.145851  0.283028  0.003144  0.025340   \n",
       "\n",
       "      PC196     PC197     PC198     PC199     PC200  label  \n",
       "0 -0.186414  0.043277 -0.099317  0.013464  0.101851  right  \n",
       "1  0.091947  0.134497  0.042720  0.032934  0.063023  right  \n",
       "2  0.312855  0.534740  1.419843  0.812233 -0.465908   left  \n",
       "3  0.675273  0.500347 -5.158850 -9.341757  2.289862   left  \n",
       "4  0.067076 -0.118921 -0.000347  0.075854 -0.069618      -  \n",
       "\n",
       "[5 rows x 201 columns]"
      ]
     },
     "execution_count": 218,
     "metadata": {},
     "output_type": "execute_result"
    }
   ],
   "source": [
    "principal_tags_full = pd.concat([principal_tags, label], axis=1)\n",
    "principal_tags_full.head()"
   ]
  },
  {
   "cell_type": "code",
   "execution_count": 219,
   "metadata": {},
   "outputs": [
    {
     "data": {
      "image/png": "[encoded data removed]",
      "text/plain": [
       "<Figure size 576x432 with 1 Axes>"
      ]
     },
     "metadata": {
      "needs_background": "light"
     },
     "output_type": "display_data"
    }
   ],
   "source": [
    "# plot with given labels\n",
    "fig = plt.figure(figsize=(8,6))\n",
    "ax = fig.gca()\n",
    "ax.set_xlabel('PC1')\n",
    "ax.set_ylabel('PC2')\n",
    "l = principal_tags_full[\"label\"]\n",
    "label_list = l.unique()\n",
    "color_dict = {\"left\": \"#0015bc\", \"right\": \"#e91d0e\", \"-\": \"grey\"}\n",
    "for target in label_list:\n",
    "    target_indices = (l == target)\n",
    "    ax.scatter(principal_tags_full.loc[target_indices, 'PC1']\n",
    "              , principal_tags_full.loc[target_indices, 'PC2']\n",
    "              , alpha=0.6, c=color_dict[target])\n",
    "    ax.legend(label_list, loc='best')\n",
    "    ax.set_xlim(-5,100)\n",
    "    ax.set_ylim(-10,100)\n",
    "    \n",
    "fig.savefig(\"tags_pca.png\", quality=95)"
   ]
  },
  {
   "cell_type": "code",
   "execution_count": 220,
   "metadata": {},
   "outputs": [],
   "source": [
    "# # k-means\n",
    "# kmeans = KMeans(n_clusters=2, init='k-means++', n_init=5).fit(norm_tags)\n"
   ]
  },
  {
   "cell_type": "code",
   "execution_count": 221,
   "metadata": {},
   "outputs": [],
   "source": [
    "# clusters = pd.DataFrame(data=kmeans.labels_, columns=[\"label\"])"
   ]
  },
  {
   "cell_type": "code",
   "execution_count": 222,
   "metadata": {},
   "outputs": [],
   "source": [
    "# clusters[\"label\"]"
   ]
  },
  {
   "cell_type": "code",
   "execution_count": 223,
   "metadata": {},
   "outputs": [],
   "source": [
    "# clusters[\"label\"].unique()"
   ]
  },
  {
   "cell_type": "markdown",
   "metadata": {},
   "source": [
    "# Logistic Regression"
   ]
  },
  {
   "cell_type": "code",
   "execution_count": 224,
   "metadata": {},
   "outputs": [
    {
     "data": {
      "text/html": [
       "<div>\n",
       "<style scoped>\n",
       "    .dataframe tbody tr th:only-of-type {\n",
       "        vertical-align: middle;\n",
       "    }\n",
       "\n",
       "    .dataframe tbody tr th {\n",
       "        vertical-align: top;\n",
       "    }\n",
       "\n",
       "    .dataframe thead th {\n",
       "        text-align: right;\n",
       "    }\n",
       "</style>\n",
       "<table border=\"1\" class=\"dataframe\">\n",
       "  <thead>\n",
       "    <tr style=\"text-align: right;\">\n",
       "      <th></th>\n",
       "      <th>PC1</th>\n",
       "      <th>PC2</th>\n",
       "      <th>PC3</th>\n",
       "      <th>PC4</th>\n",
       "      <th>PC5</th>\n",
       "      <th>PC6</th>\n",
       "      <th>PC7</th>\n",
       "      <th>PC8</th>\n",
       "      <th>PC9</th>\n",
       "      <th>PC10</th>\n",
       "      <th>...</th>\n",
       "      <th>PC192</th>\n",
       "      <th>PC193</th>\n",
       "      <th>PC194</th>\n",
       "      <th>PC195</th>\n",
       "      <th>PC196</th>\n",
       "      <th>PC197</th>\n",
       "      <th>PC198</th>\n",
       "      <th>PC199</th>\n",
       "      <th>PC200</th>\n",
       "      <th>label</th>\n",
       "    </tr>\n",
       "  </thead>\n",
       "  <tbody>\n",
       "    <tr>\n",
       "      <th>0</th>\n",
       "      <td>-0.465371</td>\n",
       "      <td>-0.382947</td>\n",
       "      <td>0.209452</td>\n",
       "      <td>0.073909</td>\n",
       "      <td>0.028996</td>\n",
       "      <td>0.219951</td>\n",
       "      <td>-0.107183</td>\n",
       "      <td>-0.281599</td>\n",
       "      <td>-0.064524</td>\n",
       "      <td>-0.060732</td>\n",
       "      <td>...</td>\n",
       "      <td>-0.286939</td>\n",
       "      <td>-0.156270</td>\n",
       "      <td>-0.131345</td>\n",
       "      <td>0.000871</td>\n",
       "      <td>-0.186414</td>\n",
       "      <td>0.043277</td>\n",
       "      <td>-0.099317</td>\n",
       "      <td>0.013464</td>\n",
       "      <td>0.101851</td>\n",
       "      <td>right</td>\n",
       "    </tr>\n",
       "    <tr>\n",
       "      <th>1</th>\n",
       "      <td>-0.388386</td>\n",
       "      <td>-0.055488</td>\n",
       "      <td>0.578863</td>\n",
       "      <td>0.148213</td>\n",
       "      <td>-0.023785</td>\n",
       "      <td>-0.003477</td>\n",
       "      <td>-0.128918</td>\n",
       "      <td>-0.207565</td>\n",
       "      <td>0.049059</td>\n",
       "      <td>-0.044912</td>\n",
       "      <td>...</td>\n",
       "      <td>0.168098</td>\n",
       "      <td>-0.138700</td>\n",
       "      <td>-0.196874</td>\n",
       "      <td>0.259532</td>\n",
       "      <td>0.091947</td>\n",
       "      <td>0.134497</td>\n",
       "      <td>0.042720</td>\n",
       "      <td>0.032934</td>\n",
       "      <td>0.063023</td>\n",
       "      <td>right</td>\n",
       "    </tr>\n",
       "    <tr>\n",
       "      <th>2</th>\n",
       "      <td>1.481683</td>\n",
       "      <td>-0.502096</td>\n",
       "      <td>0.089339</td>\n",
       "      <td>-0.643962</td>\n",
       "      <td>0.807387</td>\n",
       "      <td>0.170281</td>\n",
       "      <td>-0.059189</td>\n",
       "      <td>0.460610</td>\n",
       "      <td>0.051117</td>\n",
       "      <td>0.154552</td>\n",
       "      <td>...</td>\n",
       "      <td>-0.310301</td>\n",
       "      <td>0.482263</td>\n",
       "      <td>-0.540394</td>\n",
       "      <td>-0.002968</td>\n",
       "      <td>0.312855</td>\n",
       "      <td>0.534740</td>\n",
       "      <td>1.419843</td>\n",
       "      <td>0.812233</td>\n",
       "      <td>-0.465908</td>\n",
       "      <td>left</td>\n",
       "    </tr>\n",
       "    <tr>\n",
       "      <th>3</th>\n",
       "      <td>-0.143586</td>\n",
       "      <td>-0.059782</td>\n",
       "      <td>0.112301</td>\n",
       "      <td>0.256252</td>\n",
       "      <td>0.527842</td>\n",
       "      <td>0.698953</td>\n",
       "      <td>-0.060166</td>\n",
       "      <td>0.363188</td>\n",
       "      <td>0.120604</td>\n",
       "      <td>0.092018</td>\n",
       "      <td>...</td>\n",
       "      <td>1.315227</td>\n",
       "      <td>-1.126361</td>\n",
       "      <td>-2.665502</td>\n",
       "      <td>3.152952</td>\n",
       "      <td>0.675273</td>\n",
       "      <td>0.500347</td>\n",
       "      <td>-5.158850</td>\n",
       "      <td>-9.341757</td>\n",
       "      <td>2.289862</td>\n",
       "      <td>left</td>\n",
       "    </tr>\n",
       "    <tr>\n",
       "      <th>4</th>\n",
       "      <td>-0.519748</td>\n",
       "      <td>-0.516068</td>\n",
       "      <td>0.574703</td>\n",
       "      <td>0.370373</td>\n",
       "      <td>0.337382</td>\n",
       "      <td>0.293613</td>\n",
       "      <td>-0.045630</td>\n",
       "      <td>-0.087605</td>\n",
       "      <td>-0.001131</td>\n",
       "      <td>-0.053268</td>\n",
       "      <td>...</td>\n",
       "      <td>-0.145851</td>\n",
       "      <td>0.283028</td>\n",
       "      <td>0.003144</td>\n",
       "      <td>0.025340</td>\n",
       "      <td>0.067076</td>\n",
       "      <td>-0.118921</td>\n",
       "      <td>-0.000347</td>\n",
       "      <td>0.075854</td>\n",
       "      <td>-0.069618</td>\n",
       "      <td>-</td>\n",
       "    </tr>\n",
       "  </tbody>\n",
       "</table>\n",
       "<p>5 rows × 201 columns</p>\n",
       "</div>"
      ],
      "text/plain": [
       "        PC1       PC2       PC3       PC4       PC5       PC6       PC7  \\\n",
       "0 -0.465371 -0.382947  0.209452  0.073909  0.028996  0.219951 -0.107183   \n",
       "1 -0.388386 -0.055488  0.578863  0.148213 -0.023785 -0.003477 -0.128918   \n",
       "2  1.481683 -0.502096  0.089339 -0.643962  0.807387  0.170281 -0.059189   \n",
       "3 -0.143586 -0.059782  0.112301  0.256252  0.527842  0.698953 -0.060166   \n",
       "4 -0.519748 -0.516068  0.574703  0.370373  0.337382  0.293613 -0.045630   \n",
       "\n",
       "        PC8       PC9      PC10  ...     PC192     PC193     PC194     PC195  \\\n",
       "0 -0.281599 -0.064524 -0.060732  ... -0.286939 -0.156270 -0.131345  0.000871   \n",
       "1 -0.207565  0.049059 -0.044912  ...  0.168098 -0.138700 -0.196874  0.259532   \n",
       "2  0.460610  0.051117  0.154552  ... -0.310301  0.482263 -0.540394 -0.002968   \n",
       "3  0.363188  0.120604  0.092018  ...  1.315227 -1.126361 -2.665502  3.152952   \n",
       "4 -0.087605 -0.001131 -0.053268  ... -0.145851  0.283028  0.003144  0.025340   \n",
       "\n",
       "      PC196     PC197     PC198     PC199     PC200  label  \n",
       "0 -0.186414  0.043277 -0.099317  0.013464  0.101851  right  \n",
       "1  0.091947  0.134497  0.042720  0.032934  0.063023  right  \n",
       "2  0.312855  0.534740  1.419843  0.812233 -0.465908   left  \n",
       "3  0.675273  0.500347 -5.158850 -9.341757  2.289862   left  \n",
       "4  0.067076 -0.118921 -0.000347  0.075854 -0.069618      -  \n",
       "\n",
       "[5 rows x 201 columns]"
      ]
     },
     "execution_count": 224,
     "metadata": {},
     "output_type": "execute_result"
    }
   ],
   "source": [
    "# Train Logistic Regression with first 200 principal components\n",
    "principal_tags_full.head()"
   ]
  },
  {
   "cell_type": "code",
   "execution_count": 225,
   "metadata": {},
   "outputs": [],
   "source": [
    "# Remove '-' labeled data\n",
    "pca_data_cleaned = principal_tags.loc[label[\"label\"] != '-']\n",
    "cleaned_labels = label.loc[label[\"label\"] != '-']\n",
    "y = cleaned_labels.label.map({\"left\": 1, \"right\": 0})"
   ]
  },
  {
   "cell_type": "code",
   "execution_count": 226,
   "metadata": {},
   "outputs": [],
   "source": [
    "# split data\n",
    "X_train_pca, X_test_pca, y_train_pca, y_test_pca = train_test_split(StandardScaler().fit_transform(pca_data_cleaned), y, test_size=0.2, random_state=0)"
   ]
  },
  {
   "cell_type": "code",
   "execution_count": 227,
   "metadata": {},
   "outputs": [],
   "source": [
    "hyperparameters_svm = {'C': [0.1, 1, 10, 100], 'gamma': [1, 0.1, 0.01, 0.001, 0.00001, 10]}\n",
    "hyperparameters_lr = {\"C\": [1e-7,0.1e-6, 0.000001, 0.00001, 0.0001, 0.001, 0.01, 1, 10, 100, 1000, 10000]}"
   ]
  },
  {
   "cell_type": "code",
   "execution_count": 228,
   "metadata": {},
   "outputs": [],
   "source": [
    "clf_grid_pca = GridSearchCV(LogisticRegression(max_iter=1000), param_grid=hyperparameters_lr, verbose=1)"
   ]
  },
  {
   "cell_type": "code",
   "execution_count": 229,
   "metadata": {},
   "outputs": [
    {
     "name": "stdout",
     "output_type": "stream",
     "text": [
      "Fitting 5 folds for each of 12 candidates, totalling 60 fits\n"
     ]
    },
    {
     "name": "stderr",
     "output_type": "stream",
     "text": [
      "[Parallel(n_jobs=1)]: Using backend SequentialBackend with 1 concurrent workers.\n",
      "[Parallel(n_jobs=1)]: Done  60 out of  60 | elapsed:   18.3s finished\n"
     ]
    },
    {
     "data": {
      "text/plain": [
       "GridSearchCV(cv=None, error_score=nan,\n",
       "             estimator=LogisticRegression(C=1.0, class_weight=None, dual=False,\n",
       "                                          fit_intercept=True,\n",
       "                                          intercept_scaling=1, l1_ratio=None,\n",
       "                                          max_iter=1000, multi_class='auto',\n",
       "                                          n_jobs=None, penalty='l2',\n",
       "                                          random_state=None, solver='lbfgs',\n",
       "                                          tol=0.0001, verbose=0,\n",
       "                                          warm_start=False),\n",
       "             iid='deprecated', n_jobs=None,\n",
       "             param_grid={'C': [1e-07, 1e-07, 1e-06, 1e-05, 0.0001, 0.001, 0.01,\n",
       "                               1, 10, 100, 1000, 10000]},\n",
       "             pre_dispatch='2*n_jobs', refit=True, return_train_score=False,\n",
       "             scoring=None, verbose=1)"
      ]
     },
     "execution_count": 229,
     "metadata": {},
     "output_type": "execute_result"
    }
   ],
   "source": [
    "clf_grid_pca.fit(X_train_pca, y_train_pca)"
   ]
  },
  {
   "cell_type": "code",
   "execution_count": 230,
   "metadata": {},
   "outputs": [
    {
     "name": "stdout",
     "output_type": "stream",
     "text": [
      "Accuracy: 77.01678397401191%\n"
     ]
    }
   ],
   "source": [
    "clf_pca_predictions = clf_grid_pca.predict(X_test_pca)\n",
    "print(\"Accuracy: {}%\".format(clf_grid_pca.score(X_test_pca, y_test_pca) * 100))"
   ]
  },
  {
   "cell_type": "code",
   "execution_count": 231,
   "metadata": {},
   "outputs": [],
   "source": [
    "top_N_tags = get_df_n_most_frequent(norm_tags, 200)"
   ]
  },
  {
   "cell_type": "code",
   "execution_count": 232,
   "metadata": {},
   "outputs": [],
   "source": [
    "top_N_cleaned = top_N_tags.loc[label[\"label\"] != '-']"
   ]
  },
  {
   "cell_type": "code",
   "execution_count": 233,
   "metadata": {},
   "outputs": [],
   "source": [
    "X_train_top, X_test_top, y_train_top, y_test_top = train_test_split(top_N_cleaned, y, test_size=0.2, random_state=0)"
   ]
  },
  {
   "cell_type": "code",
   "execution_count": 234,
   "metadata": {},
   "outputs": [],
   "source": [
    "clf_grid_top = GridSearchCV(LogisticRegression(max_iter=1000), param_grid=hyperparameters_lr, verbose=1)"
   ]
  },
  {
   "cell_type": "code",
   "execution_count": 235,
   "metadata": {
    "scrolled": true
   },
   "outputs": [
    {
     "name": "stdout",
     "output_type": "stream",
     "text": [
      "Fitting 5 folds for each of 12 candidates, totalling 60 fits\n"
     ]
    },
    {
     "name": "stderr",
     "output_type": "stream",
     "text": [
      "[Parallel(n_jobs=1)]: Using backend SequentialBackend with 1 concurrent workers.\n",
      "[Parallel(n_jobs=1)]: Done  60 out of  60 | elapsed:    6.4s finished\n"
     ]
    },
    {
     "data": {
      "text/plain": [
       "GridSearchCV(cv=None, error_score=nan,\n",
       "             estimator=LogisticRegression(C=1.0, class_weight=None, dual=False,\n",
       "                                          fit_intercept=True,\n",
       "                                          intercept_scaling=1, l1_ratio=None,\n",
       "                                          max_iter=1000, multi_class='auto',\n",
       "                                          n_jobs=None, penalty='l2',\n",
       "                                          random_state=None, solver='lbfgs',\n",
       "                                          tol=0.0001, verbose=0,\n",
       "                                          warm_start=False),\n",
       "             iid='deprecated', n_jobs=None,\n",
       "             param_grid={'C': [1e-07, 1e-07, 1e-06, 1e-05, 0.0001, 0.001, 0.01,\n",
       "                               1, 10, 100, 1000, 10000]},\n",
       "             pre_dispatch='2*n_jobs', refit=True, return_train_score=False,\n",
       "             scoring=None, verbose=1)"
      ]
     },
     "execution_count": 235,
     "metadata": {},
     "output_type": "execute_result"
    }
   ],
   "source": [
    "clf_grid_top.fit(X_train_top, y_train_top)"
   ]
  },
  {
   "cell_type": "code",
   "execution_count": 236,
   "metadata": {},
   "outputs": [
    {
     "name": "stdout",
     "output_type": "stream",
     "text": [
      "Accuracy: 64.45587439090417%\n"
     ]
    }
   ],
   "source": [
    "clf_top_predictions = clf_grid_top.predict(X_test_top)\n",
    "print(\"Accuracy: {}%\".format(clf_grid_top.score(X_test_top, y_test_top) * 100))"
   ]
  },
  {
   "cell_type": "code",
   "execution_count": 237,
   "metadata": {},
   "outputs": [],
   "source": [
    "pickle.dump(clf_grid_pca, open(\"objects/lr_grid_pca.pickle\", \"wb\"))"
   ]
  },
  {
   "cell_type": "code",
   "execution_count": 238,
   "metadata": {},
   "outputs": [],
   "source": [
    "pickle.dump(clf_grid_top, open(\"objects/lr_grid_top.pickle\", \"wb\"))"
   ]
  },
  {
   "cell_type": "markdown",
   "metadata": {},
   "source": [
    "# SVM"
   ]
  },
  {
   "cell_type": "code",
   "execution_count": 239,
   "metadata": {},
   "outputs": [],
   "source": [
    "clf_top = svm.SVC()"
   ]
  },
  {
   "cell_type": "code",
   "execution_count": 240,
   "metadata": {},
   "outputs": [
    {
     "data": {
      "text/plain": [
       "SVC(C=1.0, break_ties=False, cache_size=200, class_weight=None, coef0=0.0,\n",
       "    decision_function_shape='ovr', degree=3, gamma='scale', kernel='rbf',\n",
       "    max_iter=-1, probability=False, random_state=None, shrinking=True,\n",
       "    tol=0.001, verbose=False)"
      ]
     },
     "execution_count": 240,
     "metadata": {},
     "output_type": "execute_result"
    }
   ],
   "source": [
    "clf_top.fit(X_train_top, y_train_top)"
   ]
  },
  {
   "cell_type": "code",
   "execution_count": 241,
   "metadata": {},
   "outputs": [
    {
     "name": "stdout",
     "output_type": "stream",
     "text": [
      "Accuracy: 63.670817541959934%\n"
     ]
    }
   ],
   "source": [
    "clf_top_predictions = clf_top.predict(X_test_top)\n",
    "print(\"Accuracy: {}%\".format(clf_top.score(X_test_top, y_test_top) * 100 ))"
   ]
  },
  {
   "cell_type": "code",
   "execution_count": 242,
   "metadata": {},
   "outputs": [],
   "source": [
    "clf_pca = svm.SVC()"
   ]
  },
  {
   "cell_type": "code",
   "execution_count": 243,
   "metadata": {},
   "outputs": [
    {
     "data": {
      "text/plain": [
       "SVC(C=1.0, break_ties=False, cache_size=200, class_weight=None, coef0=0.0,\n",
       "    decision_function_shape='ovr', degree=3, gamma='scale', kernel='rbf',\n",
       "    max_iter=-1, probability=False, random_state=None, shrinking=True,\n",
       "    tol=0.001, verbose=False)"
      ]
     },
     "execution_count": 243,
     "metadata": {},
     "output_type": "execute_result"
    }
   ],
   "source": [
    "clf_pca.fit(X_train_pca, y_train_pca)"
   ]
  },
  {
   "cell_type": "code",
   "execution_count": 244,
   "metadata": {},
   "outputs": [
    {
     "name": "stdout",
     "output_type": "stream",
     "text": [
      "Accuracy: 68.76015159718463%\n"
     ]
    }
   ],
   "source": [
    "clf_pca_predictions = clf_pca.predict(X_test_pca)\n",
    "print(\"Accuracy: {}%\".format(clf_pca.score(X_test_pca, y_test_pca) * 100 ))"
   ]
  },
  {
   "cell_type": "code",
   "execution_count": 245,
   "metadata": {},
   "outputs": [],
   "source": [
    "pickle.dump(clf_pca, open(\"objects/svm_pca.pickle\", \"wb\"))"
   ]
  },
  {
   "cell_type": "code",
   "execution_count": 246,
   "metadata": {},
   "outputs": [],
   "source": [
    "pickle.dump(clf_top, open(\"objects/svm_top.pickle\", \"wb\"))"
   ]
  },
  {
   "cell_type": "markdown",
   "metadata": {},
   "source": [
    "# SVM-CV"
   ]
  },
  {
   "cell_type": "code",
   "execution_count": 247,
   "metadata": {},
   "outputs": [],
   "source": [
    "# clf_grid_pca = GridSearchCV(svm.SVC(max_iter=1000), param_grid=hyperparameters_svm, verbose=1)"
   ]
  },
  {
   "cell_type": "code",
   "execution_count": 248,
   "metadata": {},
   "outputs": [
    {
     "name": "stdout",
     "output_type": "stream",
     "text": [
      "Fitting 5 folds for each of 24 candidates, totalling 120 fits\n"
     ]
    },
    {
     "name": "stderr",
     "output_type": "stream",
     "text": [
      "[Parallel(n_jobs=1)]: Using backend SequentialBackend with 1 concurrent workers.\n"
     ]
    },
    {
     "ename": "KeyboardInterrupt",
     "evalue": "",
     "output_type": "error",
     "traceback": [
      "\u001b[0;31m---------------------------------------------------------------------------\u001b[0m",
      "\u001b[0;31mKeyboardInterrupt\u001b[0m                         Traceback (most recent call last)",
      "\u001b[0;32m<ipython-input-248-9e0570cdda47>\u001b[0m in \u001b[0;36m<module>\u001b[0;34m\u001b[0m\n\u001b[0;32m----> 1\u001b[0;31m \u001b[0mclf_grid_pca\u001b[0m\u001b[0;34m.\u001b[0m\u001b[0mfit\u001b[0m\u001b[0;34m(\u001b[0m\u001b[0mX_train_pca\u001b[0m\u001b[0;34m,\u001b[0m \u001b[0my_train_pca\u001b[0m\u001b[0;34m)\u001b[0m\u001b[0;34m\u001b[0m\u001b[0;34m\u001b[0m\u001b[0m\n\u001b[0m",
      "\u001b[0;32m~/miniconda2/envs/py37/lib/python3.7/site-packages/sklearn/model_selection/_search.py\u001b[0m in \u001b[0;36mfit\u001b[0;34m(self, X, y, groups, **fit_params)\u001b[0m\n\u001b[1;32m    708\u001b[0m                 \u001b[0;32mreturn\u001b[0m \u001b[0mresults\u001b[0m\u001b[0;34m\u001b[0m\u001b[0;34m\u001b[0m\u001b[0m\n\u001b[1;32m    709\u001b[0m \u001b[0;34m\u001b[0m\u001b[0m\n\u001b[0;32m--> 710\u001b[0;31m             \u001b[0mself\u001b[0m\u001b[0;34m.\u001b[0m\u001b[0m_run_search\u001b[0m\u001b[0;34m(\u001b[0m\u001b[0mevaluate_candidates\u001b[0m\u001b[0;34m)\u001b[0m\u001b[0;34m\u001b[0m\u001b[0;34m\u001b[0m\u001b[0m\n\u001b[0m\u001b[1;32m    711\u001b[0m \u001b[0;34m\u001b[0m\u001b[0m\n\u001b[1;32m    712\u001b[0m         \u001b[0;31m# For multi-metric evaluation, store the best_index_, best_params_ and\u001b[0m\u001b[0;34m\u001b[0m\u001b[0;34m\u001b[0m\u001b[0;34m\u001b[0m\u001b[0m\n",
      "\u001b[0;32m~/miniconda2/envs/py37/lib/python3.7/site-packages/sklearn/model_selection/_search.py\u001b[0m in \u001b[0;36m_run_search\u001b[0;34m(self, evaluate_candidates)\u001b[0m\n\u001b[1;32m   1149\u001b[0m     \u001b[0;32mdef\u001b[0m \u001b[0m_run_search\u001b[0m\u001b[0;34m(\u001b[0m\u001b[0mself\u001b[0m\u001b[0;34m,\u001b[0m \u001b[0mevaluate_candidates\u001b[0m\u001b[0;34m)\u001b[0m\u001b[0;34m:\u001b[0m\u001b[0;34m\u001b[0m\u001b[0;34m\u001b[0m\u001b[0m\n\u001b[1;32m   1150\u001b[0m         \u001b[0;34m\"\"\"Search all candidates in param_grid\"\"\"\u001b[0m\u001b[0;34m\u001b[0m\u001b[0;34m\u001b[0m\u001b[0m\n\u001b[0;32m-> 1151\u001b[0;31m         \u001b[0mevaluate_candidates\u001b[0m\u001b[0;34m(\u001b[0m\u001b[0mParameterGrid\u001b[0m\u001b[0;34m(\u001b[0m\u001b[0mself\u001b[0m\u001b[0;34m.\u001b[0m\u001b[0mparam_grid\u001b[0m\u001b[0;34m)\u001b[0m\u001b[0;34m)\u001b[0m\u001b[0;34m\u001b[0m\u001b[0;34m\u001b[0m\u001b[0m\n\u001b[0m\u001b[1;32m   1152\u001b[0m \u001b[0;34m\u001b[0m\u001b[0m\n\u001b[1;32m   1153\u001b[0m \u001b[0;34m\u001b[0m\u001b[0m\n",
      "\u001b[0;32m~/miniconda2/envs/py37/lib/python3.7/site-packages/sklearn/model_selection/_search.py\u001b[0m in \u001b[0;36mevaluate_candidates\u001b[0;34m(candidate_params)\u001b[0m\n\u001b[1;32m    687\u001b[0m                                \u001b[0;32mfor\u001b[0m \u001b[0mparameters\u001b[0m\u001b[0;34m,\u001b[0m \u001b[0;34m(\u001b[0m\u001b[0mtrain\u001b[0m\u001b[0;34m,\u001b[0m \u001b[0mtest\u001b[0m\u001b[0;34m)\u001b[0m\u001b[0;34m\u001b[0m\u001b[0;34m\u001b[0m\u001b[0m\n\u001b[1;32m    688\u001b[0m                                in product(candidate_params,\n\u001b[0;32m--> 689\u001b[0;31m                                           cv.split(X, y, groups)))\n\u001b[0m\u001b[1;32m    690\u001b[0m \u001b[0;34m\u001b[0m\u001b[0m\n\u001b[1;32m    691\u001b[0m                 \u001b[0;32mif\u001b[0m \u001b[0mlen\u001b[0m\u001b[0;34m(\u001b[0m\u001b[0mout\u001b[0m\u001b[0;34m)\u001b[0m \u001b[0;34m<\u001b[0m \u001b[0;36m1\u001b[0m\u001b[0;34m:\u001b[0m\u001b[0;34m\u001b[0m\u001b[0;34m\u001b[0m\u001b[0m\n",
      "\u001b[0;32m~/miniconda2/envs/py37/lib/python3.7/site-packages/joblib/parallel.py\u001b[0m in \u001b[0;36m__call__\u001b[0;34m(self, iterable)\u001b[0m\n\u001b[1;32m    919\u001b[0m             \u001b[0;31m# remaining jobs.\u001b[0m\u001b[0;34m\u001b[0m\u001b[0;34m\u001b[0m\u001b[0;34m\u001b[0m\u001b[0m\n\u001b[1;32m    920\u001b[0m             \u001b[0mself\u001b[0m\u001b[0;34m.\u001b[0m\u001b[0m_iterating\u001b[0m \u001b[0;34m=\u001b[0m \u001b[0;32mFalse\u001b[0m\u001b[0;34m\u001b[0m\u001b[0;34m\u001b[0m\u001b[0m\n\u001b[0;32m--> 921\u001b[0;31m             \u001b[0;32mif\u001b[0m \u001b[0mself\u001b[0m\u001b[0;34m.\u001b[0m\u001b[0mdispatch_one_batch\u001b[0m\u001b[0;34m(\u001b[0m\u001b[0miterator\u001b[0m\u001b[0;34m)\u001b[0m\u001b[0;34m:\u001b[0m\u001b[0;34m\u001b[0m\u001b[0;34m\u001b[0m\u001b[0m\n\u001b[0m\u001b[1;32m    922\u001b[0m                 \u001b[0mself\u001b[0m\u001b[0;34m.\u001b[0m\u001b[0m_iterating\u001b[0m \u001b[0;34m=\u001b[0m \u001b[0mself\u001b[0m\u001b[0;34m.\u001b[0m\u001b[0m_original_iterator\u001b[0m \u001b[0;32mis\u001b[0m \u001b[0;32mnot\u001b[0m \u001b[0;32mNone\u001b[0m\u001b[0;34m\u001b[0m\u001b[0;34m\u001b[0m\u001b[0m\n\u001b[1;32m    923\u001b[0m \u001b[0;34m\u001b[0m\u001b[0m\n",
      "\u001b[0;32m~/miniconda2/envs/py37/lib/python3.7/site-packages/joblib/parallel.py\u001b[0m in \u001b[0;36mdispatch_one_batch\u001b[0;34m(self, iterator)\u001b[0m\n\u001b[1;32m    757\u001b[0m                 \u001b[0;32mreturn\u001b[0m \u001b[0;32mFalse\u001b[0m\u001b[0;34m\u001b[0m\u001b[0;34m\u001b[0m\u001b[0m\n\u001b[1;32m    758\u001b[0m             \u001b[0;32melse\u001b[0m\u001b[0;34m:\u001b[0m\u001b[0;34m\u001b[0m\u001b[0;34m\u001b[0m\u001b[0m\n\u001b[0;32m--> 759\u001b[0;31m                 \u001b[0mself\u001b[0m\u001b[0;34m.\u001b[0m\u001b[0m_dispatch\u001b[0m\u001b[0;34m(\u001b[0m\u001b[0mtasks\u001b[0m\u001b[0;34m)\u001b[0m\u001b[0;34m\u001b[0m\u001b[0;34m\u001b[0m\u001b[0m\n\u001b[0m\u001b[1;32m    760\u001b[0m                 \u001b[0;32mreturn\u001b[0m \u001b[0;32mTrue\u001b[0m\u001b[0;34m\u001b[0m\u001b[0;34m\u001b[0m\u001b[0m\n\u001b[1;32m    761\u001b[0m \u001b[0;34m\u001b[0m\u001b[0m\n",
      "\u001b[0;32m~/miniconda2/envs/py37/lib/python3.7/site-packages/joblib/parallel.py\u001b[0m in \u001b[0;36m_dispatch\u001b[0;34m(self, batch)\u001b[0m\n\u001b[1;32m    714\u001b[0m         \u001b[0;32mwith\u001b[0m \u001b[0mself\u001b[0m\u001b[0;34m.\u001b[0m\u001b[0m_lock\u001b[0m\u001b[0;34m:\u001b[0m\u001b[0;34m\u001b[0m\u001b[0;34m\u001b[0m\u001b[0m\n\u001b[1;32m    715\u001b[0m             \u001b[0mjob_idx\u001b[0m \u001b[0;34m=\u001b[0m \u001b[0mlen\u001b[0m\u001b[0;34m(\u001b[0m\u001b[0mself\u001b[0m\u001b[0;34m.\u001b[0m\u001b[0m_jobs\u001b[0m\u001b[0;34m)\u001b[0m\u001b[0;34m\u001b[0m\u001b[0;34m\u001b[0m\u001b[0m\n\u001b[0;32m--> 716\u001b[0;31m             \u001b[0mjob\u001b[0m \u001b[0;34m=\u001b[0m \u001b[0mself\u001b[0m\u001b[0;34m.\u001b[0m\u001b[0m_backend\u001b[0m\u001b[0;34m.\u001b[0m\u001b[0mapply_async\u001b[0m\u001b[0;34m(\u001b[0m\u001b[0mbatch\u001b[0m\u001b[0;34m,\u001b[0m \u001b[0mcallback\u001b[0m\u001b[0;34m=\u001b[0m\u001b[0mcb\u001b[0m\u001b[0;34m)\u001b[0m\u001b[0;34m\u001b[0m\u001b[0;34m\u001b[0m\u001b[0m\n\u001b[0m\u001b[1;32m    717\u001b[0m             \u001b[0;31m# A job can complete so quickly than its callback is\u001b[0m\u001b[0;34m\u001b[0m\u001b[0;34m\u001b[0m\u001b[0;34m\u001b[0m\u001b[0m\n\u001b[1;32m    718\u001b[0m             \u001b[0;31m# called before we get here, causing self._jobs to\u001b[0m\u001b[0;34m\u001b[0m\u001b[0;34m\u001b[0m\u001b[0;34m\u001b[0m\u001b[0m\n",
      "\u001b[0;32m~/miniconda2/envs/py37/lib/python3.7/site-packages/joblib/_parallel_backends.py\u001b[0m in \u001b[0;36mapply_async\u001b[0;34m(self, func, callback)\u001b[0m\n\u001b[1;32m    180\u001b[0m     \u001b[0;32mdef\u001b[0m \u001b[0mapply_async\u001b[0m\u001b[0;34m(\u001b[0m\u001b[0mself\u001b[0m\u001b[0;34m,\u001b[0m \u001b[0mfunc\u001b[0m\u001b[0;34m,\u001b[0m \u001b[0mcallback\u001b[0m\u001b[0;34m=\u001b[0m\u001b[0;32mNone\u001b[0m\u001b[0;34m)\u001b[0m\u001b[0;34m:\u001b[0m\u001b[0;34m\u001b[0m\u001b[0;34m\u001b[0m\u001b[0m\n\u001b[1;32m    181\u001b[0m         \u001b[0;34m\"\"\"Schedule a func to be run\"\"\"\u001b[0m\u001b[0;34m\u001b[0m\u001b[0;34m\u001b[0m\u001b[0m\n\u001b[0;32m--> 182\u001b[0;31m         \u001b[0mresult\u001b[0m \u001b[0;34m=\u001b[0m \u001b[0mImmediateResult\u001b[0m\u001b[0;34m(\u001b[0m\u001b[0mfunc\u001b[0m\u001b[0;34m)\u001b[0m\u001b[0;34m\u001b[0m\u001b[0;34m\u001b[0m\u001b[0m\n\u001b[0m\u001b[1;32m    183\u001b[0m         \u001b[0;32mif\u001b[0m \u001b[0mcallback\u001b[0m\u001b[0;34m:\u001b[0m\u001b[0;34m\u001b[0m\u001b[0;34m\u001b[0m\u001b[0m\n\u001b[1;32m    184\u001b[0m             \u001b[0mcallback\u001b[0m\u001b[0;34m(\u001b[0m\u001b[0mresult\u001b[0m\u001b[0;34m)\u001b[0m\u001b[0;34m\u001b[0m\u001b[0;34m\u001b[0m\u001b[0m\n",
      "\u001b[0;32m~/miniconda2/envs/py37/lib/python3.7/site-packages/joblib/_parallel_backends.py\u001b[0m in \u001b[0;36m__init__\u001b[0;34m(self, batch)\u001b[0m\n\u001b[1;32m    547\u001b[0m         \u001b[0;31m# Don't delay the application, to avoid keeping the input\u001b[0m\u001b[0;34m\u001b[0m\u001b[0;34m\u001b[0m\u001b[0;34m\u001b[0m\u001b[0m\n\u001b[1;32m    548\u001b[0m         \u001b[0;31m# arguments in memory\u001b[0m\u001b[0;34m\u001b[0m\u001b[0;34m\u001b[0m\u001b[0;34m\u001b[0m\u001b[0m\n\u001b[0;32m--> 549\u001b[0;31m         \u001b[0mself\u001b[0m\u001b[0;34m.\u001b[0m\u001b[0mresults\u001b[0m \u001b[0;34m=\u001b[0m \u001b[0mbatch\u001b[0m\u001b[0;34m(\u001b[0m\u001b[0;34m)\u001b[0m\u001b[0;34m\u001b[0m\u001b[0;34m\u001b[0m\u001b[0m\n\u001b[0m\u001b[1;32m    550\u001b[0m \u001b[0;34m\u001b[0m\u001b[0m\n\u001b[1;32m    551\u001b[0m     \u001b[0;32mdef\u001b[0m \u001b[0mget\u001b[0m\u001b[0;34m(\u001b[0m\u001b[0mself\u001b[0m\u001b[0;34m)\u001b[0m\u001b[0;34m:\u001b[0m\u001b[0;34m\u001b[0m\u001b[0;34m\u001b[0m\u001b[0m\n",
      "\u001b[0;32m~/miniconda2/envs/py37/lib/python3.7/site-packages/joblib/parallel.py\u001b[0m in \u001b[0;36m__call__\u001b[0;34m(self)\u001b[0m\n\u001b[1;32m    223\u001b[0m         \u001b[0;32mwith\u001b[0m \u001b[0mparallel_backend\u001b[0m\u001b[0;34m(\u001b[0m\u001b[0mself\u001b[0m\u001b[0;34m.\u001b[0m\u001b[0m_backend\u001b[0m\u001b[0;34m,\u001b[0m \u001b[0mn_jobs\u001b[0m\u001b[0;34m=\u001b[0m\u001b[0mself\u001b[0m\u001b[0;34m.\u001b[0m\u001b[0m_n_jobs\u001b[0m\u001b[0;34m)\u001b[0m\u001b[0;34m:\u001b[0m\u001b[0;34m\u001b[0m\u001b[0;34m\u001b[0m\u001b[0m\n\u001b[1;32m    224\u001b[0m             return [func(*args, **kwargs)\n\u001b[0;32m--> 225\u001b[0;31m                     for func, args, kwargs in self.items]\n\u001b[0m\u001b[1;32m    226\u001b[0m \u001b[0;34m\u001b[0m\u001b[0m\n\u001b[1;32m    227\u001b[0m     \u001b[0;32mdef\u001b[0m \u001b[0m__len__\u001b[0m\u001b[0;34m(\u001b[0m\u001b[0mself\u001b[0m\u001b[0;34m)\u001b[0m\u001b[0;34m:\u001b[0m\u001b[0;34m\u001b[0m\u001b[0;34m\u001b[0m\u001b[0m\n",
      "\u001b[0;32m~/miniconda2/envs/py37/lib/python3.7/site-packages/joblib/parallel.py\u001b[0m in \u001b[0;36m<listcomp>\u001b[0;34m(.0)\u001b[0m\n\u001b[1;32m    223\u001b[0m         \u001b[0;32mwith\u001b[0m \u001b[0mparallel_backend\u001b[0m\u001b[0;34m(\u001b[0m\u001b[0mself\u001b[0m\u001b[0;34m.\u001b[0m\u001b[0m_backend\u001b[0m\u001b[0;34m,\u001b[0m \u001b[0mn_jobs\u001b[0m\u001b[0;34m=\u001b[0m\u001b[0mself\u001b[0m\u001b[0;34m.\u001b[0m\u001b[0m_n_jobs\u001b[0m\u001b[0;34m)\u001b[0m\u001b[0;34m:\u001b[0m\u001b[0;34m\u001b[0m\u001b[0;34m\u001b[0m\u001b[0m\n\u001b[1;32m    224\u001b[0m             return [func(*args, **kwargs)\n\u001b[0;32m--> 225\u001b[0;31m                     for func, args, kwargs in self.items]\n\u001b[0m\u001b[1;32m    226\u001b[0m \u001b[0;34m\u001b[0m\u001b[0m\n\u001b[1;32m    227\u001b[0m     \u001b[0;32mdef\u001b[0m \u001b[0m__len__\u001b[0m\u001b[0;34m(\u001b[0m\u001b[0mself\u001b[0m\u001b[0;34m)\u001b[0m\u001b[0;34m:\u001b[0m\u001b[0;34m\u001b[0m\u001b[0;34m\u001b[0m\u001b[0m\n",
      "\u001b[0;32m~/miniconda2/envs/py37/lib/python3.7/site-packages/sklearn/model_selection/_validation.py\u001b[0m in \u001b[0;36m_fit_and_score\u001b[0;34m(estimator, X, y, scorer, train, test, verbose, parameters, fit_params, return_train_score, return_parameters, return_n_test_samples, return_times, return_estimator, error_score)\u001b[0m\n\u001b[1;32m    513\u001b[0m             \u001b[0mestimator\u001b[0m\u001b[0;34m.\u001b[0m\u001b[0mfit\u001b[0m\u001b[0;34m(\u001b[0m\u001b[0mX_train\u001b[0m\u001b[0;34m,\u001b[0m \u001b[0;34m**\u001b[0m\u001b[0mfit_params\u001b[0m\u001b[0;34m)\u001b[0m\u001b[0;34m\u001b[0m\u001b[0;34m\u001b[0m\u001b[0m\n\u001b[1;32m    514\u001b[0m         \u001b[0;32melse\u001b[0m\u001b[0;34m:\u001b[0m\u001b[0;34m\u001b[0m\u001b[0;34m\u001b[0m\u001b[0m\n\u001b[0;32m--> 515\u001b[0;31m             \u001b[0mestimator\u001b[0m\u001b[0;34m.\u001b[0m\u001b[0mfit\u001b[0m\u001b[0;34m(\u001b[0m\u001b[0mX_train\u001b[0m\u001b[0;34m,\u001b[0m \u001b[0my_train\u001b[0m\u001b[0;34m,\u001b[0m \u001b[0;34m**\u001b[0m\u001b[0mfit_params\u001b[0m\u001b[0;34m)\u001b[0m\u001b[0;34m\u001b[0m\u001b[0;34m\u001b[0m\u001b[0m\n\u001b[0m\u001b[1;32m    516\u001b[0m \u001b[0;34m\u001b[0m\u001b[0m\n\u001b[1;32m    517\u001b[0m     \u001b[0;32mexcept\u001b[0m \u001b[0mException\u001b[0m \u001b[0;32mas\u001b[0m \u001b[0me\u001b[0m\u001b[0;34m:\u001b[0m\u001b[0;34m\u001b[0m\u001b[0;34m\u001b[0m\u001b[0m\n",
      "\u001b[0;32m~/miniconda2/envs/py37/lib/python3.7/site-packages/sklearn/svm/_base.py\u001b[0m in \u001b[0;36mfit\u001b[0;34m(self, X, y, sample_weight)\u001b[0m\n\u001b[1;32m    197\u001b[0m \u001b[0;34m\u001b[0m\u001b[0m\n\u001b[1;32m    198\u001b[0m         \u001b[0mseed\u001b[0m \u001b[0;34m=\u001b[0m \u001b[0mrnd\u001b[0m\u001b[0;34m.\u001b[0m\u001b[0mrandint\u001b[0m\u001b[0;34m(\u001b[0m\u001b[0mnp\u001b[0m\u001b[0;34m.\u001b[0m\u001b[0miinfo\u001b[0m\u001b[0;34m(\u001b[0m\u001b[0;34m'i'\u001b[0m\u001b[0;34m)\u001b[0m\u001b[0;34m.\u001b[0m\u001b[0mmax\u001b[0m\u001b[0;34m)\u001b[0m\u001b[0;34m\u001b[0m\u001b[0;34m\u001b[0m\u001b[0m\n\u001b[0;32m--> 199\u001b[0;31m         \u001b[0mfit\u001b[0m\u001b[0;34m(\u001b[0m\u001b[0mX\u001b[0m\u001b[0;34m,\u001b[0m \u001b[0my\u001b[0m\u001b[0;34m,\u001b[0m \u001b[0msample_weight\u001b[0m\u001b[0;34m,\u001b[0m \u001b[0msolver_type\u001b[0m\u001b[0;34m,\u001b[0m \u001b[0mkernel\u001b[0m\u001b[0;34m,\u001b[0m \u001b[0mrandom_seed\u001b[0m\u001b[0;34m=\u001b[0m\u001b[0mseed\u001b[0m\u001b[0;34m)\u001b[0m\u001b[0;34m\u001b[0m\u001b[0;34m\u001b[0m\u001b[0m\n\u001b[0m\u001b[1;32m    200\u001b[0m         \u001b[0;31m# see comment on the other call to np.iinfo in this file\u001b[0m\u001b[0;34m\u001b[0m\u001b[0;34m\u001b[0m\u001b[0;34m\u001b[0m\u001b[0m\n\u001b[1;32m    201\u001b[0m \u001b[0;34m\u001b[0m\u001b[0m\n",
      "\u001b[0;32m~/miniconda2/envs/py37/lib/python3.7/site-packages/sklearn/svm/_base.py\u001b[0m in \u001b[0;36m_dense_fit\u001b[0;34m(self, X, y, sample_weight, solver_type, kernel, random_seed)\u001b[0m\n\u001b[1;32m    256\u001b[0m                 \u001b[0mcache_size\u001b[0m\u001b[0;34m=\u001b[0m\u001b[0mself\u001b[0m\u001b[0;34m.\u001b[0m\u001b[0mcache_size\u001b[0m\u001b[0;34m,\u001b[0m \u001b[0mcoef0\u001b[0m\u001b[0;34m=\u001b[0m\u001b[0mself\u001b[0m\u001b[0;34m.\u001b[0m\u001b[0mcoef0\u001b[0m\u001b[0;34m,\u001b[0m\u001b[0;34m\u001b[0m\u001b[0;34m\u001b[0m\u001b[0m\n\u001b[1;32m    257\u001b[0m                 \u001b[0mgamma\u001b[0m\u001b[0;34m=\u001b[0m\u001b[0mself\u001b[0m\u001b[0;34m.\u001b[0m\u001b[0m_gamma\u001b[0m\u001b[0;34m,\u001b[0m \u001b[0mepsilon\u001b[0m\u001b[0;34m=\u001b[0m\u001b[0mself\u001b[0m\u001b[0;34m.\u001b[0m\u001b[0mepsilon\u001b[0m\u001b[0;34m,\u001b[0m\u001b[0;34m\u001b[0m\u001b[0;34m\u001b[0m\u001b[0m\n\u001b[0;32m--> 258\u001b[0;31m                 max_iter=self.max_iter, random_seed=random_seed)\n\u001b[0m\u001b[1;32m    259\u001b[0m \u001b[0;34m\u001b[0m\u001b[0m\n\u001b[1;32m    260\u001b[0m         \u001b[0mself\u001b[0m\u001b[0;34m.\u001b[0m\u001b[0m_warn_from_fit_status\u001b[0m\u001b[0;34m(\u001b[0m\u001b[0;34m)\u001b[0m\u001b[0;34m\u001b[0m\u001b[0;34m\u001b[0m\u001b[0m\n",
      "\u001b[0;31mKeyboardInterrupt\u001b[0m: "
     ]
    }
   ],
   "source": [
    "# clf_grid_pca.fit(X_train_pca, y_train_pca)"
   ]
  },
  {
   "cell_type": "code",
   "execution_count": null,
   "metadata": {},
   "outputs": [],
   "source": [
    "# label[\"label\"].value_counts(normalize=True)\n"
   ]
  },
  {
   "cell_type": "code",
   "execution_count": null,
   "metadata": {},
   "outputs": [],
   "source": [
    "# y.value_counts(normalize=True)"
   ]
  },
  {
   "cell_type": "markdown",
   "metadata": {},
   "source": [
    "# KNN"
   ]
  },
  {
   "cell_type": "code",
   "execution_count": 249,
   "metadata": {},
   "outputs": [],
   "source": [
    "neigh_pca = KNeighborsClassifier(n_neighbors=5)"
   ]
  },
  {
   "cell_type": "code",
   "execution_count": 250,
   "metadata": {},
   "outputs": [
    {
     "data": {
      "text/plain": [
       "KNeighborsClassifier(algorithm='auto', leaf_size=30, metric='minkowski',\n",
       "                     metric_params=None, n_jobs=None, n_neighbors=5, p=2,\n",
       "                     weights='uniform')"
      ]
     },
     "execution_count": 250,
     "metadata": {},
     "output_type": "execute_result"
    }
   ],
   "source": [
    "neigh_pca.fit(X_train_pca, y_train_pca)"
   ]
  },
  {
   "cell_type": "code",
   "execution_count": 251,
   "metadata": {},
   "outputs": [],
   "source": [
    "predict_pca = neigh_pca.predict(X_test_pca)"
   ]
  },
  {
   "cell_type": "code",
   "execution_count": 252,
   "metadata": {},
   "outputs": [
    {
     "data": {
      "text/plain": [
       "0.7655657823497564"
      ]
     },
     "execution_count": 252,
     "metadata": {},
     "output_type": "execute_result"
    }
   ],
   "source": [
    "accuracy_score(y_test_pca, predict_pca)"
   ]
  },
  {
   "cell_type": "code",
   "execution_count": 253,
   "metadata": {},
   "outputs": [],
   "source": [
    "neigh_top = KNeighborsClassifier(n_neighbors=5)"
   ]
  },
  {
   "cell_type": "code",
   "execution_count": 254,
   "metadata": {},
   "outputs": [
    {
     "data": {
      "text/plain": [
       "KNeighborsClassifier(algorithm='auto', leaf_size=30, metric='minkowski',\n",
       "                     metric_params=None, n_jobs=None, n_neighbors=5, p=2,\n",
       "                     weights='uniform')"
      ]
     },
     "execution_count": 254,
     "metadata": {},
     "output_type": "execute_result"
    }
   ],
   "source": [
    "neigh_top.fit(X_train_top, y_train_top)"
   ]
  },
  {
   "cell_type": "code",
   "execution_count": 255,
   "metadata": {},
   "outputs": [],
   "source": [
    "predict_top = neigh_top.predict(X_test_top)"
   ]
  },
  {
   "cell_type": "code",
   "execution_count": 256,
   "metadata": {},
   "outputs": [
    {
     "data": {
      "text/plain": [
       "0.6353546291283162"
      ]
     },
     "execution_count": 256,
     "metadata": {},
     "output_type": "execute_result"
    }
   ],
   "source": [
    "accuracy_score(y_test_top, predict_top)"
   ]
  },
  {
   "cell_type": "code",
   "execution_count": null,
   "metadata": {},
   "outputs": [],
   "source": []
  }
 ],
 "metadata": {
  "kernelspec": {
   "display_name": "Python 3",
   "language": "python",
   "name": "python3"
  },
  "language_info": {
   "codemirror_mode": {
    "name": "ipython",
    "version": 3
   },
   "file_extension": ".py",
   "mimetype": "text/x-python",
   "name": "python",
   "nbconvert_exporter": "python",
   "pygments_lexer": "ipython3",
   "version": "3.7.1"
  }
 },
 "nbformat": 4,
 "nbformat_minor": 2
}
